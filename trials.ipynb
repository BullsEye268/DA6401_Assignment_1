{
 "cells": [
  {
   "cell_type": "code",
   "execution_count": 6,
   "metadata": {},
   "outputs": [],
   "source": [
    "import numpy as np\n",
    "import matplotlib.pyplot as plt\n",
    "import pandas as pd\n",
    "import wandb\n",
    "import datetime\n",
    "import time\n",
    "from tqdm import tqdm\n",
    "from keras.datasets import fashion_mnist"
   ]
  },
  {
   "cell_type": "code",
   "execution_count": 14,
   "metadata": {},
   "outputs": [
    {
     "name": "stderr",
     "output_type": "stream",
     "text": [
      "wandb: Using wandb-core as the SDK backend.  Please refer to https://wandb.me/wandb-core for more information.\n",
      "wandb: Currently logged in as: bullseye2608 (bullseye2608-indian-institute-of-technology-madras) to https://api.wandb.ai. Use `wandb login --relogin` to force relogin\n"
     ]
    },
    {
     "data": {
      "text/plain": [
       "True"
      ]
     },
     "execution_count": 14,
     "metadata": {},
     "output_type": "execute_result"
    }
   ],
   "source": [
    "wandb.login()"
   ]
  },
  {
   "cell_type": "code",
   "execution_count": 7,
   "metadata": {},
   "outputs": [],
   "source": [
    "def create_validation_set(X, Y, val_ratio=0.2, seed=None):\n",
    "    \"\"\"\n",
    "    Splits X and Y into training and validation sets.\n",
    "\n",
    "    Parameters:\n",
    "    - X: Input data of shape (N, d).\n",
    "    - Y: Corresponding labels of shape (N, ...).\n",
    "    - val_ratio: Fraction of data to be used for validation (default is 0.2).\n",
    "    - seed: Random seed for reproducibility.\n",
    "\n",
    "    Returns:\n",
    "    - X_train, X_val, Y_train, Y_val: The split datasets.\n",
    "    \"\"\"\n",
    "    if seed is not None:\n",
    "        np.random.seed(seed)\n",
    "    \n",
    "    n_samples = X.shape[0]\n",
    "    # Generate a random permutation of indices\n",
    "    indices = np.random.permutation(n_samples)\n",
    "    # Determine split index based on the validation ratio\n",
    "    split_index = int(n_samples * (1 - val_ratio))\n",
    "    train_indices = indices[:split_index]\n",
    "    val_indices = indices[split_index:]\n",
    "    \n",
    "    X_train = X[train_indices]\n",
    "    Y_train = Y[train_indices]\n",
    "    X_val = X[val_indices]\n",
    "    Y_val = Y[val_indices]\n",
    "    \n",
    "    return X_train, X_val, Y_train, Y_val"
   ]
  },
  {
   "cell_type": "code",
   "execution_count": 66,
   "metadata": {},
   "outputs": [],
   "source": [
    "(X_train, y_train), (X_test, y_test) = fashion_mnist.load_data()\n",
    "(X_train, X_val, y_train, y_val) = create_validation_set(X_train, y_train, val_ratio=0.1, seed=42)\n",
    "\n",
    "class_names = ['T-shirt/top', 'Trouser', 'Pullover', 'Dress', 'Coat', \n",
    "               'Sandal', 'Shirt', 'Sneaker', 'Bag', 'Ankle boot']\n",
    "\n",
    "# Create a DataFrame for the training data\n",
    "X_train_flat = X_train.reshape(X_train.shape[0], -1) / 255.0\n",
    "train_df = pd.DataFrame(X_train_flat)\n",
    "train_df['label'] = y_train\n",
    "train_df['label_name'] = [class_names[label] for label in y_train]\n",
    "\n",
    "# Create a DataFrame for the validation data\n",
    "X_val_flat = X_val.reshape(X_val.shape[0], -1) / 255.0\n",
    "val_df = pd.DataFrame(X_val_flat)\n",
    "val_df['label'] = y_val\n",
    "val_df['label_name'] = [class_names[label] for label in y_val]\n",
    "\n",
    "# Create a DataFrame for the test data\n",
    "X_test_flat = X_test.reshape(X_test.shape[0], -1) / 255.0\n",
    "test_df = pd.DataFrame(X_test_flat)\n",
    "test_df['label'] = y_test\n",
    "test_df['label_name'] = [class_names[label] for label in y_test]"
   ]
  },
  {
   "cell_type": "code",
   "execution_count": 21,
   "metadata": {},
   "outputs": [
    {
     "data": {
      "text/html": [
       "Tracking run with wandb version 0.19.7"
      ],
      "text/plain": [
       "<IPython.core.display.HTML object>"
      ]
     },
     "metadata": {},
     "output_type": "display_data"
    },
    {
     "data": {
      "text/html": [
       "Run data is saved locally in <code>c:\\Users\\DELL\\Desktop\\Coding\\Python\\DL\\wandb\\run-20250227_220535-jr0mzoz8</code>"
      ],
      "text/plain": [
       "<IPython.core.display.HTML object>"
      ]
     },
     "metadata": {},
     "output_type": "display_data"
    },
    {
     "data": {
      "text/html": [
       "Syncing run <strong><a href='https://wandb.ai/bullseye2608-indian-institute-of-technology-madras/my-awesome-project/runs/jr0mzoz8' target=\"_blank\">Images_2025-02-27 22:05:35</a></strong> to <a href='https://wandb.ai/bullseye2608-indian-institute-of-technology-madras/my-awesome-project' target=\"_blank\">Weights & Biases</a> (<a href='https://wandb.me/developer-guide' target=\"_blank\">docs</a>)<br>"
      ],
      "text/plain": [
       "<IPython.core.display.HTML object>"
      ]
     },
     "metadata": {},
     "output_type": "display_data"
    },
    {
     "data": {
      "text/html": [
       " View project at <a href='https://wandb.ai/bullseye2608-indian-institute-of-technology-madras/my-awesome-project' target=\"_blank\">https://wandb.ai/bullseye2608-indian-institute-of-technology-madras/my-awesome-project</a>"
      ],
      "text/plain": [
       "<IPython.core.display.HTML object>"
      ]
     },
     "metadata": {},
     "output_type": "display_data"
    },
    {
     "data": {
      "text/html": [
       " View run at <a href='https://wandb.ai/bullseye2608-indian-institute-of-technology-madras/my-awesome-project/runs/jr0mzoz8' target=\"_blank\">https://wandb.ai/bullseye2608-indian-institute-of-technology-madras/my-awesome-project/runs/jr0mzoz8</a>"
      ],
      "text/plain": [
       "<IPython.core.display.HTML object>"
      ]
     },
     "metadata": {},
     "output_type": "display_data"
    },
    {
     "data": {
      "text/html": [],
      "text/plain": [
       "<IPython.core.display.HTML object>"
      ]
     },
     "metadata": {},
     "output_type": "display_data"
    },
    {
     "data": {
      "text/html": [
       " View run <strong style=\"color:#cdcd00\">Images_2025-02-27 22:05:35</strong> at: <a href='https://wandb.ai/bullseye2608-indian-institute-of-technology-madras/my-awesome-project/runs/jr0mzoz8' target=\"_blank\">https://wandb.ai/bullseye2608-indian-institute-of-technology-madras/my-awesome-project/runs/jr0mzoz8</a><br> View project at: <a href='https://wandb.ai/bullseye2608-indian-institute-of-technology-madras/my-awesome-project' target=\"_blank\">https://wandb.ai/bullseye2608-indian-institute-of-technology-madras/my-awesome-project</a><br>Synced 5 W&B file(s), 10 media file(s), 0 artifact file(s) and 0 other file(s)"
      ],
      "text/plain": [
       "<IPython.core.display.HTML object>"
      ]
     },
     "metadata": {},
     "output_type": "display_data"
    },
    {
     "data": {
      "text/html": [
       "Find logs at: <code>.\\wandb\\run-20250227_220535-jr0mzoz8\\logs</code>"
      ],
      "text/plain": [
       "<IPython.core.display.HTML object>"
      ]
     },
     "metadata": {},
     "output_type": "display_data"
    }
   ],
   "source": [
    "import wandb\n",
    "\n",
    "# Initialize a W&B run\n",
    "wandb.init(\n",
    "    entity=\"bullseye2608-indian-institute-of-technology-madras\",\n",
    "    project=\"my-awesome-project\", \n",
    "    name=\"Images_\"+datetime.datetime.now().strftime('%Y-%m-%d %H:%M:%S')\n",
    ")\n",
    "\n",
    "# Log images to W&B\n",
    "wandb.log({\n",
    "    \"fashion_mnist_samples\": [\n",
    "        wandb.Image(X_train[np.where(y_train == i)[0][0]], caption=class_names[i])\n",
    "        for i in range(10)\n",
    "    ]\n",
    "})\n",
    "\n",
    "wandb.finish()"
   ]
  },
  {
   "cell_type": "code",
   "execution_count": 67,
   "metadata": {},
   "outputs": [],
   "source": [
    "def sigmoid(x):\n",
    "    # For positive values, use standard formula\n",
    "    # For negative values, use a mathematically equivalent but more stable form\n",
    "    mask = x >= 0\n",
    "    result = np.zeros_like(x, dtype=float)\n",
    "    \n",
    "    # For positive inputs: 1/(1+exp(-x))\n",
    "    result[mask] = 1 / (1 + np.exp(-x[mask]))\n",
    "    \n",
    "    # For negative inputs: exp(x)/(1+exp(x))\n",
    "    # This avoids computing exp of large positive numbers\n",
    "    exp_x = np.exp(x[~mask])\n",
    "    result[~mask] = exp_x / (1 + exp_x)\n",
    "    \n",
    "    return result\n",
    "\n",
    "def softmax(X):\n",
    "    # Subtract the max for numerical stability\n",
    "    exps = np.exp(X - np.max(X, axis=-1, keepdims=True))\n",
    "    return exps / np.sum(exps, axis=-1, keepdims=True)\n",
    "\n",
    "def cross_entropy_loss(y_true, y_pred, epsilon=1e-15):\n",
    "    \"\"\"\n",
    "    Calculates the cross-entropy loss between true labels and predicted probabilities.\n",
    "    \n",
    "    Parameters:\n",
    "    -----------\n",
    "    y_true : numpy.ndarray\n",
    "        One-hot encoded true labels or class indices.\n",
    "        If class indices, shape should be (n_samples,)\n",
    "        If one-hot encoded, shape should be (n_samples, n_classes)\n",
    "    y_pred : numpy.ndarray\n",
    "        Predicted probabilities, shape (n_samples, n_classes)\n",
    "    epsilon : float, optional\n",
    "        Small constant added to log to avoid numerical instability\n",
    "        \n",
    "    Returns:\n",
    "    --------\n",
    "    loss : float\n",
    "        Average cross-entropy loss across all samples\n",
    "    \"\"\"\n",
    "    # Convert y_true to one-hot if it's provided as class indices\n",
    "    if len(y_true.shape) == 1 or y_true.shape[1] == 1:\n",
    "        n_samples = len(y_true)\n",
    "        n_classes = y_pred.shape[1]\n",
    "        y_true_one_hot = np.zeros((n_samples, n_classes))\n",
    "        y_true_one_hot[np.arange(n_samples), y_true.astype(int).flatten()] = 1\n",
    "        y_true = y_true_one_hot\n",
    "    \n",
    "    # Clip predictions to avoid log(0)\n",
    "    y_pred = np.clip(y_pred, epsilon, 1 - epsilon)\n",
    "    \n",
    "    # Calculate cross entropy loss\n",
    "    loss = -np.sum(y_true * np.log(y_pred)) / y_true.shape[0]\n",
    "    \n",
    "    return loss\n",
    "\n",
    "\n",
    "def one_hot(y, transpose=False):\n",
    "    one_hot_y = np.zeros((y.size, y.max() + 1))\n",
    "    one_hot_y[np.arange(y.size), y] = 1\n",
    "    if transpose:\n",
    "        one_hot_y = one_hot_y.T\n",
    "    return one_hot_y\n",
    "\n",
    "def sigmoid_derivative(X):\n",
    "    # Ensure X is in a safe range to avoid overflow\n",
    "    X = np.clip(X, 1e-7, 1 - 1e-7)\n",
    "    return X * (1 - X)\n",
    "\n",
    "def plot_error(training_error, validation_error):\n",
    "    plt.figure(figsize=(10, 6))\n",
    "    plt.plot(training_error, label='Training Error')\n",
    "    plt.plot(validation_error, label='Validation Error')\n",
    "    plt.xlabel('Epoch')\n",
    "    plt.ylabel('Cross Entropy Error')\n",
    "    plt.title('Error vs. Epoch')\n",
    "    plt.legend()\n",
    "    plt.show()"
   ]
  },
  {
   "cell_type": "code",
   "execution_count": 10,
   "metadata": {},
   "outputs": [],
   "source": [
    "def initialise_weights_and_biases(input_size=784, num_hidden_layers=2, num_neurons=32, output_size=10):\n",
    "    \"\"\"\n",
    "    Initializes weights and biases for a neural network.\n",
    "\n",
    "    Parameters:\n",
    "    input_size (int): Size of the input layer.\n",
    "    num_hidden_layers (int): Number of hidden layers.\n",
    "    num_neurons (int or iterable): If an integer, the number of neurons in each hidden layer.\n",
    "                                    If iterable, should contain the number of neurons for each hidden layer.\n",
    "    output_size (int): Size of the output layer.\n",
    "\n",
    "    Returns:\n",
    "    tuple: (weights, biases) where weights is a list of numpy arrays representing the weight matrices \n",
    "            and biases is a list of numpy arrays representing the bias vectors.\n",
    "    \"\"\"\n",
    "    weights, biases = [], []\n",
    "    if type(num_neurons) == int:\n",
    "        sizes = [input_size] + [num_neurons] * num_hidden_layers + [output_size]\n",
    "    else:\n",
    "        assert len(num_neurons) == num_hidden_layers\n",
    "        sizes = [input_size] + list(num_neurons) + [output_size]\n",
    "    for i in range(1, num_hidden_layers + 1):\n",
    "        weights.append(np.random.uniform(-0.5, 0.5, (sizes[i], sizes[i - 1])))\n",
    "        biases.append(np.zeros(sizes[i]).reshape(1, -1))\n",
    "    weights.append(np.random.uniform(-0.5, 0.5, (sizes[-1], sizes[-2])))\n",
    "    biases.append(np.zeros(sizes[-1]).reshape(1, -1))\n",
    "    return weights, biases\n",
    "\n",
    "def forward_propagation(X, W, B):\n",
    "    \"\"\"\n",
    "    Performs forward propagation through the neural network.\n",
    "    \n",
    "    Parameters:\n",
    "    X (numpy array): Input data.\n",
    "    W (list): List of weight matrices.\n",
    "    B (list): List of bias vectors.\n",
    "\n",
    "    Returns:\n",
    "    tuple: (A, H) where A is a list of linear combinations at each layer and H is a list of activations at each layer.\n",
    "    \"\"\"\n",
    "    L = len(W)\n",
    "    assert L==len(B) and L>=2\n",
    "    A, H = [], []\n",
    "    \n",
    "    A_temp = np.dot(X, W[0].T) + B[0]\n",
    "    H_temp = sigmoid(A_temp)\n",
    "    \n",
    "    A.append(A_temp)\n",
    "    H.append(H_temp)\n",
    "    \n",
    "    for i in range(1,L-1):\n",
    "        A_temp = np.dot(H[i-1], W[i].T) + B[i]\n",
    "        H_temp = sigmoid(A_temp)\n",
    "        \n",
    "        A.append(A_temp)\n",
    "        H.append(H_temp)\n",
    "    \n",
    "    A_temp = np.dot(H[L-2], W[L-1].T) + B[L-1]\n",
    "    H_temp = softmax(A_temp)\n",
    "    \n",
    "    A.append(A_temp)\n",
    "    H.append(H_temp)\n",
    "    \n",
    "    return A, H\n",
    "\n",
    "def back_propagation_hardcoded(X, y_true, W, A, H):\n",
    "    \"\"\"\n",
    "    Performs backpropagation to compute gradients for a three-layer neural network.\n",
    "\n",
    "    Parameters:\n",
    "    X (numpy array): Input data.\n",
    "    y_true (numpy array): True labels.\n",
    "    W (list): List of weight matrices.\n",
    "    A (list): List of pre-activation values.\n",
    "    H (list): List of activation values.\n",
    "\n",
    "    Returns:\n",
    "    tuple: (dW, dB) where dW is a list of gradients for the weight matrices and dB is a list of gradients for the bias vectors.\n",
    "    \"\"\"\n",
    "    N = X.shape[0]\n",
    "    L = len(W)\n",
    "    assert N==y_true.size and L==len(A) and L==len(H)\n",
    "    \n",
    "    one_hot_y = one_hot(y_true)\n",
    "    y_pred = H[2]\n",
    "    dW, dB = [None] * L, [None] * L\n",
    "    \n",
    "    dA2 = y_pred - one_hot_y # NxK\n",
    "    dW2 = (np.dot(dA2.T, H[1])) / N # KxH2\n",
    "    dB2 = np.sum(dA2, axis=0).reshape(1,-1) / N # 1xK\n",
    "    \n",
    "    dA1 = np.dot(dA2, W[2]) * sigmoid_derivative(A[1]) # NxH2\n",
    "    dW1 = (np.dot(dA1.T, H[0])) / N # H2xH1\n",
    "    dB1 = np.sum(dA1, axis=0).reshape(1,-1) / N # 1xH2\n",
    "    \n",
    "    dA0 = np.dot(dA1, W[1]) * sigmoid_derivative(A[0]) # NxH1\n",
    "    dW0 = (np.dot(dA0.T, X)) / N # H1xD\n",
    "    dB0 = np.sum(dA0, axis=0).reshape(1,-1) / N # 1xH1\n",
    "    \n",
    "    dW = [dW0, dW1, dW2]\n",
    "    dB = [dB0, dB1, dB2]\n",
    "    \n",
    "    return dW, dB\n",
    "    \n",
    "def back_propagation(X, y_true, W, A, H):\n",
    "    \"\"\"\n",
    "    Performs backpropagation to compute gradients for the neural network using reverse layer iteration.\n",
    "\n",
    "    Parameters:\n",
    "    X (numpy array): Input data.\n",
    "    y_true (numpy array): True labels.\n",
    "    W (list): List of weight matrices.\n",
    "    A (list): List of pre-activation values.\n",
    "    H (list): List of activation values.\n",
    "\n",
    "    Returns:\n",
    "    tuple: (dW, dB) where dW is a list of gradients for the weight matrices and dB is a list of gradients for the bias vectors.\n",
    "    \"\"\"\n",
    "    N = X.shape[0]\n",
    "    L = len(W)\n",
    "    assert N==y_true.size and L==len(A) and L==len(H)\n",
    "    \n",
    "    one_hot_y = one_hot(y_true)\n",
    "    y_pred = H[L-1]\n",
    "    dW, dB = [None] * L, [None] * L\n",
    "    \n",
    "    dA = y_pred - one_hot_y # NxK\n",
    "    \n",
    "    for k in range(L-1, 0, -1):\n",
    "        dWk = (np.dot(dA.T, H[k-1])) / N\n",
    "        dBk = np.sum(dA, axis=0).reshape(1,-1) / N\n",
    "        \n",
    "        dA = np.dot(dA, W[k]) * sigmoid_derivative(A[k-1])\n",
    "        \n",
    "        dW[k] = dWk\n",
    "        dB[k] = dBk\n",
    "    \n",
    "    dW0 = (np.dot(dA.T, X)) / N\n",
    "    dB0 = np.sum(dA, axis=0).reshape(1,-1) / N\n",
    "    \n",
    "    dW[0] = dW0\n",
    "    dB[0] = dB0\n",
    "    \n",
    "    \n",
    "    return dW, dB\n",
    " \n",
    "def accuracy(y_true, y_pred):\n",
    "    \"\"\"\n",
    "    Computes the accuracy of predictions.\n",
    "\n",
    "    text\n",
    "    Parameters:\n",
    "    y_true (numpy array): True labels.\n",
    "    y_pred (numpy array): Predicted labels.\n",
    "\n",
    "    Returns:\n",
    "    float: Accuracy value.\n",
    "    \"\"\"\n",
    "    return np.mean(y_true == y_pred)\n",
    "\n",
    "def test_model(X, y_true, W, B):\n",
    "    \"\"\"\n",
    "    Tests the neural network model on the provided data and prints the accuracy.\n",
    "\n",
    "    text\n",
    "    Parameters:\n",
    "    X (numpy array): Input data.\n",
    "    y_true (numpy array): True labels.\n",
    "    W (list): List of weight matrices.\n",
    "    B (list): List of bias vectors.\n",
    "\n",
    "    Returns:\n",
    "    float: Accuracy of the model.\n",
    "    \"\"\"\n",
    "    A, H = forward_propagation(X, W, B)\n",
    "    y_pred = np.argmax(H[-1], axis=1)\n",
    "    print(f'Accuracy: {accuracy(y_true, y_pred)}')\n",
    "    return accuracy(y_true, y_pred)\n",
    "    "
   ]
  },
  {
   "cell_type": "code",
   "execution_count": 68,
   "metadata": {},
   "outputs": [],
   "source": [
    "   \n",
    "def gradient_descent(X_training, y_true, X_val, y_val, W, B, learning_rate=0.01, num_iterations=1000, log_every=100):\n",
    "    \"\"\"\n",
    "    Optimizes weights and biases using gradient descent over a specified number of iterations.\n",
    "\n",
    "    Parameters:\n",
    "    X_training (numpy array): Training input data.\n",
    "    y_true (numpy array): Training true labels.\n",
    "    X_val (numpy array): Validation input data.\n",
    "    y_val (numpy array): Validation true labels.\n",
    "    W (list): List of weight matrices.\n",
    "    B (list): List of bias vectors.\n",
    "    learning_rate (float): Learning rate for gradient descent.\n",
    "    num_iterations (int): Total number of iterations.\n",
    "    log_every (int): Frequency of logging loss.\n",
    "\n",
    "    Returns:\n",
    "    tuple: (W, B, training_error, validation_error) where W and B are updated parameters,\n",
    "            and training_error and validation_error are arrays of loss values logged during training.\n",
    "    \"\"\"\n",
    "    L = len(W)\n",
    "    training_error = np.zeros(num_iterations//log_every)\n",
    "    validation_error = np.zeros(num_iterations//log_every)\n",
    "    for i in range(num_iterations):\n",
    "        A, H = forward_propagation(X_training, W, B)\n",
    "        dW, dB = back_propagation(X_training, y_true, W, A, H)\n",
    "        \n",
    "        for j in range(L):\n",
    "            \n",
    "            W[j] -= learning_rate * dW[j]\n",
    "            B[j] -= learning_rate * dB[j]\n",
    "        \n",
    "        if i%log_every==0:\n",
    "            training_error[i//log_every] = cross_entropy_loss(one_hot(y_true), H[-1])\n",
    "            _, H_val = forward_propagation(X_val, W, B)\n",
    "            validation_error[i//log_every] = cross_entropy_loss(one_hot(y_val), H_val[-1])\n",
    "            print(f'Loss after {i} iterations: {training_error[i//log_every]}')\n",
    "        \n",
    "            \n",
    "    \n",
    "    return W, B, training_error, validation_error\n",
    "\n",
    "def gradient_descent_with_momentum(X_training, y_true, X_val, y_val, W, B, learning_rate=0.01, momentum=0.4, num_iterations=100, log_every=100):\n",
    "    \"\"\"\n",
    "    Optimizes weights and biases using gradient descent with momentum.\n",
    "\n",
    "    Parameters:\n",
    "    X (numpy array): Input data.\n",
    "    y_true (numpy array): True labels for training data.\n",
    "    W (list): List of weight matrices.\n",
    "    B (list): List of bias vectors.\n",
    "    learning_rate (float): Learning rate for updates.\n",
    "    momentum (float): Momentum coefficient.\n",
    "    num_iterations (int): Total number of iterations.\n",
    "    log_every (int): Frequency of logging training and validation loss.\n",
    "\n",
    "    Returns:\n",
    "    tuple: (W, B, training_error, validation_error) where W and B are updated parameters,\n",
    "            and training_error and validation_error are arrays of loss values logged during training.\n",
    "    \"\"\"\n",
    "    L = len(W)\n",
    "    training_error = np.zeros(num_iterations//log_every)\n",
    "    validation_error = np.zeros(num_iterations//log_every)\n",
    "    \n",
    "    velocity_W = [np.zeros_like(W[j]) for j in range(L)]\n",
    "    velocity_B = [np.zeros_like(B[j]) for j in range(L)]\n",
    "    \n",
    "    for i in range(num_iterations):\n",
    "        \n",
    "        A, H = forward_propagation(X_training, W, B)\n",
    "        dW, dB = back_propagation(X_training, y_true, W, A, H)\n",
    "        \n",
    "        for j in range(L):\n",
    "            velocity_W[j] = momentum * velocity_W[j] - learning_rate * dW[j]\n",
    "            velocity_B[j] = momentum * velocity_B[j] - learning_rate * dB[j]\n",
    "            \n",
    "            W[j] += velocity_W[j]\n",
    "            B[j] += velocity_B[j]\n",
    "        \n",
    "        if i % log_every == 0:\n",
    "            training_error[i//log_every] = cross_entropy_loss(one_hot(y_true), H[-1])\n",
    "            _, H_val = forward_propagation(X_val, W, B)\n",
    "            validation_error[i//log_every] = cross_entropy_loss(one_hot(y_val), H_val[-1])\n",
    "            print(f'Loss after {i} iterations: {training_error[i//log_every]}')\n",
    "            \n",
    "    return W, B, training_error, validation_error\n",
    "\n",
    "def nesterov_accelerated_gradient(X_training, y_true, X_val, y_val, W, B, learning_rate=0.01, momentum=0.9, num_iterations=100, log_every=100):\n",
    "    L = len(W)\n",
    "    \n",
    "    velocity_W = [np.zeros_like(W[j]) for j in range(L)]\n",
    "    velocity_B = [np.zeros_like(B[j]) for j in range(L)]\n",
    "    \n",
    "    training_error = np.zeros(num_iterations//log_every)\n",
    "    validation_error = np.zeros(num_iterations//log_every)\n",
    "    \n",
    "    for i in range(num_iterations):\n",
    "        W_lookahead = [None] * len(W)\n",
    "        B_lookahead = [None] * len(B)\n",
    "        \n",
    "        for j in range(L):\n",
    "            W_lookahead[j] = W[j] + momentum * velocity_W[j]\n",
    "            B_lookahead[j] = B[j] + momentum * velocity_B[j]\n",
    "        \n",
    "        A, H = forward_propagation(X_training, W_lookahead, B_lookahead)\n",
    "        dW, dB = back_propagation(X_training, y_true, W_lookahead, A, H)\n",
    "        \n",
    "        for j in range(L):\n",
    "            velocity_W[j] = momentum * velocity_W[j] - learning_rate * dW[j]\n",
    "            velocity_B[j] = momentum * velocity_B[j] - learning_rate * dB[j]\n",
    "            \n",
    "            W[j] += velocity_W[j]\n",
    "            B[j] += velocity_B[j]\n",
    "        \n",
    "        if i % log_every == 0:\n",
    "            training_error[i//log_every] = cross_entropy_loss(one_hot(y_true), H[-1])\n",
    "            _, H_val = forward_propagation(X_val, W, B)\n",
    "            validation_error[i//log_every] = cross_entropy_loss(one_hot(y_val), H_val[-1])\n",
    "            print(f'Loss after {i} iterations: {training_error[i//log_every]}')\n",
    "    \n",
    "    return W, B, training_error, validation_error\n",
    "\n",
    "def rmsprop(X_training, y_true, X_val, y_val, W, B, learning_rate=0.001, decay_rate=0.9, epsilon=1e-8, num_iterations=100, log_every=100):\n",
    "    L = len(W)\n",
    "    \n",
    "    cache_W = [np.zeros_like(W[j]) for j in range(L)]\n",
    "    cache_B = [np.zeros_like(B[j]) for j in range(L)]\n",
    "    \n",
    "    training_error = np.zeros(num_iterations//log_every)\n",
    "    validation_error = np.zeros(num_iterations//log_every)\n",
    "    \n",
    "    for i in range(num_iterations):\n",
    "        A, H = forward_propagation(X_training, W, B)\n",
    "        dW, dB = back_propagation(X_training, y_true, W, A, H)\n",
    "        \n",
    "        for j in range(L):\n",
    "            cache_W[j] = decay_rate * cache_W[j] + (1 - decay_rate) * np.square(dW[j])\n",
    "            cache_B[j] = decay_rate * cache_B[j] + (1 - decay_rate) * np.square(dB[j])\n",
    "            \n",
    "            W[j] -= learning_rate * dW[j] / (np.sqrt(cache_W[j]) + epsilon)\n",
    "            B[j] -= learning_rate * dB[j] / (np.sqrt(cache_B[j]) + epsilon)\n",
    "        \n",
    "        if i % log_every == 0:\n",
    "            training_error[i//log_every] = cross_entropy_loss(one_hot(y_true), H[-1])\n",
    "            _, H_val = forward_propagation(X_val, W, B)\n",
    "            validation_error[i//log_every] = cross_entropy_loss(one_hot(y_val), H_val[-1])\n",
    "            print(f'Loss after {i} iterations: {training_error[i//log_every]}')\n",
    "    \n",
    "    return W, B, training_error, validation_error\n",
    "\n",
    "def adam(X_training, y_true, X_val, y_val, W, B, learning_rate=0.001, beta1=0.9, beta2=0.999, epsilon=1e-8, num_iterations=100, log_every=100):\n",
    "    L = len(W)\n",
    "    \n",
    "    m_W = [np.zeros_like(W[j]) for j in range(L)]  \n",
    "    m_B = [np.zeros_like(B[j]) for j in range(L)]\n",
    "    \n",
    "    v_W = [np.zeros_like(W[j]) for j in range(L)]  \n",
    "    v_B = [np.zeros_like(B[j]) for j in range(L)]\n",
    "    \n",
    "    training_error = np.zeros(num_iterations//log_every)\n",
    "    validation_error = np.zeros(num_iterations//log_every)\n",
    "    \n",
    "    for i in range(num_iterations):\n",
    "        t = i + 1  \n",
    "        \n",
    "        A, H = forward_propagation(X_training, W, B)\n",
    "        dW, dB = back_propagation(X_training, y_true, W, A, H)\n",
    "        \n",
    "        for j in range(L):\n",
    "            m_W[j] = beta1 * m_W[j] + (1 - beta1) * dW[j]\n",
    "            v_W[j] = beta2 * v_W[j] + (1 - beta2) * np.square(dW[j])\n",
    "            \n",
    "            m_W_corrected = m_W[j] / (1 - beta1**t)\n",
    "            v_W_corrected = v_W[j] / (1 - beta2**t)\n",
    "            \n",
    "            W[j] -= learning_rate * m_W_corrected / (np.sqrt(v_W_corrected) + epsilon)\n",
    "            \n",
    "            m_B[j] = beta1 * m_B[j] + (1 - beta1) * dB[j]\n",
    "            v_B[j] = beta2 * v_B[j] + (1 - beta2) * np.square(dB[j])\n",
    "            \n",
    "            m_B_corrected = m_B[j] / (1 - beta1**t)\n",
    "            v_B_corrected = v_B[j] / (1 - beta2**t)\n",
    "            \n",
    "            B[j] -= learning_rate * m_B_corrected / (np.sqrt(v_B_corrected) + epsilon)\n",
    "        \n",
    "        if i % log_every == 0:\n",
    "            training_error[i//log_every] = cross_entropy_loss(one_hot(y_true), H[-1])\n",
    "            _, H_val = forward_propagation(X_val, W, B)\n",
    "            validation_error[i//log_every] = cross_entropy_loss(one_hot(y_val), H_val[-1])\n",
    "            print(f'Loss after {i} iterations: {training_error[i//log_every]}')\n",
    "    \n",
    "    return W, B, training_error, validation_error\n",
    "\n",
    "def nadam(X_training, y_true, X_val, y_val, W, B, learning_rate=0.001, beta1=0.9, beta2=0.999, epsilon=1e-8, num_iterations=100, log_every=100):\n",
    "    L = len(W)\n",
    "    \n",
    "    m_W = [np.zeros_like(W[j]) for j in range(L)] \n",
    "    m_B = [np.zeros_like(B[j]) for j in range(L)]\n",
    "    \n",
    "    v_W = [np.zeros_like(W[j]) for j in range(L)] \n",
    "    v_B = [np.zeros_like(B[j]) for j in range(L)]\n",
    "    \n",
    "    training_error = np.zeros(num_iterations//log_every)\n",
    "    validation_error = np.zeros(num_iterations//log_every)\n",
    "    \n",
    "    for i in range(num_iterations):\n",
    "        t = i + 1  \n",
    "        \n",
    "        A, H = forward_propagation(X_training, W, B)\n",
    "        dW, dB = back_propagation(X_training, y_true, W, A, H)\n",
    "        \n",
    "        for j in range(L):\n",
    "            m_W[j] = beta1 * m_W[j] + (1 - beta1) * dW[j]\n",
    "            v_W[j] = beta2 * v_W[j] + (1 - beta2) * np.square(dW[j])\n",
    "            \n",
    "            m_W_corrected = m_W[j] / (1 - beta1**t)\n",
    "            v_W_corrected = v_W[j] / (1 - beta2**t)\n",
    "            \n",
    "            m_W_nesterov = beta1 * m_W_corrected + (1 - beta1) * dW[j] / (1 - beta1**t)\n",
    "            \n",
    "            W[j] -= learning_rate * m_W_nesterov / (np.sqrt(v_W_corrected) + epsilon)\n",
    "            \n",
    "            m_B[j] = beta1 * m_B[j] + (1 - beta1) * dB[j]\n",
    "            v_B[j] = beta2 * v_B[j] + (1 - beta2) * np.square(dB[j])\n",
    "            \n",
    "            m_B_corrected = m_B[j] / (1 - beta1**t)\n",
    "            v_B_corrected = v_B[j] / (1 - beta2**t)\n",
    "            \n",
    "            m_B_nesterov = beta1 * m_B_corrected + (1 - beta1) * dB[j] / (1 - beta1**t)\n",
    "            \n",
    "            B[j] -= learning_rate * m_B_nesterov / (np.sqrt(v_B_corrected) + epsilon)\n",
    "        \n",
    "        if i % log_every == 0:\n",
    "            training_error[i//log_every] = cross_entropy_loss(one_hot(y_true), H[-1])\n",
    "            _, H_val = forward_propagation(X_val, W, B)\n",
    "            validation_error[i//log_every] = cross_entropy_loss(one_hot(y_val), H_val[-1])\n",
    "            print(f'{i} iterations')\n",
    "            print(f'Training Loss: {training_error[i//log_every]}')\n",
    "            print(f'Validation Loss: {validation_error[i//log_every]}')\n",
    "    \n",
    "    return W, B, training_error, validation_error"
   ]
  },
  {
   "cell_type": "code",
   "execution_count": 69,
   "metadata": {},
   "outputs": [],
   "source": [
    "# Testing Forward Propagation and Back Propagation\n",
    "\n",
    "num_trials = 19\n",
    "\n",
    "W, B = initialise_weights_and_biases(input_size=784, \n",
    "                            num_hidden_layers=1, \n",
    "                            num_neurons=41, \n",
    "                            output_size=10)\n",
    "\n",
    "\n",
    "A, H = forward_propagation(X=X_train_flat[:num_trials,:], W=W, B=B)\n",
    "\n",
    "dW, dB = back_propagation(X=X_train_flat[:num_trials,:], y_true=y_train[:num_trials], W=W, A=A, H=H)"
   ]
  },
  {
   "cell_type": "code",
   "execution_count": 41,
   "metadata": {},
   "outputs": [
    {
     "name": "stdout",
     "output_type": "stream",
     "text": [
      "Loss after 0 iterations: 2.6043603318994553\n",
      "Loss after 100 iterations: 2.1607028811476057\n",
      "Loss after 200 iterations: 2.0002504646008483\n",
      "Loss after 300 iterations: 1.8525557771278918\n"
     ]
    },
    {
     "ename": "KeyboardInterrupt",
     "evalue": "",
     "output_type": "error",
     "traceback": [
      "\u001b[1;31m---------------------------------------------------------------------------\u001b[0m",
      "\u001b[1;31mKeyboardInterrupt\u001b[0m                         Traceback (most recent call last)",
      "Cell \u001b[1;32mIn[41], line 8\u001b[0m\n\u001b[0;32m      1\u001b[0m num_trials \u001b[38;5;241m=\u001b[39m \u001b[38;5;241m2000\u001b[39m\n\u001b[0;32m      3\u001b[0m W, B \u001b[38;5;241m=\u001b[39m initialise_weights_and_biases(input_size\u001b[38;5;241m=\u001b[39m\u001b[38;5;241m784\u001b[39m, \n\u001b[0;32m      4\u001b[0m                             num_hidden_layers\u001b[38;5;241m=\u001b[39m\u001b[38;5;241m2\u001b[39m, \n\u001b[0;32m      5\u001b[0m                             num_neurons\u001b[38;5;241m=\u001b[39m\u001b[38;5;241m32\u001b[39m, \n\u001b[0;32m      6\u001b[0m                             output_size\u001b[38;5;241m=\u001b[39m\u001b[38;5;241m10\u001b[39m)\n\u001b[1;32m----> 8\u001b[0m W_new, B_new, training_error, validation_error \u001b[38;5;241m=\u001b[39m \u001b[43mgradient_descent\u001b[49m\u001b[43m(\u001b[49m\u001b[43mX_training\u001b[49m\u001b[38;5;241;43m=\u001b[39;49m\u001b[43mX_train_flat\u001b[49m\u001b[43m[\u001b[49m\u001b[43m:\u001b[49m\u001b[43mnum_trials\u001b[49m\u001b[43m,\u001b[49m\u001b[43m:\u001b[49m\u001b[43m]\u001b[49m\u001b[43m,\u001b[49m\n\u001b[0;32m      9\u001b[0m \u001b[43m                                                                \u001b[49m\u001b[43my_true\u001b[49m\u001b[38;5;241;43m=\u001b[39;49m\u001b[43my_train\u001b[49m\u001b[43m[\u001b[49m\u001b[43m:\u001b[49m\u001b[43mnum_trials\u001b[49m\u001b[43m]\u001b[49m\u001b[43m,\u001b[49m\n\u001b[0;32m     10\u001b[0m \u001b[43m                                                                \u001b[49m\u001b[43mX_val\u001b[49m\u001b[38;5;241;43m=\u001b[39;49m\u001b[43mX_val_flat\u001b[49m\u001b[43m,\u001b[49m\n\u001b[0;32m     11\u001b[0m \u001b[43m                                                                \u001b[49m\u001b[43my_val\u001b[49m\u001b[38;5;241;43m=\u001b[39;49m\u001b[43my_val\u001b[49m\u001b[43m,\u001b[49m\n\u001b[0;32m     12\u001b[0m \u001b[43m                                                                \u001b[49m\u001b[43mW\u001b[49m\u001b[38;5;241;43m=\u001b[39;49m\u001b[43mW\u001b[49m\u001b[43m,\u001b[49m\u001b[43m \u001b[49m\u001b[43mB\u001b[49m\u001b[38;5;241;43m=\u001b[39;49m\u001b[43mB\u001b[49m\u001b[43m,\u001b[49m\n\u001b[0;32m     13\u001b[0m \u001b[43m                                                                \u001b[49m\u001b[43mlearning_rate\u001b[49m\u001b[38;5;241;43m=\u001b[39;49m\u001b[38;5;241;43m0.1\u001b[39;49m\u001b[43m,\u001b[49m\n\u001b[0;32m     14\u001b[0m \u001b[43m                                                                \u001b[49m\u001b[43mnum_iterations\u001b[49m\u001b[38;5;241;43m=\u001b[39;49m\u001b[38;5;241;43m5000\u001b[39;49m\u001b[43m,\u001b[49m\n\u001b[0;32m     15\u001b[0m \u001b[43m                                                                \u001b[49m\u001b[43mlog_every\u001b[49m\u001b[38;5;241;43m=\u001b[39;49m\u001b[38;5;241;43m100\u001b[39;49m\u001b[43m)\u001b[49m\n",
      "Cell \u001b[1;32mIn[37], line 170\u001b[0m, in \u001b[0;36mgradient_descent\u001b[1;34m(X_training, y_true, X_val, y_val, W, B, learning_rate, num_iterations, log_every)\u001b[0m\n\u001b[0;32m    168\u001b[0m validation_error \u001b[38;5;241m=\u001b[39m np\u001b[38;5;241m.\u001b[39mzeros(num_iterations\u001b[38;5;241m/\u001b[39m\u001b[38;5;241m/\u001b[39mlog_every)\n\u001b[0;32m    169\u001b[0m \u001b[38;5;28;01mfor\u001b[39;00m i \u001b[38;5;129;01min\u001b[39;00m \u001b[38;5;28mrange\u001b[39m(num_iterations):\n\u001b[1;32m--> 170\u001b[0m     A, H \u001b[38;5;241m=\u001b[39m \u001b[43mforward_propagation\u001b[49m\u001b[43m(\u001b[49m\u001b[43mX_training\u001b[49m\u001b[43m,\u001b[49m\u001b[43m \u001b[49m\u001b[43mW\u001b[49m\u001b[43m,\u001b[49m\u001b[43m \u001b[49m\u001b[43mB\u001b[49m\u001b[43m)\u001b[49m\n\u001b[0;32m    171\u001b[0m     dW, dB \u001b[38;5;241m=\u001b[39m back_propagation(X_training, y_true, W, A, H)\n\u001b[0;32m    173\u001b[0m     \u001b[38;5;28;01mfor\u001b[39;00m j \u001b[38;5;129;01min\u001b[39;00m \u001b[38;5;28mrange\u001b[39m(L):\n",
      "Cell \u001b[1;32mIn[37], line 58\u001b[0m, in \u001b[0;36mforward_propagation\u001b[1;34m(X, W, B)\u001b[0m\n\u001b[0;32m     55\u001b[0m     A\u001b[38;5;241m.\u001b[39mappend(A_temp)\n\u001b[0;32m     56\u001b[0m     H\u001b[38;5;241m.\u001b[39mappend(H_temp)\n\u001b[1;32m---> 58\u001b[0m A_temp \u001b[38;5;241m=\u001b[39m \u001b[43mnp\u001b[49m\u001b[38;5;241;43m.\u001b[39;49m\u001b[43mdot\u001b[49m\u001b[43m(\u001b[49m\u001b[43mH\u001b[49m\u001b[43m[\u001b[49m\u001b[43mL\u001b[49m\u001b[38;5;241;43m-\u001b[39;49m\u001b[38;5;241;43m2\u001b[39;49m\u001b[43m]\u001b[49m\u001b[43m,\u001b[49m\u001b[43m \u001b[49m\u001b[43mW\u001b[49m\u001b[43m[\u001b[49m\u001b[43mL\u001b[49m\u001b[38;5;241;43m-\u001b[39;49m\u001b[38;5;241;43m1\u001b[39;49m\u001b[43m]\u001b[49m\u001b[38;5;241;43m.\u001b[39;49m\u001b[43mT\u001b[49m\u001b[43m)\u001b[49m \u001b[38;5;241m+\u001b[39m B[L\u001b[38;5;241m-\u001b[39m\u001b[38;5;241m1\u001b[39m]\n\u001b[0;32m     59\u001b[0m H_temp \u001b[38;5;241m=\u001b[39m softmax(A_temp)\n\u001b[0;32m     61\u001b[0m A\u001b[38;5;241m.\u001b[39mappend(A_temp)\n",
      "\u001b[1;31mKeyboardInterrupt\u001b[0m: "
     ]
    }
   ],
   "source": [
    "num_trials = 2000\n",
    "\n",
    "W, B = initialise_weights_and_biases(input_size=784, \n",
    "                            num_hidden_layers=2, \n",
    "                            num_neurons=32, \n",
    "                            output_size=10)\n",
    "\n",
    "W_new, B_new, training_error, validation_error = gradient_descent(X_training=X_train_flat[:num_trials,:],\n",
    "                                                                y_true=y_train[:num_trials],\n",
    "                                                                X_val=X_val_flat,\n",
    "                                                                y_val=y_val,\n",
    "                                                                W=W, B=B,\n",
    "                                                                learning_rate=0.1,\n",
    "                                                                num_iterations=5000,\n",
    "                                                                log_every=100)\n"
   ]
  },
  {
   "cell_type": "code",
   "execution_count": 26,
   "metadata": {},
   "outputs": [
    {
     "data": {
      "image/png": "[encoded data removed]",
      "text/plain": [
       "<Figure size 1000x600 with 1 Axes>"
      ]
     },
     "metadata": {},
     "output_type": "display_data"
    }
   ],
   "source": [
    "plt.figure(figsize=(10, 6))\n",
    "plt.title('Training and Validation Error')\n",
    "plt.plot(training_error, label='Training error', marker='o')\n",
    "plt.plot(validation_error, label='Validation error', marker='x')\n",
    "plt.xlabel('Iterations')\n",
    "plt.ylabel('Cross-entropy loss')\n",
    "plt.legend()\n",
    "plt.show()"
   ]
  },
  {
   "cell_type": "code",
   "execution_count": 70,
   "metadata": {},
   "outputs": [
    {
     "name": "stdout",
     "output_type": "stream",
     "text": [
      "Accuracy: 0.1095\n"
     ]
    },
    {
     "data": {
      "text/plain": [
       "0.1095"
      ]
     },
     "execution_count": 70,
     "metadata": {},
     "output_type": "execute_result"
    }
   ],
   "source": [
    "num_trials = 2000\n",
    "\n",
    "W, B = initialise_weights_and_biases(input_size=784, \n",
    "                            num_hidden_layers=1, \n",
    "                            num_neurons=32, \n",
    "                            output_size=10)\n",
    "\n",
    "test_model(X=X_test_flat, y_true=y_test, W=W, B=B)"
   ]
  },
  {
   "cell_type": "code",
   "execution_count": 74,
   "metadata": {},
   "outputs": [
    {
     "name": "stdout",
     "output_type": "stream",
     "text": [
      "Loss after 0 iterations: 0.42066934047524207\n",
      "Loss after 100 iterations: 0.41927561513051903\n",
      "Loss after 200 iterations: 0.4177960027501044\n",
      "Loss after 300 iterations: 0.416347959563622\n",
      "Loss after 400 iterations: 0.41491774355763517\n",
      "Loss after 500 iterations: 0.4135140758968602\n",
      "Loss after 600 iterations: 0.4121553134010769\n",
      "Loss after 700 iterations: 0.41082791734714336\n",
      "Loss after 800 iterations: 0.4095261177234566\n",
      "Loss after 900 iterations: 0.4082584694471631\n",
      "Loss after 1000 iterations: 0.4070222388327439\n",
      "Loss after 1100 iterations: 0.4058192889060566\n",
      "Loss after 1200 iterations: 0.4046463529424896\n",
      "Loss after 1300 iterations: 0.403498769743881\n",
      "Loss after 1400 iterations: 0.40237709460537746\n",
      "Loss after 1500 iterations: 0.4012843105986053\n",
      "Loss after 1600 iterations: 0.40021518213524687\n",
      "Loss after 1700 iterations: 0.39916851936392594\n",
      "Loss after 1800 iterations: 0.39814295273639827\n",
      "Loss after 1900 iterations: 0.39714053081132383\n",
      "Loss after 2000 iterations: 0.3961583956844574\n",
      "Loss after 2100 iterations: 0.39519639115224137\n",
      "Loss after 2200 iterations: 0.39425269382087025\n",
      "Loss after 2300 iterations: 0.39332617471085907\n",
      "Loss after 2400 iterations: 0.3924150190798944\n",
      "Loss after 2500 iterations: 0.39151934262891924\n",
      "Loss after 2600 iterations: 0.3906381593851245\n",
      "Loss after 2700 iterations: 0.3897705753841812\n",
      "Loss after 2800 iterations: 0.38891608339811784\n",
      "Loss after 2900 iterations: 0.38807474741755354\n",
      "Loss after 3000 iterations: 0.38724756258056436\n",
      "Loss after 3100 iterations: 0.3864345570405616\n",
      "Loss after 3200 iterations: 0.3856351329547663\n",
      "Loss after 3300 iterations: 0.3848497397648761\n",
      "Loss after 3400 iterations: 0.384077617288159\n",
      "Loss after 3500 iterations: 0.38331955227541986\n",
      "Loss after 3600 iterations: 0.38257443091213345\n",
      "Loss after 3700 iterations: 0.3818412516209384\n",
      "Loss after 3800 iterations: 0.3811207956835342\n",
      "Loss after 3900 iterations: 0.3804132296059974\n"
     ]
    }
   ],
   "source": [
    "W_new, B_new, training_error, validation_error = nesterov_accelerated_gradient(X_training=X_train_flat,\n",
    "                                                                            y_true=y_train,\n",
    "                                                                            X_val=X_val_flat, y_val=y_val,\n",
    "                                                                            W=W, B=B,\n",
    "                                                                            learning_rate=0.05,\n",
    "                                                                            momentum=0.9,\n",
    "                                                                            num_iterations=4000,\n",
    "                                                                            log_every=100)"
   ]
  },
  {
   "cell_type": "code",
   "execution_count": 72,
   "metadata": {},
   "outputs": [
    {
     "name": "stdout",
     "output_type": "stream",
     "text": [
      "Accuracy: 0.8396666666666667\n"
     ]
    },
    {
     "data": {
      "text/plain": [
       "0.8396666666666667"
      ]
     },
     "execution_count": 72,
     "metadata": {},
     "output_type": "execute_result"
    }
   ],
   "source": [
    "test_model(X=X_val_flat, y_true=y_val, W=W_new, B=B_new)"
   ]
  },
  {
   "cell_type": "code",
   "execution_count": 73,
   "metadata": {},
   "outputs": [
    {
     "data": {
      "image/png": "[encoded data removed]",
      "text/plain": [
       "<Figure size 1000x600 with 1 Axes>"
      ]
     },
     "metadata": {},
     "output_type": "display_data"
    }
   ],
   "source": [
    "plot_error(training_error, validation_error)"
   ]
  },
  {
   "cell_type": "code",
   "execution_count": null,
   "metadata": {},
   "outputs": [],
   "source": []
  }
 ],
 "metadata": {
  "kernelspec": {
   "display_name": "RL",
   "language": "python",
   "name": "python3"
  },
  "language_info": {
   "codemirror_mode": {
    "name": "ipython",
    "version": 3
   },
   "file_extension": ".py",
   "mimetype": "text/x-python",
   "name": "python",
   "nbconvert_exporter": "python",
   "pygments_lexer": "ipython3",
   "version": "3.10.14"
  }
 },
 "nbformat": 4,
 "nbformat_minor": 2
}
