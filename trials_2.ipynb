{
 "cells": [
  {
   "cell_type": "code",
   "execution_count": 1,
   "metadata": {},
   "outputs": [],
   "source": [
    "import numpy as np\n",
    "import matplotlib.pyplot as plt\n",
    "import pandas as pd\n",
    "import wandb\n",
    "\n",
    "from utils.neural_network import NeuralNetwork\n",
    "from utils.wandb_classes import WandbTrainer\n",
    "from utils.helper_functions import get_optimizer, load_data"
   ]
  },
  {
   "cell_type": "code",
   "execution_count": 2,
   "metadata": {},
   "outputs": [
    {
     "name": "stderr",
     "output_type": "stream",
     "text": [
      "wandb: Using wandb-core as the SDK backend.  Please refer to https://wandb.me/wandb-core for more information.\n",
      "wandb: Currently logged in as: bullseye2608 (bullseye2608-indian-institute-of-technology-madras) to https://api.wandb.ai. Use `wandb login --relogin` to force relogin\n"
     ]
    },
    {
     "data": {
      "text/plain": [
       "True"
      ]
     },
     "execution_count": 2,
     "metadata": {},
     "output_type": "execute_result"
    }
   ],
   "source": [
    "wandb.login()"
   ]
  },
  {
   "cell_type": "code",
   "execution_count": 3,
   "metadata": {},
   "outputs": [],
   "source": [
    "X_train, y_train, X_val, y_val, X_test, y_test = load_data('fashion_mnist')"
   ]
  },
  {
   "cell_type": "markdown",
   "metadata": {},
   "source": [
    "### Trials"
   ]
  },
  {
   "cell_type": "code",
   "execution_count": 4,
   "metadata": {},
   "outputs": [
    {
     "name": "stdout",
     "output_type": "stream",
     "text": [
      "0.125000\n"
     ]
    }
   ],
   "source": [
    "nn = NeuralNetwork(layer_sizes=[784, 128, 128, 128, 10], \n",
    "                   activation_functions=['relu', 'relu', 'relu', 'softmax'], \n",
    "                   weight_init='xavier',\n",
    "                   weight_decay=0.0, LOG_EACH=True)\n",
    "\n",
    "H, A = nn.forward_propagation(X_train)\n",
    "loss = nn.compute_loss(H[-1], y_train)\n",
    "print(f'{nn.compute_accuracy(X_val, y_val) :>.6f}')\n",
    "\n",
    "nn.set_optimizer({'name':'nadam', 'learning_rate':0.001, 'epsilon':1e-7, 'beta1':0.95})"
   ]
  },
  {
   "cell_type": "code",
   "execution_count": 5,
   "metadata": {},
   "outputs": [
    {
     "name": "stdout",
     "output_type": "stream",
     "text": [
      "Running NadamOptimizer self.learning_rate = 0.001 self.beta1 = 0.95 self.beta2 = 0.999 self.epsilon = 1e-07\n",
      "Epoch 1/5, Iteration   0/844 --> Train Loss: 2.26874, Val Loss: 2.17015\n",
      "---------------------------------------- DONE ----------------------------------------\n",
      "0.8787\n"
     ]
    }
   ],
   "source": [
    "num_trial_datapoints = 54000\n",
    "\n",
    "LOG_EACH = True\n",
    "\n",
    "nn.train(X_train[:num_trial_datapoints], \n",
    "         y_train[:num_trial_datapoints], \n",
    "         X_val, y_val, \n",
    "         batch_size=64, \n",
    "         num_epochs=5, \n",
    "         loss_type='cross_entropy', \n",
    "         log_every=5000)\n",
    "\n",
    "LOG_EACH = False\n",
    "\n",
    "print('--'*20,'DONE','--'*20)\n",
    "print(nn.compute_accuracy(X_test, y_test))"
   ]
  },
  {
   "cell_type": "markdown",
   "metadata": {},
   "source": [
    "### WANDB SWEEP"
   ]
  },
  {
   "cell_type": "code",
   "execution_count": 6,
   "metadata": {},
   "outputs": [],
   "source": [
    "# # Create New sweep\n",
    "# import yaml\n",
    "\n",
    "# with open(\"sweep_config.yaml\", \"r\") as file:\n",
    "#         sweep_config = yaml.safe_load(file)\n",
    "\n",
    "# sweep_id = wandb.sweep(sweep_config, \n",
    "#                        entity=\"bullseye2608-indian-institute-of-technology-madras\",\n",
    "#                        project=\"fashion_mnist_hp_search\")\n",
    "\n",
    "# # Run the sweep\n",
    "# wandb.agent(sweep_id, wandb_sweep_helper_function, count=60)"
   ]
  },
  {
   "cell_type": "code",
   "execution_count": null,
   "metadata": {},
   "outputs": [
    {
     "name": "stderr",
     "output_type": "stream",
     "text": [
      "wandb: Agent Starting Run: yvvmjcpv with config:\n",
      "wandb: \tactivation: relu\n",
      "wandb: \tbatch_size: 32\n",
      "wandb: \tepochs: 10\n",
      "wandb: \thidden_layers: 3\n",
      "wandb: \thidden_size: 64\n",
      "wandb: \tlearning_rate: 0.001\n",
      "wandb: \toptimizer: nadam\n",
      "wandb: \tweight_decay: 0.0005\n",
      "wandb: \tweight_init: xavier\n"
     ]
    },
    {
     "data": {
      "text/html": [
       "Tracking run with wandb version 0.19.7"
      ],
      "text/plain": [
       "<IPython.core.display.HTML object>"
      ]
     },
     "metadata": {},
     "output_type": "display_data"
    },
    {
     "data": {
      "text/html": [
       "Run data is saved locally in <code>c:\\Users\\DELL\\Desktop\\Coding\\Python\\DL\\wandb\\run-20250301_214327-yvvmjcpv</code>"
      ],
      "text/plain": [
       "<IPython.core.display.HTML object>"
      ]
     },
     "metadata": {},
     "output_type": "display_data"
    },
    {
     "data": {
      "text/html": [
       "Syncing run <strong><a href='https://wandb.ai/bullseye2608-indian-institute-of-technology-madras/fashion_mnist_hp_search/runs/yvvmjcpv' target=\"_blank\">hearty-sweep-278</a></strong> to <a href='https://wandb.ai/bullseye2608-indian-institute-of-technology-madras/fashion_mnist_hp_search' target=\"_blank\">Weights & Biases</a> (<a href='https://wandb.me/developer-guide' target=\"_blank\">docs</a>)<br>Sweep page: <a href='https://wandb.ai/bullseye2608-indian-institute-of-technology-madras/fashion_mnist_hp_search/sweeps/vhbqpquu' target=\"_blank\">https://wandb.ai/bullseye2608-indian-institute-of-technology-madras/fashion_mnist_hp_search/sweeps/vhbqpquu</a>"
      ],
      "text/plain": [
       "<IPython.core.display.HTML object>"
      ]
     },
     "metadata": {},
     "output_type": "display_data"
    },
    {
     "data": {
      "text/html": [
       " View project at <a href='https://wandb.ai/bullseye2608-indian-institute-of-technology-madras/fashion_mnist_hp_search' target=\"_blank\">https://wandb.ai/bullseye2608-indian-institute-of-technology-madras/fashion_mnist_hp_search</a>"
      ],
      "text/plain": [
       "<IPython.core.display.HTML object>"
      ]
     },
     "metadata": {},
     "output_type": "display_data"
    },
    {
     "data": {
      "text/html": [
       " View sweep at <a href='https://wandb.ai/bullseye2608-indian-institute-of-technology-madras/fashion_mnist_hp_search/sweeps/vhbqpquu' target=\"_blank\">https://wandb.ai/bullseye2608-indian-institute-of-technology-madras/fashion_mnist_hp_search/sweeps/vhbqpquu</a>"
      ],
      "text/plain": [
       "<IPython.core.display.HTML object>"
      ]
     },
     "metadata": {},
     "output_type": "display_data"
    },
    {
     "data": {
      "text/html": [
       " View run at <a href='https://wandb.ai/bullseye2608-indian-institute-of-technology-madras/fashion_mnist_hp_search/runs/yvvmjcpv' target=\"_blank\">https://wandb.ai/bullseye2608-indian-institute-of-technology-madras/fashion_mnist_hp_search/runs/yvvmjcpv</a>"
      ],
      "text/plain": [
       "<IPython.core.display.HTML object>"
      ]
     },
     "metadata": {},
     "output_type": "display_data"
    },
    {
     "data": {
      "text/html": [],
      "text/plain": [
       "<IPython.core.display.HTML object>"
      ]
     },
     "metadata": {},
     "output_type": "display_data"
    },
    {
     "data": {
      "text/html": [
       "<br>    <style><br>        .wandb-row {<br>            display: flex;<br>            flex-direction: row;<br>            flex-wrap: wrap;<br>            justify-content: flex-start;<br>            width: 100%;<br>        }<br>        .wandb-col {<br>            display: flex;<br>            flex-direction: column;<br>            flex-basis: 100%;<br>            flex: 1;<br>            padding: 10px;<br>        }<br>    </style><br><div class=\"wandb-row\"><div class=\"wandb-col\"><h3>Run history:</h3><br/><table class=\"wandb\"><tr><td>epoch</td><td>▁▂▃▃▄▅▆▆▇█</td></tr><tr><td>test_accuracy</td><td>▁</td></tr><tr><td>train_accuracy</td><td>▁▄▅▆▆▆▆▇▇█</td></tr><tr><td>train_loss</td><td>▇▅▆▅▆▃▃▁▁█</td></tr><tr><td>val_accuracy</td><td>▁▄▆▆▅▅▆█▇█</td></tr><tr><td>val_loss</td><td>█▅▃▃▃▄▃▁▂▁</td></tr></table><br/></div><div class=\"wandb-col\"><h3>Run summary:</h3><br/><table class=\"wandb\"><tr><td>epoch</td><td>9</td></tr><tr><td>test_accuracy</td><td>0.8725</td></tr><tr><td>train_accuracy</td><td>0.90143</td></tr><tr><td>train_loss</td><td>0.50946</td></tr><tr><td>val_accuracy</td><td>0.881</td></tr><tr><td>val_loss</td><td>0.31738</td></tr></table><br/></div></div>"
      ],
      "text/plain": [
       "<IPython.core.display.HTML object>"
      ]
     },
     "metadata": {},
     "output_type": "display_data"
    },
    {
     "data": {
      "text/html": [
       " View run <strong style=\"color:#cdcd00\">hl:3_hs:64_bs:32_act:relu</strong> at: <a href='https://wandb.ai/bullseye2608-indian-institute-of-technology-madras/fashion_mnist_hp_search/runs/yvvmjcpv' target=\"_blank\">https://wandb.ai/bullseye2608-indian-institute-of-technology-madras/fashion_mnist_hp_search/runs/yvvmjcpv</a><br> View project at: <a href='https://wandb.ai/bullseye2608-indian-institute-of-technology-madras/fashion_mnist_hp_search' target=\"_blank\">https://wandb.ai/bullseye2608-indian-institute-of-technology-madras/fashion_mnist_hp_search</a><br>Synced 5 W&B file(s), 0 media file(s), 0 artifact file(s) and 0 other file(s)"
      ],
      "text/plain": [
       "<IPython.core.display.HTML object>"
      ]
     },
     "metadata": {},
     "output_type": "display_data"
    },
    {
     "data": {
      "text/html": [
       "Find logs at: <code>.\\wandb\\run-20250301_214327-yvvmjcpv\\logs</code>"
      ],
      "text/plain": [
       "<IPython.core.display.HTML object>"
      ]
     },
     "metadata": {},
     "output_type": "display_data"
    },
    {
     "name": "stderr",
     "output_type": "stream",
     "text": [
      "wandb: Agent Starting Run: pe2wvocf with config:\n",
      "wandb: \tactivation: tanh\n",
      "wandb: \tbatch_size: 16\n",
      "wandb: \tepochs: 10\n",
      "wandb: \thidden_layers: 5\n",
      "wandb: \thidden_size: 128\n",
      "wandb: \tlearning_rate: 0.0001\n",
      "wandb: \toptimizer: nadam\n",
      "wandb: \tweight_decay: 0.0005\n",
      "wandb: \tweight_init: xavier\n"
     ]
    },
    {
     "data": {
      "text/html": [
       "Tracking run with wandb version 0.19.7"
      ],
      "text/plain": [
       "<IPython.core.display.HTML object>"
      ]
     },
     "metadata": {},
     "output_type": "display_data"
    },
    {
     "data": {
      "text/html": [
       "Run data is saved locally in <code>c:\\Users\\DELL\\Desktop\\Coding\\Python\\DL\\wandb\\run-20250301_214404-pe2wvocf</code>"
      ],
      "text/plain": [
       "<IPython.core.display.HTML object>"
      ]
     },
     "metadata": {},
     "output_type": "display_data"
    },
    {
     "data": {
      "text/html": [
       "Syncing run <strong><a href='https://wandb.ai/bullseye2608-indian-institute-of-technology-madras/fashion_mnist_hp_search/runs/pe2wvocf' target=\"_blank\">distinctive-sweep-279</a></strong> to <a href='https://wandb.ai/bullseye2608-indian-institute-of-technology-madras/fashion_mnist_hp_search' target=\"_blank\">Weights & Biases</a> (<a href='https://wandb.me/developer-guide' target=\"_blank\">docs</a>)<br>Sweep page: <a href='https://wandb.ai/bullseye2608-indian-institute-of-technology-madras/fashion_mnist_hp_search/sweeps/vhbqpquu' target=\"_blank\">https://wandb.ai/bullseye2608-indian-institute-of-technology-madras/fashion_mnist_hp_search/sweeps/vhbqpquu</a>"
      ],
      "text/plain": [
       "<IPython.core.display.HTML object>"
      ]
     },
     "metadata": {},
     "output_type": "display_data"
    },
    {
     "data": {
      "text/html": [
       " View project at <a href='https://wandb.ai/bullseye2608-indian-institute-of-technology-madras/fashion_mnist_hp_search' target=\"_blank\">https://wandb.ai/bullseye2608-indian-institute-of-technology-madras/fashion_mnist_hp_search</a>"
      ],
      "text/plain": [
       "<IPython.core.display.HTML object>"
      ]
     },
     "metadata": {},
     "output_type": "display_data"
    },
    {
     "data": {
      "text/html": [
       " View sweep at <a href='https://wandb.ai/bullseye2608-indian-institute-of-technology-madras/fashion_mnist_hp_search/sweeps/vhbqpquu' target=\"_blank\">https://wandb.ai/bullseye2608-indian-institute-of-technology-madras/fashion_mnist_hp_search/sweeps/vhbqpquu</a>"
      ],
      "text/plain": [
       "<IPython.core.display.HTML object>"
      ]
     },
     "metadata": {},
     "output_type": "display_data"
    },
    {
     "data": {
      "text/html": [
       " View run at <a href='https://wandb.ai/bullseye2608-indian-institute-of-technology-madras/fashion_mnist_hp_search/runs/pe2wvocf' target=\"_blank\">https://wandb.ai/bullseye2608-indian-institute-of-technology-madras/fashion_mnist_hp_search/runs/pe2wvocf</a>"
      ],
      "text/plain": [
       "<IPython.core.display.HTML object>"
      ]
     },
     "metadata": {},
     "output_type": "display_data"
    },
    {
     "data": {
      "text/html": [],
      "text/plain": [
       "<IPython.core.display.HTML object>"
      ]
     },
     "metadata": {},
     "output_type": "display_data"
    },
    {
     "data": {
      "text/html": [
       "<br>    <style><br>        .wandb-row {<br>            display: flex;<br>            flex-direction: row;<br>            flex-wrap: wrap;<br>            justify-content: flex-start;<br>            width: 100%;<br>        }<br>        .wandb-col {<br>            display: flex;<br>            flex-direction: column;<br>            flex-basis: 100%;<br>            flex: 1;<br>            padding: 10px;<br>        }<br>    </style><br><div class=\"wandb-row\"><div class=\"wandb-col\"><h3>Run history:</h3><br/><table class=\"wandb\"><tr><td>epoch</td><td>▁▂▃▃▄▅▆▆▇█</td></tr><tr><td>test_accuracy</td><td>▁</td></tr><tr><td>train_accuracy</td><td>▁▄▄▅▆▇▇█▇█</td></tr><tr><td>train_loss</td><td>▂▂▁▅█▅▁▄▂▂</td></tr><tr><td>val_accuracy</td><td>▁▄▄▅▆▆▆█▇▇</td></tr><tr><td>val_loss</td><td>█▅▅▄▃▂▂▁▂▁</td></tr></table><br/></div><div class=\"wandb-col\"><h3>Run summary:</h3><br/><table class=\"wandb\"><tr><td>epoch</td><td>9</td></tr><tr><td>test_accuracy</td><td>0.8716</td></tr><tr><td>train_accuracy</td><td>0.8977</td></tr><tr><td>train_loss</td><td>0.23107</td></tr><tr><td>val_accuracy</td><td>0.8795</td></tr><tr><td>val_loss</td><td>0.3237</td></tr></table><br/></div></div>"
      ],
      "text/plain": [
       "<IPython.core.display.HTML object>"
      ]
     },
     "metadata": {},
     "output_type": "display_data"
    },
    {
     "data": {
      "text/html": [
       " View run <strong style=\"color:#cdcd00\">hl:5_hs:128_bs:16_act:tanh</strong> at: <a href='https://wandb.ai/bullseye2608-indian-institute-of-technology-madras/fashion_mnist_hp_search/runs/pe2wvocf' target=\"_blank\">https://wandb.ai/bullseye2608-indian-institute-of-technology-madras/fashion_mnist_hp_search/runs/pe2wvocf</a><br> View project at: <a href='https://wandb.ai/bullseye2608-indian-institute-of-technology-madras/fashion_mnist_hp_search' target=\"_blank\">https://wandb.ai/bullseye2608-indian-institute-of-technology-madras/fashion_mnist_hp_search</a><br>Synced 5 W&B file(s), 0 media file(s), 0 artifact file(s) and 0 other file(s)"
      ],
      "text/plain": [
       "<IPython.core.display.HTML object>"
      ]
     },
     "metadata": {},
     "output_type": "display_data"
    },
    {
     "data": {
      "text/html": [
       "Find logs at: <code>.\\wandb\\run-20250301_214404-pe2wvocf\\logs</code>"
      ],
      "text/plain": [
       "<IPython.core.display.HTML object>"
      ]
     },
     "metadata": {},
     "output_type": "display_data"
    },
    {
     "name": "stderr",
     "output_type": "stream",
     "text": [
      "wandb: Sweep Agent: Waiting for job.\n",
      "wandb: Job received.\n",
      "wandb: Agent Starting Run: c4dk9nfi with config:\n",
      "wandb: \tactivation: tanh\n",
      "wandb: \tbatch_size: 32\n",
      "wandb: \tepochs: 10\n",
      "wandb: \thidden_layers: 3\n",
      "wandb: \thidden_size: 128\n",
      "wandb: \tlearning_rate: 0.001\n",
      "wandb: \toptimizer: nadam\n",
      "wandb: \tweight_decay: 0\n",
      "wandb: \tweight_init: xavier\n"
     ]
    },
    {
     "data": {
      "text/html": [
       "Tracking run with wandb version 0.19.7"
      ],
      "text/plain": [
       "<IPython.core.display.HTML object>"
      ]
     },
     "metadata": {},
     "output_type": "display_data"
    },
    {
     "data": {
      "text/html": [
       "Run data is saved locally in <code>c:\\Users\\DELL\\Desktop\\Coding\\Python\\DL\\wandb\\run-20250301_214632-c4dk9nfi</code>"
      ],
      "text/plain": [
       "<IPython.core.display.HTML object>"
      ]
     },
     "metadata": {},
     "output_type": "display_data"
    },
    {
     "data": {
      "text/html": [
       "Syncing run <strong><a href='https://wandb.ai/bullseye2608-indian-institute-of-technology-madras/fashion_mnist_hp_search/runs/c4dk9nfi' target=\"_blank\">celestial-sweep-280</a></strong> to <a href='https://wandb.ai/bullseye2608-indian-institute-of-technology-madras/fashion_mnist_hp_search' target=\"_blank\">Weights & Biases</a> (<a href='https://wandb.me/developer-guide' target=\"_blank\">docs</a>)<br>Sweep page: <a href='https://wandb.ai/bullseye2608-indian-institute-of-technology-madras/fashion_mnist_hp_search/sweeps/vhbqpquu' target=\"_blank\">https://wandb.ai/bullseye2608-indian-institute-of-technology-madras/fashion_mnist_hp_search/sweeps/vhbqpquu</a>"
      ],
      "text/plain": [
       "<IPython.core.display.HTML object>"
      ]
     },
     "metadata": {},
     "output_type": "display_data"
    },
    {
     "data": {
      "text/html": [
       " View project at <a href='https://wandb.ai/bullseye2608-indian-institute-of-technology-madras/fashion_mnist_hp_search' target=\"_blank\">https://wandb.ai/bullseye2608-indian-institute-of-technology-madras/fashion_mnist_hp_search</a>"
      ],
      "text/plain": [
       "<IPython.core.display.HTML object>"
      ]
     },
     "metadata": {},
     "output_type": "display_data"
    },
    {
     "data": {
      "text/html": [
       " View sweep at <a href='https://wandb.ai/bullseye2608-indian-institute-of-technology-madras/fashion_mnist_hp_search/sweeps/vhbqpquu' target=\"_blank\">https://wandb.ai/bullseye2608-indian-institute-of-technology-madras/fashion_mnist_hp_search/sweeps/vhbqpquu</a>"
      ],
      "text/plain": [
       "<IPython.core.display.HTML object>"
      ]
     },
     "metadata": {},
     "output_type": "display_data"
    },
    {
     "data": {
      "text/html": [
       " View run at <a href='https://wandb.ai/bullseye2608-indian-institute-of-technology-madras/fashion_mnist_hp_search/runs/c4dk9nfi' target=\"_blank\">https://wandb.ai/bullseye2608-indian-institute-of-technology-madras/fashion_mnist_hp_search/runs/c4dk9nfi</a>"
      ],
      "text/plain": [
       "<IPython.core.display.HTML object>"
      ]
     },
     "metadata": {},
     "output_type": "display_data"
    },
    {
     "data": {
      "text/html": [],
      "text/plain": [
       "<IPython.core.display.HTML object>"
      ]
     },
     "metadata": {},
     "output_type": "display_data"
    },
    {
     "data": {
      "text/html": [
       "<br>    <style><br>        .wandb-row {<br>            display: flex;<br>            flex-direction: row;<br>            flex-wrap: wrap;<br>            justify-content: flex-start;<br>            width: 100%;<br>        }<br>        .wandb-col {<br>            display: flex;<br>            flex-direction: column;<br>            flex-basis: 100%;<br>            flex: 1;<br>            padding: 10px;<br>        }<br>    </style><br><div class=\"wandb-row\"><div class=\"wandb-col\"><h3>Run history:</h3><br/><table class=\"wandb\"><tr><td>epoch</td><td>▁▂▃▃▄▅▆▆▇█</td></tr><tr><td>test_accuracy</td><td>▁</td></tr><tr><td>train_accuracy</td><td>▁▄▄▅▆▆▇▇▇█</td></tr><tr><td>train_loss</td><td>▃█▅▃▃▃▆▄▁▂</td></tr><tr><td>val_accuracy</td><td>▁▅▅▆█▇▇█▇▇</td></tr><tr><td>val_loss</td><td>█▅▄▃▁▂▂▂▂▂</td></tr></table><br/></div><div class=\"wandb-col\"><h3>Run summary:</h3><br/><table class=\"wandb\"><tr><td>epoch</td><td>9</td></tr><tr><td>test_accuracy</td><td>0.8804</td></tr><tr><td>train_accuracy</td><td>0.91787</td></tr><tr><td>train_loss</td><td>0.25623</td></tr><tr><td>val_accuracy</td><td>0.88333</td></tr><tr><td>val_loss</td><td>0.32092</td></tr></table><br/></div></div>"
      ],
      "text/plain": [
       "<IPython.core.display.HTML object>"
      ]
     },
     "metadata": {},
     "output_type": "display_data"
    },
    {
     "data": {
      "text/html": [
       " View run <strong style=\"color:#cdcd00\">hl:3_hs:128_bs:32_act:tanh</strong> at: <a href='https://wandb.ai/bullseye2608-indian-institute-of-technology-madras/fashion_mnist_hp_search/runs/c4dk9nfi' target=\"_blank\">https://wandb.ai/bullseye2608-indian-institute-of-technology-madras/fashion_mnist_hp_search/runs/c4dk9nfi</a><br> View project at: <a href='https://wandb.ai/bullseye2608-indian-institute-of-technology-madras/fashion_mnist_hp_search' target=\"_blank\">https://wandb.ai/bullseye2608-indian-institute-of-technology-madras/fashion_mnist_hp_search</a><br>Synced 5 W&B file(s), 0 media file(s), 0 artifact file(s) and 0 other file(s)"
      ],
      "text/plain": [
       "<IPython.core.display.HTML object>"
      ]
     },
     "metadata": {},
     "output_type": "display_data"
    },
    {
     "data": {
      "text/html": [
       "Find logs at: <code>.\\wandb\\run-20250301_214632-c4dk9nfi\\logs</code>"
      ],
      "text/plain": [
       "<IPython.core.display.HTML object>"
      ]
     },
     "metadata": {},
     "output_type": "display_data"
    },
    {
     "name": "stderr",
     "output_type": "stream",
     "text": [
      "wandb: Agent Starting Run: o6xddtkw with config:\n",
      "wandb: \tactivation: tanh\n",
      "wandb: \tbatch_size: 16\n",
      "wandb: \tepochs: 5\n",
      "wandb: \thidden_layers: 4\n",
      "wandb: \thidden_size: 128\n",
      "wandb: \tlearning_rate: 0.0001\n",
      "wandb: \toptimizer: nadam\n",
      "wandb: \tweight_decay: 0.0005\n",
      "wandb: \tweight_init: xavier\n"
     ]
    },
    {
     "data": {
      "text/html": [
       "Tracking run with wandb version 0.19.7"
      ],
      "text/plain": [
       "<IPython.core.display.HTML object>"
      ]
     },
     "metadata": {},
     "output_type": "display_data"
    },
    {
     "data": {
      "text/html": [
       "Run data is saved locally in <code>c:\\Users\\DELL\\Desktop\\Coding\\Python\\DL\\wandb\\run-20250301_214742-o6xddtkw</code>"
      ],
      "text/plain": [
       "<IPython.core.display.HTML object>"
      ]
     },
     "metadata": {},
     "output_type": "display_data"
    },
    {
     "data": {
      "text/html": [
       "Syncing run <strong><a href='https://wandb.ai/bullseye2608-indian-institute-of-technology-madras/fashion_mnist_hp_search/runs/o6xddtkw' target=\"_blank\">devoted-sweep-281</a></strong> to <a href='https://wandb.ai/bullseye2608-indian-institute-of-technology-madras/fashion_mnist_hp_search' target=\"_blank\">Weights & Biases</a> (<a href='https://wandb.me/developer-guide' target=\"_blank\">docs</a>)<br>Sweep page: <a href='https://wandb.ai/bullseye2608-indian-institute-of-technology-madras/fashion_mnist_hp_search/sweeps/vhbqpquu' target=\"_blank\">https://wandb.ai/bullseye2608-indian-institute-of-technology-madras/fashion_mnist_hp_search/sweeps/vhbqpquu</a>"
      ],
      "text/plain": [
       "<IPython.core.display.HTML object>"
      ]
     },
     "metadata": {},
     "output_type": "display_data"
    },
    {
     "data": {
      "text/html": [
       " View project at <a href='https://wandb.ai/bullseye2608-indian-institute-of-technology-madras/fashion_mnist_hp_search' target=\"_blank\">https://wandb.ai/bullseye2608-indian-institute-of-technology-madras/fashion_mnist_hp_search</a>"
      ],
      "text/plain": [
       "<IPython.core.display.HTML object>"
      ]
     },
     "metadata": {},
     "output_type": "display_data"
    },
    {
     "data": {
      "text/html": [
       " View sweep at <a href='https://wandb.ai/bullseye2608-indian-institute-of-technology-madras/fashion_mnist_hp_search/sweeps/vhbqpquu' target=\"_blank\">https://wandb.ai/bullseye2608-indian-institute-of-technology-madras/fashion_mnist_hp_search/sweeps/vhbqpquu</a>"
      ],
      "text/plain": [
       "<IPython.core.display.HTML object>"
      ]
     },
     "metadata": {},
     "output_type": "display_data"
    },
    {
     "data": {
      "text/html": [
       " View run at <a href='https://wandb.ai/bullseye2608-indian-institute-of-technology-madras/fashion_mnist_hp_search/runs/o6xddtkw' target=\"_blank\">https://wandb.ai/bullseye2608-indian-institute-of-technology-madras/fashion_mnist_hp_search/runs/o6xddtkw</a>"
      ],
      "text/plain": [
       "<IPython.core.display.HTML object>"
      ]
     },
     "metadata": {},
     "output_type": "display_data"
    },
    {
     "data": {
      "text/html": [],
      "text/plain": [
       "<IPython.core.display.HTML object>"
      ]
     },
     "metadata": {},
     "output_type": "display_data"
    },
    {
     "data": {
      "text/html": [
       "<br>    <style><br>        .wandb-row {<br>            display: flex;<br>            flex-direction: row;<br>            flex-wrap: wrap;<br>            justify-content: flex-start;<br>            width: 100%;<br>        }<br>        .wandb-col {<br>            display: flex;<br>            flex-direction: column;<br>            flex-basis: 100%;<br>            flex: 1;<br>            padding: 10px;<br>        }<br>    </style><br><div class=\"wandb-row\"><div class=\"wandb-col\"><h3>Run history:</h3><br/><table class=\"wandb\"><tr><td>epoch</td><td>▁▃▅▆█</td></tr><tr><td>test_accuracy</td><td>▁</td></tr><tr><td>train_accuracy</td><td>▁▅▆██</td></tr><tr><td>train_loss</td><td>▆▆▁▃█</td></tr><tr><td>val_accuracy</td><td>▁▇▄█▇</td></tr><tr><td>val_loss</td><td>█▃▃▁▁</td></tr></table><br/></div><div class=\"wandb-col\"><h3>Run summary:</h3><br/><table class=\"wandb\"><tr><td>epoch</td><td>4</td></tr><tr><td>test_accuracy</td><td>0.8575</td></tr><tr><td>train_accuracy</td><td>0.88056</td></tr><tr><td>train_loss</td><td>0.58591</td></tr><tr><td>val_accuracy</td><td>0.86467</td></tr><tr><td>val_loss</td><td>0.3581</td></tr></table><br/></div></div>"
      ],
      "text/plain": [
       "<IPython.core.display.HTML object>"
      ]
     },
     "metadata": {},
     "output_type": "display_data"
    },
    {
     "data": {
      "text/html": [
       " View run <strong style=\"color:#cdcd00\">hl:4_hs:128_bs:16_act:tanh</strong> at: <a href='https://wandb.ai/bullseye2608-indian-institute-of-technology-madras/fashion_mnist_hp_search/runs/o6xddtkw' target=\"_blank\">https://wandb.ai/bullseye2608-indian-institute-of-technology-madras/fashion_mnist_hp_search/runs/o6xddtkw</a><br> View project at: <a href='https://wandb.ai/bullseye2608-indian-institute-of-technology-madras/fashion_mnist_hp_search' target=\"_blank\">https://wandb.ai/bullseye2608-indian-institute-of-technology-madras/fashion_mnist_hp_search</a><br>Synced 5 W&B file(s), 0 media file(s), 0 artifact file(s) and 0 other file(s)"
      ],
      "text/plain": [
       "<IPython.core.display.HTML object>"
      ]
     },
     "metadata": {},
     "output_type": "display_data"
    },
    {
     "data": {
      "text/html": [
       "Find logs at: <code>.\\wandb\\run-20250301_214742-o6xddtkw\\logs</code>"
      ],
      "text/plain": [
       "<IPython.core.display.HTML object>"
      ]
     },
     "metadata": {},
     "output_type": "display_data"
    },
    {
     "name": "stderr",
     "output_type": "stream",
     "text": [
      "wandb: Agent Starting Run: w5mgl6m6 with config:\n",
      "wandb: \tactivation: relu\n",
      "wandb: \tbatch_size: 16\n",
      "wandb: \tepochs: 10\n",
      "wandb: \thidden_layers: 3\n",
      "wandb: \thidden_size: 128\n",
      "wandb: \tlearning_rate: 0.0001\n",
      "wandb: \toptimizer: nadam\n",
      "wandb: \tweight_decay: 0.0005\n",
      "wandb: \tweight_init: xavier\n"
     ]
    },
    {
     "data": {
      "text/html": [
       "Tracking run with wandb version 0.19.7"
      ],
      "text/plain": [
       "<IPython.core.display.HTML object>"
      ]
     },
     "metadata": {},
     "output_type": "display_data"
    },
    {
     "data": {
      "text/html": [
       "Run data is saved locally in <code>c:\\Users\\DELL\\Desktop\\Coding\\Python\\DL\\wandb\\run-20250301_214846-w5mgl6m6</code>"
      ],
      "text/plain": [
       "<IPython.core.display.HTML object>"
      ]
     },
     "metadata": {},
     "output_type": "display_data"
    },
    {
     "data": {
      "text/html": [
       "Syncing run <strong><a href='https://wandb.ai/bullseye2608-indian-institute-of-technology-madras/fashion_mnist_hp_search/runs/w5mgl6m6' target=\"_blank\">sleek-sweep-282</a></strong> to <a href='https://wandb.ai/bullseye2608-indian-institute-of-technology-madras/fashion_mnist_hp_search' target=\"_blank\">Weights & Biases</a> (<a href='https://wandb.me/developer-guide' target=\"_blank\">docs</a>)<br>Sweep page: <a href='https://wandb.ai/bullseye2608-indian-institute-of-technology-madras/fashion_mnist_hp_search/sweeps/vhbqpquu' target=\"_blank\">https://wandb.ai/bullseye2608-indian-institute-of-technology-madras/fashion_mnist_hp_search/sweeps/vhbqpquu</a>"
      ],
      "text/plain": [
       "<IPython.core.display.HTML object>"
      ]
     },
     "metadata": {},
     "output_type": "display_data"
    },
    {
     "data": {
      "text/html": [
       " View project at <a href='https://wandb.ai/bullseye2608-indian-institute-of-technology-madras/fashion_mnist_hp_search' target=\"_blank\">https://wandb.ai/bullseye2608-indian-institute-of-technology-madras/fashion_mnist_hp_search</a>"
      ],
      "text/plain": [
       "<IPython.core.display.HTML object>"
      ]
     },
     "metadata": {},
     "output_type": "display_data"
    },
    {
     "data": {
      "text/html": [
       " View sweep at <a href='https://wandb.ai/bullseye2608-indian-institute-of-technology-madras/fashion_mnist_hp_search/sweeps/vhbqpquu' target=\"_blank\">https://wandb.ai/bullseye2608-indian-institute-of-technology-madras/fashion_mnist_hp_search/sweeps/vhbqpquu</a>"
      ],
      "text/plain": [
       "<IPython.core.display.HTML object>"
      ]
     },
     "metadata": {},
     "output_type": "display_data"
    },
    {
     "data": {
      "text/html": [
       " View run at <a href='https://wandb.ai/bullseye2608-indian-institute-of-technology-madras/fashion_mnist_hp_search/runs/w5mgl6m6' target=\"_blank\">https://wandb.ai/bullseye2608-indian-institute-of-technology-madras/fashion_mnist_hp_search/runs/w5mgl6m6</a>"
      ],
      "text/plain": [
       "<IPython.core.display.HTML object>"
      ]
     },
     "metadata": {},
     "output_type": "display_data"
    },
    {
     "data": {
      "text/html": [],
      "text/plain": [
       "<IPython.core.display.HTML object>"
      ]
     },
     "metadata": {},
     "output_type": "display_data"
    },
    {
     "data": {
      "text/html": [
       "<br>    <style><br>        .wandb-row {<br>            display: flex;<br>            flex-direction: row;<br>            flex-wrap: wrap;<br>            justify-content: flex-start;<br>            width: 100%;<br>        }<br>        .wandb-col {<br>            display: flex;<br>            flex-direction: column;<br>            flex-basis: 100%;<br>            flex: 1;<br>            padding: 10px;<br>        }<br>    </style><br><div class=\"wandb-row\"><div class=\"wandb-col\"><h3>Run history:</h3><br/><table class=\"wandb\"><tr><td>epoch</td><td>▁▂▃▃▄▅▆▆▇█</td></tr><tr><td>test_accuracy</td><td>▁</td></tr><tr><td>train_accuracy</td><td>▁▄▄▅▅▆▇▇▇█</td></tr><tr><td>train_loss</td><td>▂▃▅▁▂▇▁█▃▆</td></tr><tr><td>val_accuracy</td><td>▁▅▆▆▅▇▇▇▆█</td></tr><tr><td>val_loss</td><td>█▅▄▃▄▂▂▁▂▁</td></tr></table><br/></div><div class=\"wandb-col\"><h3>Run summary:</h3><br/><table class=\"wandb\"><tr><td>epoch</td><td>9</td></tr><tr><td>test_accuracy</td><td>0.8745</td></tr><tr><td>train_accuracy</td><td>0.90202</td></tr><tr><td>train_loss</td><td>0.48381</td></tr><tr><td>val_accuracy</td><td>0.88117</td></tr><tr><td>val_loss</td><td>0.31659</td></tr></table><br/></div></div>"
      ],
      "text/plain": [
       "<IPython.core.display.HTML object>"
      ]
     },
     "metadata": {},
     "output_type": "display_data"
    },
    {
     "data": {
      "text/html": [
       " View run <strong style=\"color:#cdcd00\">hl:3_hs:128_bs:16_act:relu</strong> at: <a href='https://wandb.ai/bullseye2608-indian-institute-of-technology-madras/fashion_mnist_hp_search/runs/w5mgl6m6' target=\"_blank\">https://wandb.ai/bullseye2608-indian-institute-of-technology-madras/fashion_mnist_hp_search/runs/w5mgl6m6</a><br> View project at: <a href='https://wandb.ai/bullseye2608-indian-institute-of-technology-madras/fashion_mnist_hp_search' target=\"_blank\">https://wandb.ai/bullseye2608-indian-institute-of-technology-madras/fashion_mnist_hp_search</a><br>Synced 5 W&B file(s), 0 media file(s), 0 artifact file(s) and 0 other file(s)"
      ],
      "text/plain": [
       "<IPython.core.display.HTML object>"
      ]
     },
     "metadata": {},
     "output_type": "display_data"
    },
    {
     "data": {
      "text/html": [
       "Find logs at: <code>.\\wandb\\run-20250301_214846-w5mgl6m6\\logs</code>"
      ],
      "text/plain": [
       "<IPython.core.display.HTML object>"
      ]
     },
     "metadata": {},
     "output_type": "display_data"
    },
    {
     "name": "stderr",
     "output_type": "stream",
     "text": [
      "wandb: Agent Starting Run: ekdu1t5z with config:\n",
      "wandb: \tactivation: relu\n",
      "wandb: \tbatch_size: 16\n",
      "wandb: \tepochs: 10\n",
      "wandb: \thidden_layers: 4\n",
      "wandb: \thidden_size: 128\n",
      "wandb: \tlearning_rate: 0.0001\n",
      "wandb: \toptimizer: nadam\n",
      "wandb: \tweight_decay: 0.0005\n",
      "wandb: \tweight_init: xavier\n"
     ]
    },
    {
     "data": {
      "text/html": [
       "Tracking run with wandb version 0.19.7"
      ],
      "text/plain": [
       "<IPython.core.display.HTML object>"
      ]
     },
     "metadata": {},
     "output_type": "display_data"
    },
    {
     "data": {
      "text/html": [
       "Run data is saved locally in <code>c:\\Users\\DELL\\Desktop\\Coding\\Python\\DL\\wandb\\run-20250301_215027-ekdu1t5z</code>"
      ],
      "text/plain": [
       "<IPython.core.display.HTML object>"
      ]
     },
     "metadata": {},
     "output_type": "display_data"
    },
    {
     "data": {
      "text/html": [
       "Syncing run <strong><a href='https://wandb.ai/bullseye2608-indian-institute-of-technology-madras/fashion_mnist_hp_search/runs/ekdu1t5z' target=\"_blank\">desert-sweep-283</a></strong> to <a href='https://wandb.ai/bullseye2608-indian-institute-of-technology-madras/fashion_mnist_hp_search' target=\"_blank\">Weights & Biases</a> (<a href='https://wandb.me/developer-guide' target=\"_blank\">docs</a>)<br>Sweep page: <a href='https://wandb.ai/bullseye2608-indian-institute-of-technology-madras/fashion_mnist_hp_search/sweeps/vhbqpquu' target=\"_blank\">https://wandb.ai/bullseye2608-indian-institute-of-technology-madras/fashion_mnist_hp_search/sweeps/vhbqpquu</a>"
      ],
      "text/plain": [
       "<IPython.core.display.HTML object>"
      ]
     },
     "metadata": {},
     "output_type": "display_data"
    },
    {
     "data": {
      "text/html": [
       " View project at <a href='https://wandb.ai/bullseye2608-indian-institute-of-technology-madras/fashion_mnist_hp_search' target=\"_blank\">https://wandb.ai/bullseye2608-indian-institute-of-technology-madras/fashion_mnist_hp_search</a>"
      ],
      "text/plain": [
       "<IPython.core.display.HTML object>"
      ]
     },
     "metadata": {},
     "output_type": "display_data"
    },
    {
     "data": {
      "text/html": [
       " View sweep at <a href='https://wandb.ai/bullseye2608-indian-institute-of-technology-madras/fashion_mnist_hp_search/sweeps/vhbqpquu' target=\"_blank\">https://wandb.ai/bullseye2608-indian-institute-of-technology-madras/fashion_mnist_hp_search/sweeps/vhbqpquu</a>"
      ],
      "text/plain": [
       "<IPython.core.display.HTML object>"
      ]
     },
     "metadata": {},
     "output_type": "display_data"
    },
    {
     "data": {
      "text/html": [
       " View run at <a href='https://wandb.ai/bullseye2608-indian-institute-of-technology-madras/fashion_mnist_hp_search/runs/ekdu1t5z' target=\"_blank\">https://wandb.ai/bullseye2608-indian-institute-of-technology-madras/fashion_mnist_hp_search/runs/ekdu1t5z</a>"
      ],
      "text/plain": [
       "<IPython.core.display.HTML object>"
      ]
     },
     "metadata": {},
     "output_type": "display_data"
    },
    {
     "data": {
      "text/html": [],
      "text/plain": [
       "<IPython.core.display.HTML object>"
      ]
     },
     "metadata": {},
     "output_type": "display_data"
    },
    {
     "data": {
      "text/html": [
       "<br>    <style><br>        .wandb-row {<br>            display: flex;<br>            flex-direction: row;<br>            flex-wrap: wrap;<br>            justify-content: flex-start;<br>            width: 100%;<br>        }<br>        .wandb-col {<br>            display: flex;<br>            flex-direction: column;<br>            flex-basis: 100%;<br>            flex: 1;<br>            padding: 10px;<br>        }<br>    </style><br><div class=\"wandb-row\"><div class=\"wandb-col\"><h3>Run history:</h3><br/><table class=\"wandb\"><tr><td>epoch</td><td>▁▂▃▃▄▅▆▆▇█</td></tr><tr><td>test_accuracy</td><td>▁</td></tr><tr><td>train_accuracy</td><td>▁▁▃▅▅▇██▇█</td></tr><tr><td>train_loss</td><td>█▁▁▂▁▃▂▂▂▁</td></tr><tr><td>val_accuracy</td><td>▂▁▄▆▆▇██▇█</td></tr><tr><td>val_loss</td><td>██▅▄▄▂▁▁▂▁</td></tr></table><br/></div><div class=\"wandb-col\"><h3>Run summary:</h3><br/><table class=\"wandb\"><tr><td>epoch</td><td>9</td></tr><tr><td>test_accuracy</td><td>0.8734</td></tr><tr><td>train_accuracy</td><td>0.89881</td></tr><tr><td>train_loss</td><td>0.15837</td></tr><tr><td>val_accuracy</td><td>0.877</td></tr><tr><td>val_loss</td><td>0.32287</td></tr></table><br/></div></div>"
      ],
      "text/plain": [
       "<IPython.core.display.HTML object>"
      ]
     },
     "metadata": {},
     "output_type": "display_data"
    },
    {
     "data": {
      "text/html": [
       " View run <strong style=\"color:#cdcd00\">hl:4_hs:128_bs:16_act:relu</strong> at: <a href='https://wandb.ai/bullseye2608-indian-institute-of-technology-madras/fashion_mnist_hp_search/runs/ekdu1t5z' target=\"_blank\">https://wandb.ai/bullseye2608-indian-institute-of-technology-madras/fashion_mnist_hp_search/runs/ekdu1t5z</a><br> View project at: <a href='https://wandb.ai/bullseye2608-indian-institute-of-technology-madras/fashion_mnist_hp_search' target=\"_blank\">https://wandb.ai/bullseye2608-indian-institute-of-technology-madras/fashion_mnist_hp_search</a><br>Synced 5 W&B file(s), 0 media file(s), 0 artifact file(s) and 0 other file(s)"
      ],
      "text/plain": [
       "<IPython.core.display.HTML object>"
      ]
     },
     "metadata": {},
     "output_type": "display_data"
    },
    {
     "data": {
      "text/html": [
       "Find logs at: <code>.\\wandb\\run-20250301_215027-ekdu1t5z\\logs</code>"
      ],
      "text/plain": [
       "<IPython.core.display.HTML object>"
      ]
     },
     "metadata": {},
     "output_type": "display_data"
    },
    {
     "name": "stderr",
     "output_type": "stream",
     "text": [
      "wandb: Agent Starting Run: abu9x97b with config:\n",
      "wandb: \tactivation: relu\n",
      "wandb: \tbatch_size: 32\n",
      "wandb: \tepochs: 10\n",
      "wandb: \thidden_layers: 5\n",
      "wandb: \thidden_size: 128\n",
      "wandb: \tlearning_rate: 0.001\n",
      "wandb: \toptimizer: nadam\n",
      "wandb: \tweight_decay: 0\n",
      "wandb: \tweight_init: xavier\n"
     ]
    },
    {
     "data": {
      "text/html": [
       "Tracking run with wandb version 0.19.7"
      ],
      "text/plain": [
       "<IPython.core.display.HTML object>"
      ]
     },
     "metadata": {},
     "output_type": "display_data"
    },
    {
     "data": {
      "text/html": [
       "Run data is saved locally in <code>c:\\Users\\DELL\\Desktop\\Coding\\Python\\DL\\wandb\\run-20250301_215213-abu9x97b</code>"
      ],
      "text/plain": [
       "<IPython.core.display.HTML object>"
      ]
     },
     "metadata": {},
     "output_type": "display_data"
    },
    {
     "data": {
      "text/html": [
       "Syncing run <strong><a href='https://wandb.ai/bullseye2608-indian-institute-of-technology-madras/fashion_mnist_hp_search/runs/abu9x97b' target=\"_blank\">valiant-sweep-284</a></strong> to <a href='https://wandb.ai/bullseye2608-indian-institute-of-technology-madras/fashion_mnist_hp_search' target=\"_blank\">Weights & Biases</a> (<a href='https://wandb.me/developer-guide' target=\"_blank\">docs</a>)<br>Sweep page: <a href='https://wandb.ai/bullseye2608-indian-institute-of-technology-madras/fashion_mnist_hp_search/sweeps/vhbqpquu' target=\"_blank\">https://wandb.ai/bullseye2608-indian-institute-of-technology-madras/fashion_mnist_hp_search/sweeps/vhbqpquu</a>"
      ],
      "text/plain": [
       "<IPython.core.display.HTML object>"
      ]
     },
     "metadata": {},
     "output_type": "display_data"
    },
    {
     "data": {
      "text/html": [
       " View project at <a href='https://wandb.ai/bullseye2608-indian-institute-of-technology-madras/fashion_mnist_hp_search' target=\"_blank\">https://wandb.ai/bullseye2608-indian-institute-of-technology-madras/fashion_mnist_hp_search</a>"
      ],
      "text/plain": [
       "<IPython.core.display.HTML object>"
      ]
     },
     "metadata": {},
     "output_type": "display_data"
    },
    {
     "data": {
      "text/html": [
       " View sweep at <a href='https://wandb.ai/bullseye2608-indian-institute-of-technology-madras/fashion_mnist_hp_search/sweeps/vhbqpquu' target=\"_blank\">https://wandb.ai/bullseye2608-indian-institute-of-technology-madras/fashion_mnist_hp_search/sweeps/vhbqpquu</a>"
      ],
      "text/plain": [
       "<IPython.core.display.HTML object>"
      ]
     },
     "metadata": {},
     "output_type": "display_data"
    },
    {
     "data": {
      "text/html": [
       " View run at <a href='https://wandb.ai/bullseye2608-indian-institute-of-technology-madras/fashion_mnist_hp_search/runs/abu9x97b' target=\"_blank\">https://wandb.ai/bullseye2608-indian-institute-of-technology-madras/fashion_mnist_hp_search/runs/abu9x97b</a>"
      ],
      "text/plain": [
       "<IPython.core.display.HTML object>"
      ]
     },
     "metadata": {},
     "output_type": "display_data"
    },
    {
     "data": {
      "text/html": [],
      "text/plain": [
       "<IPython.core.display.HTML object>"
      ]
     },
     "metadata": {},
     "output_type": "display_data"
    },
    {
     "data": {
      "text/html": [
       "<br>    <style><br>        .wandb-row {<br>            display: flex;<br>            flex-direction: row;<br>            flex-wrap: wrap;<br>            justify-content: flex-start;<br>            width: 100%;<br>        }<br>        .wandb-col {<br>            display: flex;<br>            flex-direction: column;<br>            flex-basis: 100%;<br>            flex: 1;<br>            padding: 10px;<br>        }<br>    </style><br><div class=\"wandb-row\"><div class=\"wandb-col\"><h3>Run history:</h3><br/><table class=\"wandb\"><tr><td>epoch</td><td>▁▂▃▃▄▅▆▆▇█</td></tr><tr><td>test_accuracy</td><td>▁</td></tr><tr><td>train_accuracy</td><td>▁▂▄▅▅▆▆▆██</td></tr><tr><td>train_loss</td><td>▄▇▂▂▁█▁▁▁▂</td></tr><tr><td>val_accuracy</td><td>▁▂▅▆▅▆▆▅██</td></tr><tr><td>val_loss</td><td>█▇▅▃▄▂▃▅▂▁</td></tr></table><br/></div><div class=\"wandb-col\"><h3>Run summary:</h3><br/><table class=\"wandb\"><tr><td>epoch</td><td>9</td></tr><tr><td>test_accuracy</td><td>0.8836</td></tr><tr><td>train_accuracy</td><td>0.9165</td></tr><tr><td>train_loss</td><td>0.23232</td></tr><tr><td>val_accuracy</td><td>0.88767</td></tr><tr><td>val_loss</td><td>0.29687</td></tr></table><br/></div></div>"
      ],
      "text/plain": [
       "<IPython.core.display.HTML object>"
      ]
     },
     "metadata": {},
     "output_type": "display_data"
    },
    {
     "data": {
      "text/html": [
       " View run <strong style=\"color:#cdcd00\">hl:5_hs:128_bs:32_act:relu</strong> at: <a href='https://wandb.ai/bullseye2608-indian-institute-of-technology-madras/fashion_mnist_hp_search/runs/abu9x97b' target=\"_blank\">https://wandb.ai/bullseye2608-indian-institute-of-technology-madras/fashion_mnist_hp_search/runs/abu9x97b</a><br> View project at: <a href='https://wandb.ai/bullseye2608-indian-institute-of-technology-madras/fashion_mnist_hp_search' target=\"_blank\">https://wandb.ai/bullseye2608-indian-institute-of-technology-madras/fashion_mnist_hp_search</a><br>Synced 5 W&B file(s), 0 media file(s), 0 artifact file(s) and 0 other file(s)"
      ],
      "text/plain": [
       "<IPython.core.display.HTML object>"
      ]
     },
     "metadata": {},
     "output_type": "display_data"
    },
    {
     "data": {
      "text/html": [
       "Find logs at: <code>.\\wandb\\run-20250301_215213-abu9x97b\\logs</code>"
      ],
      "text/plain": [
       "<IPython.core.display.HTML object>"
      ]
     },
     "metadata": {},
     "output_type": "display_data"
    },
    {
     "name": "stderr",
     "output_type": "stream",
     "text": [
      "wandb: Agent Starting Run: rq2xguaq with config:\n",
      "wandb: \tactivation: tanh\n",
      "wandb: \tbatch_size: 32\n",
      "wandb: \tepochs: 10\n",
      "wandb: \thidden_layers: 3\n",
      "wandb: \thidden_size: 128\n",
      "wandb: \tlearning_rate: 0.0001\n",
      "wandb: \toptimizer: nadam\n",
      "wandb: \tweight_decay: 0.0005\n",
      "wandb: \tweight_init: xavier\n"
     ]
    },
    {
     "data": {
      "text/html": [
       "Tracking run with wandb version 0.19.7"
      ],
      "text/plain": [
       "<IPython.core.display.HTML object>"
      ]
     },
     "metadata": {},
     "output_type": "display_data"
    },
    {
     "data": {
      "text/html": [
       "Run data is saved locally in <code>c:\\Users\\DELL\\Desktop\\Coding\\Python\\DL\\wandb\\run-20250301_215333-rq2xguaq</code>"
      ],
      "text/plain": [
       "<IPython.core.display.HTML object>"
      ]
     },
     "metadata": {},
     "output_type": "display_data"
    },
    {
     "data": {
      "text/html": [
       "Syncing run <strong><a href='https://wandb.ai/bullseye2608-indian-institute-of-technology-madras/fashion_mnist_hp_search/runs/rq2xguaq' target=\"_blank\">spring-sweep-285</a></strong> to <a href='https://wandb.ai/bullseye2608-indian-institute-of-technology-madras/fashion_mnist_hp_search' target=\"_blank\">Weights & Biases</a> (<a href='https://wandb.me/developer-guide' target=\"_blank\">docs</a>)<br>Sweep page: <a href='https://wandb.ai/bullseye2608-indian-institute-of-technology-madras/fashion_mnist_hp_search/sweeps/vhbqpquu' target=\"_blank\">https://wandb.ai/bullseye2608-indian-institute-of-technology-madras/fashion_mnist_hp_search/sweeps/vhbqpquu</a>"
      ],
      "text/plain": [
       "<IPython.core.display.HTML object>"
      ]
     },
     "metadata": {},
     "output_type": "display_data"
    },
    {
     "data": {
      "text/html": [
       " View project at <a href='https://wandb.ai/bullseye2608-indian-institute-of-technology-madras/fashion_mnist_hp_search' target=\"_blank\">https://wandb.ai/bullseye2608-indian-institute-of-technology-madras/fashion_mnist_hp_search</a>"
      ],
      "text/plain": [
       "<IPython.core.display.HTML object>"
      ]
     },
     "metadata": {},
     "output_type": "display_data"
    },
    {
     "data": {
      "text/html": [
       " View sweep at <a href='https://wandb.ai/bullseye2608-indian-institute-of-technology-madras/fashion_mnist_hp_search/sweeps/vhbqpquu' target=\"_blank\">https://wandb.ai/bullseye2608-indian-institute-of-technology-madras/fashion_mnist_hp_search/sweeps/vhbqpquu</a>"
      ],
      "text/plain": [
       "<IPython.core.display.HTML object>"
      ]
     },
     "metadata": {},
     "output_type": "display_data"
    },
    {
     "data": {
      "text/html": [
       " View run at <a href='https://wandb.ai/bullseye2608-indian-institute-of-technology-madras/fashion_mnist_hp_search/runs/rq2xguaq' target=\"_blank\">https://wandb.ai/bullseye2608-indian-institute-of-technology-madras/fashion_mnist_hp_search/runs/rq2xguaq</a>"
      ],
      "text/plain": [
       "<IPython.core.display.HTML object>"
      ]
     },
     "metadata": {},
     "output_type": "display_data"
    }
   ],
   "source": [
    "# Continue the sweep\n",
    "\n",
    "sweep_id_cont = \"bullseye2608-indian-institute-of-technology-madras/fashion_mnist_hp_search/vhbqpquu\"\n",
    "trainer = WandbTrainer()\n",
    "\n",
    "wandb.agent(sweep_id_cont, trainer.train, count=10)"
   ]
  }
 ],
 "metadata": {
  "kernelspec": {
   "display_name": "RL",
   "language": "python",
   "name": "python3"
  },
  "language_info": {
   "codemirror_mode": {
    "name": "ipython",
    "version": 3
   },
   "file_extension": ".py",
   "mimetype": "text/x-python",
   "name": "python",
   "nbconvert_exporter": "python",
   "pygments_lexer": "ipython3",
   "version": "3.10.14"
  }
 },
 "nbformat": 4,
 "nbformat_minor": 2
}
