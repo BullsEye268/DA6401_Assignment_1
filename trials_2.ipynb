{
 "cells": [
  {
   "cell_type": "code",
   "execution_count": 1,
   "metadata": {},
   "outputs": [],
   "source": [
    "import wandb\n",
    "\n",
    "from utils.neural_network import NeuralNetwork\n",
    "from utils.wandb_classes import WandbTrainer, WandbCallback\n",
    "from utils.helper_functions import get_optimizer, load_data"
   ]
  },
  {
   "cell_type": "code",
   "execution_count": 2,
   "metadata": {},
   "outputs": [
    {
     "name": "stderr",
     "output_type": "stream",
     "text": [
      "wandb: Using wandb-core as the SDK backend.  Please refer to https://wandb.me/wandb-core for more information.\n",
      "wandb: Currently logged in as: bullseye2608 (bullseye2608-indian-institute-of-technology-madras) to https://api.wandb.ai. Use `wandb login --relogin` to force relogin\n"
     ]
    },
    {
     "data": {
      "text/plain": [
       "True"
      ]
     },
     "execution_count": 2,
     "metadata": {},
     "output_type": "execute_result"
    }
   ],
   "source": [
    "wandb.login()"
   ]
  },
  {
   "cell_type": "code",
   "execution_count": 3,
   "metadata": {},
   "outputs": [],
   "source": [
    "X_train, y_train, X_val, y_val, X_test, y_test = load_data('fashion_mnist')"
   ]
  },
  {
   "cell_type": "markdown",
   "metadata": {},
   "source": [
    "### Trials"
   ]
  },
  {
   "cell_type": "code",
   "execution_count": 4,
   "metadata": {},
   "outputs": [
    {
     "name": "stdout",
     "output_type": "stream",
     "text": [
      "0.125000\n"
     ]
    }
   ],
   "source": [
    "nn = NeuralNetwork(layer_sizes=[784, 128, 128, 128, 10], \n",
    "                   activation_functions=['relu', 'relu', 'relu', 'softmax'], \n",
    "                   weight_init='xavier',\n",
    "                   weight_decay=0.0, LOG_EACH=True)\n",
    "\n",
    "H, A = nn.forward_propagation(X_train)\n",
    "loss = nn.compute_loss(H[-1], y_train)\n",
    "print(f'{nn.compute_accuracy(X_val, y_val) :>.6f}')\n",
    "\n",
    "nn.set_optimizer({'name':'nadam', 'learning_rate':0.001, 'epsilon':1e-7, 'beta1':0.95})"
   ]
  },
  {
   "cell_type": "code",
   "execution_count": 5,
   "metadata": {},
   "outputs": [
    {
     "name": "stdout",
     "output_type": "stream",
     "text": [
      "Running NadamOptimizer self.learning_rate = 0.001 self.beta1 = 0.95 self.beta2 = 0.999 self.epsilon = 1e-07\n",
      "Epoch 1/5, Iteration   0/844 --> Train Loss: 2.26874, Val Loss: 2.17015\n",
      "---------------------------------------- DONE ----------------------------------------\n",
      "0.8787\n"
     ]
    }
   ],
   "source": [
    "num_trial_datapoints = 54000\n",
    "\n",
    "LOG_EACH = True\n",
    "\n",
    "nn.train(X_train[:num_trial_datapoints], \n",
    "         y_train[:num_trial_datapoints], \n",
    "         X_val, y_val, \n",
    "         batch_size=64, \n",
    "         num_epochs=5, \n",
    "         loss_type='cross_entropy', \n",
    "         log_every=5000)\n",
    "\n",
    "LOG_EACH = False\n",
    "\n",
    "print('--'*20,'DONE','--'*20)\n",
    "print(nn.compute_accuracy(X_test, y_test))"
   ]
  },
  {
   "cell_type": "markdown",
   "metadata": {},
   "source": [
    "### WANDB SWEEP"
   ]
  },
  {
   "cell_type": "code",
   "execution_count": 6,
   "metadata": {},
   "outputs": [],
   "source": [
    "# # Create New sweep\n",
    "# import yaml\n",
    "\n",
    "# with open(\"sweep_config.yaml\", \"r\") as file:\n",
    "#         sweep_config = yaml.safe_load(file)\n",
    "\n",
    "# sweep_id = wandb.sweep(sweep_config, \n",
    "#                        entity=\"bullseye2608-indian-institute-of-technology-madras\",\n",
    "#                        project=\"fashion_mnist_hp_search\")\n",
    "\n",
    "# # Run the sweep\n",
    "# wandb.agent(sweep_id, wandb_sweep_helper_function, count=60)"
   ]
  },
  {
   "cell_type": "code",
   "execution_count": 7,
   "metadata": {},
   "outputs": [],
   "source": [
    "# # Continue the sweep\n",
    "\n",
    "# sweep_id_cont = \"bullseye2608-indian-institute-of-technology-madras/fashion_mnist_hp_search/vhbqpquu\"\n",
    "# trainer = WandbTrainer()\n",
    "\n",
    "# wandb.agent(sweep_id_cont, trainer.train, count=10)"
   ]
  },
  {
   "cell_type": "markdown",
   "metadata": {},
   "source": [
    "### WANDB RUNS"
   ]
  },
  {
   "cell_type": "code",
   "execution_count": 8,
   "metadata": {},
   "outputs": [],
   "source": [
    "import numpy as np\n",
    "from sklearn.metrics import confusion_matrix, accuracy_score\n",
    "import wandb\n",
    "import matplotlib.pyplot as plt\n",
    "import seaborn as sns\n",
    "import pandas as pd\n",
    "from datetime import datetime\n",
    "\n",
    "from utils.helper_functions import OptimalConfig"
   ]
  },
  {
   "cell_type": "code",
   "execution_count": 9,
   "metadata": {},
   "outputs": [],
   "source": [
    "\n",
    "\n",
    "# # Set random seeds for reproducibility\n",
    "# np.random.seed(42)\n",
    "\n",
    "# # Fashion MNIST class names\n",
    "# class_names = ['T-shirt/top', 'Trouser', 'Pullover', 'Dress', 'Coat',\n",
    "#                'Sandal', 'Shirt', 'Sneaker', 'Bag', 'Ankle boot']\n",
    "\n",
    "\n",
    "\n",
    "# # Create and log a confusion matrix visualization\n",
    "# def plot_confusion_matrix(y_true, y_pred, run_id):\n",
    "#     cm = confusion_matrix(y_true, y_pred)\n",
    "#     cm_normalized = cm.astype('float') / cm.sum(axis=1)[:, np.newaxis]\n",
    "    \n",
    "#     # Create a DataFrame for better visualization\n",
    "#     cm_df = pd.DataFrame(cm, index=class_names, columns=class_names)\n",
    "#     cm_norm_df = pd.DataFrame(cm_normalized, index=class_names, columns=class_names)\n",
    "    \n",
    "#     # Create figure with normalized confusion matrix\n",
    "#     plt.figure(figsize=(10, 8))\n",
    "#     cmap = sns.diverging_palette(220, 20, as_cmap=True)\n",
    "#     sns.heatmap(cm_norm_df, annot=True, fmt='.2f', cmap=cmap, \n",
    "#                 linewidths=.5, cbar_kws={\"shrink\": .8})\n",
    "    \n",
    "#     plt.title(f'Normalized Confusion Matrix - Run {run_id+1}', fontsize=16)\n",
    "#     plt.ylabel('True Label', fontsize=12)\n",
    "#     plt.xlabel('Predicted Label', fontsize=12)\n",
    "    \n",
    "#     # Calculate metrics\n",
    "#     precision = np.diag(cm) / np.sum(cm, axis=0)\n",
    "#     recall = np.diag(cm) / np.sum(cm, axis=1)\n",
    "#     f1 = 2 * precision * recall / (precision + recall)\n",
    "    \n",
    "#     # Save and return the figure\n",
    "#     cm_filename = f\"confusion_matrix_run_{run_id+1}.png\"\n",
    "#     plt.savefig(cm_filename, dpi=300, bbox_inches='tight')\n",
    "#     plt.close()\n",
    "    \n",
    "#     return cm_filename, cm, precision, recall, f1\n",
    "\n",
    "# # Run the optimal model configuration multiple times\n",
    "# def run_multiple_experiments(num_runs=17):\n",
    "    \n",
    "#     # Define optimal hyperparameter configuration\n",
    "#     optimal_config = OptimalConfig()\n",
    "    \n",
    "#     # Lists to store results from all runs\n",
    "#     all_metrics = []\n",
    "#     all_cms = []\n",
    "#     all_y_preds = []\n",
    "#     run_ids = []\n",
    "    \n",
    "#     # Create a group ID for all runs\n",
    "#     group_id = f\"optimal-config-{datetime.now().strftime('%Y%m%d-%H%M%S')}\"\n",
    "    \n",
    "#     # Run the model multiple times\n",
    "#     for run_id in range(num_runs):\n",
    "#         # Set a different random seed for each run\n",
    "#         np.random.seed(42 + run_id)\n",
    "        \n",
    "#         # Initialize a new wandb run\n",
    "#         run = wandb.init(\n",
    "#             project=\"fashion_mnist_hp_search\",\n",
    "#             name=f\"optimal-run-{run_id+1}\",\n",
    "#             tags=[\"optimal-config\"],\n",
    "#             group=group_id,\n",
    "#             config=optimal_config,\n",
    "#         )\n",
    "#         wandb.config.update(optimal_config)\n",
    "        \n",
    "#         config = optimal_config\n",
    "        \n",
    "#         layer_sizes = [784] + [config.hidden_size]*config.hidden_layers + [10]\n",
    "#         activation_functions = [config.activation]*config.hidden_layers + ['softmax']\n",
    "        \n",
    "#         nn = NeuralNetwork(layer_sizes=layer_sizes, \n",
    "#                         activation_functions=activation_functions,\n",
    "#                         weight_init=config.weight_init, \n",
    "#                         weight_decay=config.weight_decay)\n",
    "        \n",
    "#         wandb_callback = WandbCallback()\n",
    "        \n",
    "#         optimizer = get_optimizer(config.optimizer, config.learning_rate)\n",
    "#         nn.set_optimizer(optimizer)\n",
    "        \n",
    "#         nn.train(\n",
    "#             X_train,\n",
    "#             y_train,\n",
    "#             X_val,\n",
    "#             y_val,\n",
    "#             batch_size=config.batch_size,\n",
    "#             num_epochs=config.epochs,\n",
    "#             loss_type=config.loss,\n",
    "#             log_every=1000,\n",
    "#             callback=wandb_callback\n",
    "#         )\n",
    "        \n",
    "#         test_accuracy = nn.compute_accuracy(X_test, y_test)\n",
    "#         wandb.log({\"test_accuracy\": test_accuracy})\n",
    "        \n",
    "#         # Log the configuration\n",
    "        \n",
    "        \n",
    "#         # Train the model\n",
    "        \n",
    "#         # Evaluate the model\n",
    "#         test_loss, test_acc = model.evaluate(x_test, y_test_cat, verbose=0)\n",
    "        \n",
    "#         # Get predictions\n",
    "#         y_pred_probs = model.predict(x_test)\n",
    "#         y_pred = np.argmax(y_pred_probs, axis=1)\n",
    "        \n",
    "#         # Store predictions\n",
    "#         all_y_preds.append(y_pred)\n",
    "        \n",
    "#         # Create and log confusion matrix\n",
    "#         cm_file, cm, precision, recall, f1 = plot_confusion_matrix(y_test_labels, y_pred, run_id)\n",
    "#         all_cms.append(cm)\n",
    "        \n",
    "#         # Log confusion matrix image\n",
    "#         wandb.log({\"confusion_matrix\": wandb.Image(cm_file)})\n",
    "        \n",
    "#         # Log interactive confusion matrix\n",
    "#         wandb.log({\"confusion_matrix_plot\": wandb.plot.confusion_matrix(\n",
    "#             probs=None,\n",
    "#             y_true=y_test_labels,\n",
    "#             preds=y_pred,\n",
    "#             class_names=class_names\n",
    "#         )})\n",
    "        \n",
    "#         # Log metrics\n",
    "#         run_metrics = {\n",
    "#             'test_loss': test_loss,\n",
    "#             'test_accuracy': test_acc,\n",
    "#             'run_id': run_id + 1\n",
    "#         }\n",
    "        \n",
    "#         # Log per-class metrics\n",
    "#         for i, class_name in enumerate(class_names):\n",
    "#             run_metrics[f\"precision_{class_name}\"] = precision[i]\n",
    "#             run_metrics[f\"recall_{class_name}\"] = recall[i]\n",
    "#             run_metrics[f\"f1_{class_name}\"] = f1[i]\n",
    "        \n",
    "#         # Log all metrics\n",
    "#         wandb.log(run_metrics)\n",
    "        \n",
    "#         # Store metrics for aggregate analysis\n",
    "#         all_metrics.append(run_metrics)\n",
    "#         run_ids.append(run.id)\n",
    "        \n",
    "#         # Finish the run\n",
    "#         wandb.finish()\n",
    "        \n",
    "#         print(f\"Completed run {run_id+1}/{num_runs} with accuracy: {test_acc:.4f}\")\n",
    "    \n",
    "#     # Create an aggregate analysis run\n",
    "#     run = wandb.init(\n",
    "#         project=\"fashion-mnist-optimal\",\n",
    "#         name=f\"aggregate-analysis-{num_runs}-runs\",\n",
    "#         tags=[\"aggregate\", \"analysis\", group_id],\n",
    "#         group=group_id\n",
    "#     )\n",
    "    \n",
    "#     # Calculate average confusion matrix\n",
    "#     avg_cm = np.mean(all_cms, axis=0)\n",
    "#     std_cm = np.std(all_cms, axis=0)\n",
    "    \n",
    "#     # Create and log aggregate confusion matrix\n",
    "#     plt.figure(figsize=(12, 10))\n",
    "#     avg_cm_normalized = avg_cm.astype('float') / avg_cm.sum(axis=1)[:, np.newaxis]\n",
    "#     avg_cm_df = pd.DataFrame(avg_cm_normalized, index=class_names, columns=class_names)\n",
    "    \n",
    "#     sns.heatmap(avg_cm_df, annot=True, fmt='.2f', cmap='viridis', \n",
    "#                 linewidths=.5, cbar_kws={\"shrink\": .8})\n",
    "    \n",
    "#     # Calculate aggregate metrics\n",
    "#     accuracies = [m['test_accuracy'] for m in all_metrics]\n",
    "#     mean_acc = np.mean(accuracies)\n",
    "#     std_acc = np.std(accuracies)\n",
    "    \n",
    "#     plt.title(f'Aggregate Confusion Matrix (17 Runs)\\nMean Accuracy: {mean_acc:.4f} ± {std_acc:.4f}', fontsize=16)\n",
    "#     plt.ylabel('True Label', fontsize=12)\n",
    "#     plt.xlabel('Predicted Label', fontsize=12)\n",
    "    \n",
    "#     # Save and log the aggregate confusion matrix\n",
    "#     agg_cm_file = \"aggregate_confusion_matrix.png\"\n",
    "#     plt.savefig(agg_cm_file, dpi=300, bbox_inches='tight')\n",
    "#     plt.close()\n",
    "    \n",
    "#     wandb.log({\"aggregate_confusion_matrix\": wandb.Image(agg_cm_file)})\n",
    "    \n",
    "#     # Log aggregate metrics\n",
    "#     agg_metrics = {\n",
    "#         'mean_accuracy': mean_acc,\n",
    "#         'std_accuracy': std_acc,\n",
    "#         'min_accuracy': min(accuracies),\n",
    "#         'max_accuracy': max(accuracies),\n",
    "#         'num_runs': num_runs\n",
    "#     }\n",
    "    \n",
    "#     # Create a summary table with links to all runs\n",
    "#     run_table = wandb.Table(columns=[\"Run ID\", \"Accuracy\", \"Link\"])\n",
    "#     for i, (run_id, metrics) in enumerate(zip(run_ids, all_metrics)):\n",
    "#         run_link = f\"https://wandb.ai/[your-username]/fashion-mnist-optimal/runs/{run_id}\"\n",
    "#         run_table.add_data(i+1, metrics['test_accuracy'], run_link)\n",
    "    \n",
    "#     wandb.log({\"runs_summary\": run_table})\n",
    "#     wandb.log(agg_metrics)\n",
    "    \n",
    "#     # Finish the aggregate run\n",
    "#     wandb.finish()\n",
    "    \n",
    "#     return all_metrics, all_cms, all_y_preds"
   ]
  },
  {
   "cell_type": "code",
   "execution_count": null,
   "metadata": {},
   "outputs": [],
   "source": [
    "# Fashion MNIST class names\n",
    "class_names = ['T-shirt/top', 'Trouser', 'Pullover', 'Dress', 'Coat',\n",
    "               'Sandal', 'Shirt', 'Sneaker', 'Bag', 'Ankle boot']\n",
    "\n",
    "\n",
    "\n",
    "# Create and log a confusion matrix visualization\n",
    "def plot_confusion_matrix(y_true, y_pred, run_id):\n",
    "    cm = confusion_matrix(y_true, y_pred)\n",
    "    cm_normalized = cm.astype('float') / cm.sum(axis=1)[:, np.newaxis]\n",
    "    \n",
    "    # Create a DataFrame for better visualization\n",
    "    cm_df = pd.DataFrame(cm, index=class_names, columns=class_names)\n",
    "    cm_norm_df = pd.DataFrame(cm_normalized, index=class_names, columns=class_names)\n",
    "    \n",
    "    # Create figure with normalized confusion matrix\n",
    "    plt.figure(figsize=(10, 8))\n",
    "    cmap = sns.diverging_palette(220, 20, as_cmap=True)\n",
    "    sns.heatmap(cm_norm_df, annot=True, fmt='.2f', cmap=cmap, \n",
    "                linewidths=.5, cbar_kws={\"shrink\": .8})\n",
    "    \n",
    "    plt.title(f'Normalized Confusion Matrix - Run {run_id+1}', fontsize=16)\n",
    "    plt.ylabel('True Label', fontsize=12)\n",
    "    plt.xlabel('Predicted Label', fontsize=12)\n",
    "    \n",
    "    # Calculate metrics\n",
    "    precision = np.diag(cm) / np.sum(cm, axis=0)\n",
    "    recall = np.diag(cm) / np.sum(cm, axis=1)\n",
    "    f1 = 2 * precision * recall / (precision + recall)\n",
    "    \n",
    "    # Save and return the figure\n",
    "    cm_filename = f\"./confusion_matrices/confusion_matrix_run_{run_id+1}.png\"\n",
    "    plt.savefig(cm_filename, dpi=300, bbox_inches='tight')\n",
    "    plt.close()\n",
    "    \n",
    "    return cm_filename, cm, precision, recall, f1\n",
    "\n",
    "# Run the optimal model configuration multiple times\n",
    "def run_multiple_experiments():\n",
    "    \n",
    "    # Define optimal hyperparameter configuration\n",
    "    \n",
    "    # Lists to store results from all runs\n",
    "    all_metrics = []\n",
    "    all_cms = []\n",
    "    all_y_preds = []\n",
    "    run_ids = []\n",
    "    \n",
    "    # Create a group ID for all runs\n",
    "    group_id = f\"optimal-config-{datetime.now().strftime('%Y%m%d-%H%M%S')}\"\n",
    "    \n",
    "    # Set changes in runs\n",
    "    variation = [\n",
    "        {},\n",
    "        {'num_layers': 4},\n",
    "        {'batch_size': 32, 'num_layers': 4},\n",
    "        {'epochs':15, 'batch_size': 128, 'num_layers': 5},\n",
    "    ]\n",
    "    num_runs = len(variation)\n",
    "    \n",
    "    # Run the model multiple times\n",
    "    for run_id in range(num_runs):\n",
    "        # Set a different random seed for each run\n",
    "        np.random.seed(42 + run_id)\n",
    "        config = OptimalConfig(**variation[run_id])\n",
    "        \n",
    "        # Initialize a new wandb run\n",
    "        run = wandb.init(\n",
    "            project=\"confusion_matrix_trials\",\n",
    "            name=f\"optimal-run-{run_id+1}\",\n",
    "            tags=[\"optimal-config\"],\n",
    "            group=group_id,\n",
    "            config=config,\n",
    "        )\n",
    "        wandb.config.update(config)\n",
    "        config.print_config()\n",
    "        \n",
    "        \n",
    "        layer_sizes = [784] + [config.hidden_size]*config.num_layers + [10]\n",
    "        activation_functions = [config.activation]*config.num_layers + ['softmax']\n",
    "        \n",
    "        nn = NeuralNetwork(layer_sizes=layer_sizes, \n",
    "                        activation_functions=activation_functions,\n",
    "                        weight_init=config.weight_init, \n",
    "                        weight_decay=config.weight_decay)\n",
    "        \n",
    "        wandb_callback = WandbCallback()\n",
    "        \n",
    "        optimizer = get_optimizer(config.optimizer, config.learning_rate)\n",
    "        nn.set_optimizer(optimizer)\n",
    "        \n",
    "        nn.train(\n",
    "            X_train,\n",
    "            y_train,\n",
    "            X_val,\n",
    "            y_val,\n",
    "            batch_size=config.batch_size,\n",
    "            num_epochs=config.epochs,\n",
    "            loss_type=config.loss,\n",
    "            log_every=1000,\n",
    "            callback=wandb_callback\n",
    "        )\n",
    "        \n",
    "        test_accuracy = nn.compute_accuracy(X_val, y_val)\n",
    "        wandb.log({\"test_accuracy\": test_accuracy})\n",
    "        \n",
    "        # Log the configuration\n",
    "        \n",
    "        \n",
    "        # Train the model\n",
    "        \n",
    "        # Evaluate the model\n",
    "        test_loss = nn.compute_loss(nn.predict(X_val), y_val)\n",
    "        test_acc = nn.compute_accuracy(X_val, y_val)\n",
    "        \n",
    "        # Get predictions\n",
    "        y_pred_probs = nn.predict(X_val)\n",
    "        y_pred = np.argmax(y_pred_probs, axis=1)\n",
    "        \n",
    "        # Store predictions\n",
    "        all_y_preds.append(y_pred)\n",
    "        \n",
    "        # Create and log confusion matrix\n",
    "        cm_file, cm, precision, recall, f1 = plot_confusion_matrix(y_val, y_pred, run_id)\n",
    "        all_cms.append(cm)\n",
    "        \n",
    "        # Log confusion matrix image\n",
    "        wandb.log({\"confusion_matrix\": wandb.Image(cm_file)})\n",
    "        \n",
    "        # Log interactive confusion matrix\n",
    "        wandb.log({\"confusion_matrix_plot\": wandb.plot.confusion_matrix(\n",
    "            probs=y_pred_probs,\n",
    "            y_true=y_val,\n",
    "            class_names=class_names\n",
    "        )})\n",
    "        \n",
    "        # Log metrics\n",
    "        run_metrics = {\n",
    "            'test_loss': test_loss,\n",
    "            'test_accuracy': test_acc,\n",
    "            'run_id': run_id + 1\n",
    "        }\n",
    "        \n",
    "        # Log per-class metrics\n",
    "        for i, class_name in enumerate(class_names):\n",
    "            run_metrics[f\"precision_{class_name}\"] = precision[i]\n",
    "            run_metrics[f\"recall_{class_name}\"] = recall[i]\n",
    "            run_metrics[f\"f1_{class_name}\"] = f1[i]\n",
    "        \n",
    "        # Log all metrics\n",
    "        wandb.log(run_metrics)\n",
    "        \n",
    "        # Store metrics for aggregate analysis\n",
    "        all_metrics.append(run_metrics)\n",
    "        run_ids.append(run.id)\n",
    "        \n",
    "        # Finish the run\n",
    "        wandb.finish()\n",
    "        \n",
    "        print(f\"Completed run {run_id+1}/{num_runs} with accuracy: {test_acc:.4f}\")\n",
    "    \n",
    "    # Create an aggregate analysis run\n",
    "    run = wandb.init(\n",
    "        project=\"confusion_matrix_trials\",\n",
    "        name=f\"aggregate-analysis-{num_runs}-runs\",\n",
    "        tags=[\"aggregate\", \"analysis\", group_id],\n",
    "        group=group_id\n",
    "    )\n",
    "    \n",
    "    # Calculate average confusion matrix\n",
    "    avg_cm = np.mean(all_cms, axis=0)\n",
    "    std_cm = np.std(all_cms, axis=0)\n",
    "    \n",
    "    # Create and log aggregate confusion matrix\n",
    "    plt.figure(figsize=(12, 10))\n",
    "    avg_cm_normalized = avg_cm.astype('float') / avg_cm.sum(axis=1)[:, np.newaxis]\n",
    "    avg_cm_df = pd.DataFrame(avg_cm_normalized, index=class_names, columns=class_names)\n",
    "    \n",
    "    sns.heatmap(avg_cm_df, annot=True, fmt='.2f', cmap='viridis', \n",
    "                linewidths=.5, cbar_kws={\"shrink\": .8})\n",
    "    \n",
    "    # Calculate aggregate metrics\n",
    "    accuracies = [m['test_accuracy'] for m in all_metrics]\n",
    "    mean_acc = np.mean(accuracies)\n",
    "    std_acc = np.std(accuracies)\n",
    "    \n",
    "    plt.title(f'Aggregate Confusion Matrix (17 Runs)\\nMean Accuracy: {mean_acc:.4f} ± {std_acc:.4f}', fontsize=16)\n",
    "    plt.ylabel('True Label', fontsize=12)\n",
    "    plt.xlabel('Predicted Label', fontsize=12)\n",
    "    \n",
    "    # Save and log the aggregate confusion matrix\n",
    "    agg_cm_file = \"./confusion_matrices/\"+\"aggregate_confusion_matrix.png\"\n",
    "    plt.savefig(agg_cm_file, dpi=300, bbox_inches='tight')\n",
    "    plt.close()\n",
    "    \n",
    "    wandb.log({\"aggregate_confusion_matrix\": wandb.Image(agg_cm_file)})\n",
    "    \n",
    "    # Log aggregate metrics\n",
    "    agg_metrics = {\n",
    "        'mean_accuracy': mean_acc,\n",
    "        'std_accuracy': std_acc,\n",
    "        'min_accuracy': min(accuracies),\n",
    "        'max_accuracy': max(accuracies),\n",
    "        'num_runs': num_runs\n",
    "    }\n",
    "    \n",
    "    # Create a summary table with links to all runs\n",
    "    run_table = wandb.Table(columns=[\"Run ID\", \"Accuracy\"])\n",
    "    for i, (run_id, metrics) in enumerate(zip(run_ids, all_metrics)):\n",
    "        run_table.add_data(i+1, metrics['test_accuracy'])\n",
    "    \n",
    "    wandb.log({\"runs_summary\": run_table})\n",
    "    wandb.log(agg_metrics)\n",
    "    \n",
    "    # Finish the aggregate run\n",
    "    wandb.finish()\n",
    "    \n",
    "    return all_metrics, all_cms, all_y_preds"
   ]
  },
  {
   "cell_type": "code",
   "execution_count": 11,
   "metadata": {},
   "outputs": [
    {
     "data": {
      "text/html": [
       "Tracking run with wandb version 0.19.7"
      ],
      "text/plain": [
       "<IPython.core.display.HTML object>"
      ]
     },
     "metadata": {},
     "output_type": "display_data"
    },
    {
     "data": {
      "text/html": [
       "Run data is saved locally in <code>c:\\Users\\DELL\\Desktop\\Coding\\Python\\DL\\Assignment 1\\wandb\\run-20250302_122148-jjopxqli</code>"
      ],
      "text/plain": [
       "<IPython.core.display.HTML object>"
      ]
     },
     "metadata": {},
     "output_type": "display_data"
    },
    {
     "data": {
      "text/html": [
       "Syncing run <strong><a href='https://wandb.ai/bullseye2608-indian-institute-of-technology-madras/confusion_matrix_trials/runs/jjopxqli' target=\"_blank\">optimal-run-1</a></strong> to <a href='https://wandb.ai/bullseye2608-indian-institute-of-technology-madras/confusion_matrix_trials' target=\"_blank\">Weights & Biases</a> (<a href='https://wandb.me/developer-guide' target=\"_blank\">docs</a>)<br>"
      ],
      "text/plain": [
       "<IPython.core.display.HTML object>"
      ]
     },
     "metadata": {},
     "output_type": "display_data"
    },
    {
     "data": {
      "text/html": [
       " View project at <a href='https://wandb.ai/bullseye2608-indian-institute-of-technology-madras/confusion_matrix_trials' target=\"_blank\">https://wandb.ai/bullseye2608-indian-institute-of-technology-madras/confusion_matrix_trials</a>"
      ],
      "text/plain": [
       "<IPython.core.display.HTML object>"
      ]
     },
     "metadata": {},
     "output_type": "display_data"
    },
    {
     "data": {
      "text/html": [
       " View run at <a href='https://wandb.ai/bullseye2608-indian-institute-of-technology-madras/confusion_matrix_trials/runs/jjopxqli' target=\"_blank\">https://wandb.ai/bullseye2608-indian-institute-of-technology-madras/confusion_matrix_trials/runs/jjopxqli</a>"
      ],
      "text/plain": [
       "<IPython.core.display.HTML object>"
      ]
     },
     "metadata": {},
     "output_type": "display_data"
    },
    {
     "name": "stdout",
     "output_type": "stream",
     "text": [
      "epochs: 10\n",
      "batch_size: 64\n",
      "loss: cross_entropy\n",
      "optimizer: adam\n",
      "learning_rate: 0.001\n",
      "momentum: 0.9\n",
      "beta: 0.9\n",
      "beta1: 0.9\n",
      "beta2: 0.999\n",
      "epsilon: 1e-08\n",
      "weight_decay: 0\n",
      "weight_init: xavier\n",
      "num_layers: 3\n",
      "hidden_size: 128\n",
      "activation: relu\n"
     ]
    },
    {
     "data": {
      "text/html": [],
      "text/plain": [
       "<IPython.core.display.HTML object>"
      ]
     },
     "metadata": {},
     "output_type": "display_data"
    },
    {
     "data": {
      "text/html": [
       "<br>    <style><br>        .wandb-row {<br>            display: flex;<br>            flex-direction: row;<br>            flex-wrap: wrap;<br>            justify-content: flex-start;<br>            width: 100%;<br>        }<br>        .wandb-col {<br>            display: flex;<br>            flex-direction: column;<br>            flex-basis: 100%;<br>            flex: 1;<br>            padding: 10px;<br>        }<br>    </style><br><div class=\"wandb-row\"><div class=\"wandb-col\"><h3>Run history:</h3><br/><table class=\"wandb\"><tr><td>epoch</td><td>▁▂▃▃▄▅▆▆▇█</td></tr><tr><td>f1_Ankle boot</td><td>▁</td></tr><tr><td>f1_Bag</td><td>▁</td></tr><tr><td>f1_Coat</td><td>▁</td></tr><tr><td>f1_Dress</td><td>▁</td></tr><tr><td>f1_Pullover</td><td>▁</td></tr><tr><td>f1_Sandal</td><td>▁</td></tr><tr><td>f1_Shirt</td><td>▁</td></tr><tr><td>f1_Sneaker</td><td>▁</td></tr><tr><td>f1_T-shirt/top</td><td>▁</td></tr><tr><td>f1_Trouser</td><td>▁</td></tr><tr><td>precision_Ankle boot</td><td>▁</td></tr><tr><td>precision_Bag</td><td>▁</td></tr><tr><td>precision_Coat</td><td>▁</td></tr><tr><td>precision_Dress</td><td>▁</td></tr><tr><td>precision_Pullover</td><td>▁</td></tr><tr><td>precision_Sandal</td><td>▁</td></tr><tr><td>precision_Shirt</td><td>▁</td></tr><tr><td>precision_Sneaker</td><td>▁</td></tr><tr><td>precision_T-shirt/top</td><td>▁</td></tr><tr><td>precision_Trouser</td><td>▁</td></tr><tr><td>recall_Ankle boot</td><td>▁</td></tr><tr><td>recall_Bag</td><td>▁</td></tr><tr><td>recall_Coat</td><td>▁</td></tr><tr><td>recall_Dress</td><td>▁</td></tr><tr><td>recall_Pullover</td><td>▁</td></tr><tr><td>recall_Sandal</td><td>▁</td></tr><tr><td>recall_Shirt</td><td>▁</td></tr><tr><td>recall_Sneaker</td><td>▁</td></tr><tr><td>recall_T-shirt/top</td><td>▁</td></tr><tr><td>recall_Trouser</td><td>▁</td></tr><tr><td>run_id</td><td>▁</td></tr><tr><td>test_accuracy</td><td>▁▁</td></tr><tr><td>test_loss</td><td>▁</td></tr><tr><td>train_accuracy</td><td>▁▄▂▆▆▇▆███</td></tr><tr><td>train_loss</td><td>█▁▂▁▁▂▂▁▁▁</td></tr><tr><td>val_accuracy</td><td>▁▅▂▆▆█▆███</td></tr><tr><td>val_loss</td><td>█▄▇▂▂▁▃▁▁▂</td></tr></table><br/></div><div class=\"wandb-col\"><h3>Run summary:</h3><br/><table class=\"wandb\"><tr><td>epoch</td><td>9</td></tr><tr><td>f1_Ankle boot</td><td>0.94571</td></tr><tr><td>f1_Bag</td><td>0.96909</td></tr><tr><td>f1_Coat</td><td>0.79325</td></tr><tr><td>f1_Dress</td><td>0.8986</td></tr><tr><td>f1_Pullover</td><td>0.80586</td></tr><tr><td>f1_Sandal</td><td>0.96364</td></tr><tr><td>f1_Shirt</td><td>0.70081</td></tr><tr><td>f1_Sneaker</td><td>0.92403</td></tr><tr><td>f1_T-shirt/top</td><td>0.84517</td></tr><tr><td>f1_Trouser</td><td>0.9901</td></tr><tr><td>precision_Ankle boot</td><td>0.91476</td></tr><tr><td>precision_Bag</td><td>0.97152</td></tr><tr><td>precision_Coat</td><td>0.79932</td></tr><tr><td>precision_Dress</td><td>0.88907</td></tr><tr><td>precision_Pullover</td><td>0.73975</td></tr><tr><td>precision_Sandal</td><td>0.96683</td></tr><tr><td>precision_Shirt</td><td>0.77689</td></tr><tr><td>precision_Sneaker</td><td>0.95788</td></tr><tr><td>precision_T-shirt/top</td><td>0.84734</td></tr><tr><td>precision_Trouser</td><td>0.99338</td></tr><tr><td>recall_Ankle boot</td><td>0.97883</td></tr><tr><td>recall_Bag</td><td>0.96667</td></tr><tr><td>recall_Coat</td><td>0.78727</td></tr><tr><td>recall_Dress</td><td>0.90833</td></tr><tr><td>recall_Pullover</td><td>0.88494</td></tr><tr><td>recall_Sandal</td><td>0.96046</td></tr><tr><td>recall_Shirt</td><td>0.6383</td></tr><tr><td>recall_Sneaker</td><td>0.89249</td></tr><tr><td>recall_T-shirt/top</td><td>0.843</td></tr><tr><td>recall_Trouser</td><td>0.98684</td></tr><tr><td>run_id</td><td>1</td></tr><tr><td>test_accuracy</td><td>0.88483</td></tr><tr><td>test_loss</td><td>0.3074</td></tr><tr><td>train_accuracy</td><td>0.91569</td></tr><tr><td>train_loss</td><td>0.21174</td></tr><tr><td>val_accuracy</td><td>0.88483</td></tr><tr><td>val_loss</td><td>0.3074</td></tr></table><br/></div></div>"
      ],
      "text/plain": [
       "<IPython.core.display.HTML object>"
      ]
     },
     "metadata": {},
     "output_type": "display_data"
    },
    {
     "data": {
      "text/html": [
       " View run <strong style=\"color:#cdcd00\">optimal-run-1</strong> at: <a href='https://wandb.ai/bullseye2608-indian-institute-of-technology-madras/confusion_matrix_trials/runs/jjopxqli' target=\"_blank\">https://wandb.ai/bullseye2608-indian-institute-of-technology-madras/confusion_matrix_trials/runs/jjopxqli</a><br> View project at: <a href='https://wandb.ai/bullseye2608-indian-institute-of-technology-madras/confusion_matrix_trials' target=\"_blank\">https://wandb.ai/bullseye2608-indian-institute-of-technology-madras/confusion_matrix_trials</a><br>Synced 5 W&B file(s), 2 media file(s), 2 artifact file(s) and 0 other file(s)"
      ],
      "text/plain": [
       "<IPython.core.display.HTML object>"
      ]
     },
     "metadata": {},
     "output_type": "display_data"
    },
    {
     "data": {
      "text/html": [
       "Find logs at: <code>.\\wandb\\run-20250302_122148-jjopxqli\\logs</code>"
      ],
      "text/plain": [
       "<IPython.core.display.HTML object>"
      ]
     },
     "metadata": {},
     "output_type": "display_data"
    },
    {
     "name": "stdout",
     "output_type": "stream",
     "text": [
      "Completed run 1/4 with accuracy: 0.8848\n"
     ]
    },
    {
     "data": {
      "text/html": [
       "creating run (0.1s)"
      ],
      "text/plain": [
       "<IPython.core.display.HTML object>"
      ]
     },
     "metadata": {},
     "output_type": "display_data"
    },
    {
     "data": {
      "text/html": [
       "Tracking run with wandb version 0.19.7"
      ],
      "text/plain": [
       "<IPython.core.display.HTML object>"
      ]
     },
     "metadata": {},
     "output_type": "display_data"
    },
    {
     "data": {
      "text/html": [
       "Run data is saved locally in <code>c:\\Users\\DELL\\Desktop\\Coding\\Python\\DL\\Assignment 1\\wandb\\run-20250302_122221-58o3iipv</code>"
      ],
      "text/plain": [
       "<IPython.core.display.HTML object>"
      ]
     },
     "metadata": {},
     "output_type": "display_data"
    },
    {
     "data": {
      "text/html": [
       "Syncing run <strong><a href='https://wandb.ai/bullseye2608-indian-institute-of-technology-madras/confusion_matrix_trials/runs/58o3iipv' target=\"_blank\">optimal-run-2</a></strong> to <a href='https://wandb.ai/bullseye2608-indian-institute-of-technology-madras/confusion_matrix_trials' target=\"_blank\">Weights & Biases</a> (<a href='https://wandb.me/developer-guide' target=\"_blank\">docs</a>)<br>"
      ],
      "text/plain": [
       "<IPython.core.display.HTML object>"
      ]
     },
     "metadata": {},
     "output_type": "display_data"
    },
    {
     "data": {
      "text/html": [
       " View project at <a href='https://wandb.ai/bullseye2608-indian-institute-of-technology-madras/confusion_matrix_trials' target=\"_blank\">https://wandb.ai/bullseye2608-indian-institute-of-technology-madras/confusion_matrix_trials</a>"
      ],
      "text/plain": [
       "<IPython.core.display.HTML object>"
      ]
     },
     "metadata": {},
     "output_type": "display_data"
    },
    {
     "data": {
      "text/html": [
       " View run at <a href='https://wandb.ai/bullseye2608-indian-institute-of-technology-madras/confusion_matrix_trials/runs/58o3iipv' target=\"_blank\">https://wandb.ai/bullseye2608-indian-institute-of-technology-madras/confusion_matrix_trials/runs/58o3iipv</a>"
      ],
      "text/plain": [
       "<IPython.core.display.HTML object>"
      ]
     },
     "metadata": {},
     "output_type": "display_data"
    },
    {
     "name": "stdout",
     "output_type": "stream",
     "text": [
      "epochs: 10\n",
      "batch_size: 64\n",
      "loss: cross_entropy\n",
      "optimizer: adam\n",
      "learning_rate: 0.001\n",
      "momentum: 0.9\n",
      "beta: 0.9\n",
      "beta1: 0.9\n",
      "beta2: 0.999\n",
      "epsilon: 1e-08\n",
      "weight_decay: 0\n",
      "weight_init: xavier\n",
      "num_layers: 4\n",
      "hidden_size: 128\n",
      "activation: relu\n"
     ]
    },
    {
     "data": {
      "text/html": [],
      "text/plain": [
       "<IPython.core.display.HTML object>"
      ]
     },
     "metadata": {},
     "output_type": "display_data"
    },
    {
     "data": {
      "text/html": [
       "<br>    <style><br>        .wandb-row {<br>            display: flex;<br>            flex-direction: row;<br>            flex-wrap: wrap;<br>            justify-content: flex-start;<br>            width: 100%;<br>        }<br>        .wandb-col {<br>            display: flex;<br>            flex-direction: column;<br>            flex-basis: 100%;<br>            flex: 1;<br>            padding: 10px;<br>        }<br>    </style><br><div class=\"wandb-row\"><div class=\"wandb-col\"><h3>Run history:</h3><br/><table class=\"wandb\"><tr><td>epoch</td><td>▁▂▃▃▄▅▆▆▇█</td></tr><tr><td>f1_Ankle boot</td><td>▁</td></tr><tr><td>f1_Bag</td><td>▁</td></tr><tr><td>f1_Coat</td><td>▁</td></tr><tr><td>f1_Dress</td><td>▁</td></tr><tr><td>f1_Pullover</td><td>▁</td></tr><tr><td>f1_Sandal</td><td>▁</td></tr><tr><td>f1_Shirt</td><td>▁</td></tr><tr><td>f1_Sneaker</td><td>▁</td></tr><tr><td>f1_T-shirt/top</td><td>▁</td></tr><tr><td>f1_Trouser</td><td>▁</td></tr><tr><td>precision_Ankle boot</td><td>▁</td></tr><tr><td>precision_Bag</td><td>▁</td></tr><tr><td>precision_Coat</td><td>▁</td></tr><tr><td>precision_Dress</td><td>▁</td></tr><tr><td>precision_Pullover</td><td>▁</td></tr><tr><td>precision_Sandal</td><td>▁</td></tr><tr><td>precision_Shirt</td><td>▁</td></tr><tr><td>precision_Sneaker</td><td>▁</td></tr><tr><td>precision_T-shirt/top</td><td>▁</td></tr><tr><td>precision_Trouser</td><td>▁</td></tr><tr><td>recall_Ankle boot</td><td>▁</td></tr><tr><td>recall_Bag</td><td>▁</td></tr><tr><td>recall_Coat</td><td>▁</td></tr><tr><td>recall_Dress</td><td>▁</td></tr><tr><td>recall_Pullover</td><td>▁</td></tr><tr><td>recall_Sandal</td><td>▁</td></tr><tr><td>recall_Shirt</td><td>▁</td></tr><tr><td>recall_Sneaker</td><td>▁</td></tr><tr><td>recall_T-shirt/top</td><td>▁</td></tr><tr><td>recall_Trouser</td><td>▁</td></tr><tr><td>run_id</td><td>▁</td></tr><tr><td>test_accuracy</td><td>▁▁</td></tr><tr><td>test_loss</td><td>▁</td></tr><tr><td>train_accuracy</td><td>▁▃▅▅▆▆▆▇██</td></tr><tr><td>train_loss</td><td>█▂▂▂▂▂▂▂▁▁</td></tr><tr><td>val_accuracy</td><td>▁▄▆▆▇▇▆▇█▇</td></tr><tr><td>val_loss</td><td>█▅▃▃▂▂▂▂▁▁</td></tr></table><br/></div><div class=\"wandb-col\"><h3>Run summary:</h3><br/><table class=\"wandb\"><tr><td>epoch</td><td>9</td></tr><tr><td>f1_Ankle boot</td><td>0.95588</td></tr><tr><td>f1_Bag</td><td>0.96315</td></tr><tr><td>f1_Coat</td><td>0.81519</td></tr><tr><td>f1_Dress</td><td>0.8853</td></tr><tr><td>f1_Pullover</td><td>0.817</td></tr><tr><td>f1_Sandal</td><td>0.96265</td></tr><tr><td>f1_Shirt</td><td>0.71942</td></tr><tr><td>f1_Sneaker</td><td>0.93663</td></tr><tr><td>f1_T-shirt/top</td><td>0.81217</td></tr><tr><td>f1_Trouser</td><td>0.9835</td></tr><tr><td>precision_Ankle boot</td><td>0.95902</td></tr><tr><td>precision_Bag</td><td>0.96801</td></tr><tr><td>precision_Coat</td><td>0.82143</td></tr><tr><td>precision_Dress</td><td>0.85893</td></tr><tr><td>precision_Pullover</td><td>0.83808</td></tr><tr><td>precision_Sandal</td><td>0.99299</td></tr><tr><td>precision_Shirt</td><td>0.70312</td></tr><tr><td>precision_Sneaker</td><td>0.90461</td></tr><tr><td>precision_T-shirt/top</td><td>0.82801</td></tr><tr><td>precision_Trouser</td><td>0.98675</td></tr><tr><td>recall_Ankle boot</td><td>0.95277</td></tr><tr><td>recall_Bag</td><td>0.95833</td></tr><tr><td>recall_Coat</td><td>0.80905</td></tr><tr><td>recall_Dress</td><td>0.91333</td></tr><tr><td>recall_Pullover</td><td>0.79695</td></tr><tr><td>recall_Sandal</td><td>0.9341</td></tr><tr><td>recall_Shirt</td><td>0.7365</td></tr><tr><td>recall_Sneaker</td><td>0.97099</td></tr><tr><td>recall_T-shirt/top</td><td>0.79693</td></tr><tr><td>recall_Trouser</td><td>0.98026</td></tr><tr><td>run_id</td><td>2</td></tr><tr><td>test_accuracy</td><td>0.88517</td></tr><tr><td>test_loss</td><td>0.30704</td></tr><tr><td>train_accuracy</td><td>0.91617</td></tr><tr><td>train_loss</td><td>0.04704</td></tr><tr><td>val_accuracy</td><td>0.88517</td></tr><tr><td>val_loss</td><td>0.30704</td></tr></table><br/></div></div>"
      ],
      "text/plain": [
       "<IPython.core.display.HTML object>"
      ]
     },
     "metadata": {},
     "output_type": "display_data"
    },
    {
     "data": {
      "text/html": [
       " View run <strong style=\"color:#cdcd00\">optimal-run-2</strong> at: <a href='https://wandb.ai/bullseye2608-indian-institute-of-technology-madras/confusion_matrix_trials/runs/58o3iipv' target=\"_blank\">https://wandb.ai/bullseye2608-indian-institute-of-technology-madras/confusion_matrix_trials/runs/58o3iipv</a><br> View project at: <a href='https://wandb.ai/bullseye2608-indian-institute-of-technology-madras/confusion_matrix_trials' target=\"_blank\">https://wandb.ai/bullseye2608-indian-institute-of-technology-madras/confusion_matrix_trials</a><br>Synced 5 W&B file(s), 2 media file(s), 2 artifact file(s) and 0 other file(s)"
      ],
      "text/plain": [
       "<IPython.core.display.HTML object>"
      ]
     },
     "metadata": {},
     "output_type": "display_data"
    },
    {
     "data": {
      "text/html": [
       "Find logs at: <code>.\\wandb\\run-20250302_122221-58o3iipv\\logs</code>"
      ],
      "text/plain": [
       "<IPython.core.display.HTML object>"
      ]
     },
     "metadata": {},
     "output_type": "display_data"
    },
    {
     "name": "stdout",
     "output_type": "stream",
     "text": [
      "Completed run 2/4 with accuracy: 0.8852\n"
     ]
    },
    {
     "data": {
      "text/html": [
       "Tracking run with wandb version 0.19.7"
      ],
      "text/plain": [
       "<IPython.core.display.HTML object>"
      ]
     },
     "metadata": {},
     "output_type": "display_data"
    },
    {
     "data": {
      "text/html": [
       "Run data is saved locally in <code>c:\\Users\\DELL\\Desktop\\Coding\\Python\\DL\\Assignment 1\\wandb\\run-20250302_122304-c2pzj3hi</code>"
      ],
      "text/plain": [
       "<IPython.core.display.HTML object>"
      ]
     },
     "metadata": {},
     "output_type": "display_data"
    },
    {
     "data": {
      "text/html": [
       "Syncing run <strong><a href='https://wandb.ai/bullseye2608-indian-institute-of-technology-madras/confusion_matrix_trials/runs/c2pzj3hi' target=\"_blank\">optimal-run-3</a></strong> to <a href='https://wandb.ai/bullseye2608-indian-institute-of-technology-madras/confusion_matrix_trials' target=\"_blank\">Weights & Biases</a> (<a href='https://wandb.me/developer-guide' target=\"_blank\">docs</a>)<br>"
      ],
      "text/plain": [
       "<IPython.core.display.HTML object>"
      ]
     },
     "metadata": {},
     "output_type": "display_data"
    },
    {
     "data": {
      "text/html": [
       " View project at <a href='https://wandb.ai/bullseye2608-indian-institute-of-technology-madras/confusion_matrix_trials' target=\"_blank\">https://wandb.ai/bullseye2608-indian-institute-of-technology-madras/confusion_matrix_trials</a>"
      ],
      "text/plain": [
       "<IPython.core.display.HTML object>"
      ]
     },
     "metadata": {},
     "output_type": "display_data"
    },
    {
     "data": {
      "text/html": [
       " View run at <a href='https://wandb.ai/bullseye2608-indian-institute-of-technology-madras/confusion_matrix_trials/runs/c2pzj3hi' target=\"_blank\">https://wandb.ai/bullseye2608-indian-institute-of-technology-madras/confusion_matrix_trials/runs/c2pzj3hi</a>"
      ],
      "text/plain": [
       "<IPython.core.display.HTML object>"
      ]
     },
     "metadata": {},
     "output_type": "display_data"
    },
    {
     "name": "stdout",
     "output_type": "stream",
     "text": [
      "epochs: 10\n",
      "batch_size: 32\n",
      "loss: cross_entropy\n",
      "optimizer: adam\n",
      "learning_rate: 0.001\n",
      "momentum: 0.9\n",
      "beta: 0.9\n",
      "beta1: 0.9\n",
      "beta2: 0.999\n",
      "epsilon: 1e-08\n",
      "weight_decay: 0\n",
      "weight_init: xavier\n",
      "num_layers: 4\n",
      "hidden_size: 128\n",
      "activation: relu\n"
     ]
    },
    {
     "data": {
      "text/html": [],
      "text/plain": [
       "<IPython.core.display.HTML object>"
      ]
     },
     "metadata": {},
     "output_type": "display_data"
    },
    {
     "data": {
      "text/html": [
       "<br>    <style><br>        .wandb-row {<br>            display: flex;<br>            flex-direction: row;<br>            flex-wrap: wrap;<br>            justify-content: flex-start;<br>            width: 100%;<br>        }<br>        .wandb-col {<br>            display: flex;<br>            flex-direction: column;<br>            flex-basis: 100%;<br>            flex: 1;<br>            padding: 10px;<br>        }<br>    </style><br><div class=\"wandb-row\"><div class=\"wandb-col\"><h3>Run history:</h3><br/><table class=\"wandb\"><tr><td>epoch</td><td>▁▂▃▃▄▅▆▆▇█</td></tr><tr><td>f1_Ankle boot</td><td>▁</td></tr><tr><td>f1_Bag</td><td>▁</td></tr><tr><td>f1_Coat</td><td>▁</td></tr><tr><td>f1_Dress</td><td>▁</td></tr><tr><td>f1_Pullover</td><td>▁</td></tr><tr><td>f1_Sandal</td><td>▁</td></tr><tr><td>f1_Shirt</td><td>▁</td></tr><tr><td>f1_Sneaker</td><td>▁</td></tr><tr><td>f1_T-shirt/top</td><td>▁</td></tr><tr><td>f1_Trouser</td><td>▁</td></tr><tr><td>precision_Ankle boot</td><td>▁</td></tr><tr><td>precision_Bag</td><td>▁</td></tr><tr><td>precision_Coat</td><td>▁</td></tr><tr><td>precision_Dress</td><td>▁</td></tr><tr><td>precision_Pullover</td><td>▁</td></tr><tr><td>precision_Sandal</td><td>▁</td></tr><tr><td>precision_Shirt</td><td>▁</td></tr><tr><td>precision_Sneaker</td><td>▁</td></tr><tr><td>precision_T-shirt/top</td><td>▁</td></tr><tr><td>precision_Trouser</td><td>▁</td></tr><tr><td>recall_Ankle boot</td><td>▁</td></tr><tr><td>recall_Bag</td><td>▁</td></tr><tr><td>recall_Coat</td><td>▁</td></tr><tr><td>recall_Dress</td><td>▁</td></tr><tr><td>recall_Pullover</td><td>▁</td></tr><tr><td>recall_Sandal</td><td>▁</td></tr><tr><td>recall_Shirt</td><td>▁</td></tr><tr><td>recall_Sneaker</td><td>▁</td></tr><tr><td>recall_T-shirt/top</td><td>▁</td></tr><tr><td>recall_Trouser</td><td>▁</td></tr><tr><td>run_id</td><td>▁</td></tr><tr><td>test_accuracy</td><td>▁▁</td></tr><tr><td>test_loss</td><td>▁</td></tr><tr><td>train_accuracy</td><td>▁▃▃▃▅▄▄▇▆█</td></tr><tr><td>train_loss</td><td>█▇▁▁▂▂▂▃▂▄</td></tr><tr><td>val_accuracy</td><td>▁▄▃▃▆▄▄▇▆█</td></tr><tr><td>val_loss</td><td>█▆▄▅▃▅▇▁▂▁</td></tr></table><br/></div><div class=\"wandb-col\"><h3>Run summary:</h3><br/><table class=\"wandb\"><tr><td>epoch</td><td>9</td></tr><tr><td>f1_Ankle boot</td><td>0.95844</td></tr><tr><td>f1_Bag</td><td>0.96302</td></tr><tr><td>f1_Coat</td><td>0.81376</td></tr><tr><td>f1_Dress</td><td>0.8953</td></tr><tr><td>f1_Pullover</td><td>0.82506</td></tr><tr><td>f1_Sandal</td><td>0.96919</td></tr><tr><td>f1_Shirt</td><td>0.71064</td></tr><tr><td>f1_Sneaker</td><td>0.94835</td></tr><tr><td>f1_T-shirt/top</td><td>0.84237</td></tr><tr><td>f1_Trouser</td><td>0.98837</td></tr><tr><td>precision_Ankle boot</td><td>0.95922</td></tr><tr><td>precision_Bag</td><td>0.94976</td></tr><tr><td>precision_Coat</td><td>0.81513</td></tr><tr><td>precision_Dress</td><td>0.88581</td></tr><tr><td>precision_Pullover</td><td>0.79467</td></tr><tr><td>precision_Sandal</td><td>0.9798</td></tr><tr><td>precision_Shirt</td><td>0.76806</td></tr><tr><td>precision_Sneaker</td><td>0.94118</td></tr><tr><td>precision_T-shirt/top</td><td>0.82382</td></tr><tr><td>precision_Trouser</td><td>0.99832</td></tr><tr><td>recall_Ankle boot</td><td>0.95765</td></tr><tr><td>recall_Bag</td><td>0.97667</td></tr><tr><td>recall_Coat</td><td>0.8124</td></tr><tr><td>recall_Dress</td><td>0.905</td></tr><tr><td>recall_Pullover</td><td>0.85787</td></tr><tr><td>recall_Sandal</td><td>0.95881</td></tr><tr><td>recall_Shirt</td><td>0.66121</td></tr><tr><td>recall_Sneaker</td><td>0.95563</td></tr><tr><td>recall_T-shirt/top</td><td>0.86177</td></tr><tr><td>recall_Trouser</td><td>0.97862</td></tr><tr><td>run_id</td><td>3</td></tr><tr><td>test_accuracy</td><td>0.8925</td></tr><tr><td>test_loss</td><td>0.30966</td></tr><tr><td>train_accuracy</td><td>0.91881</td></tr><tr><td>train_loss</td><td>0.36182</td></tr><tr><td>val_accuracy</td><td>0.8925</td></tr><tr><td>val_loss</td><td>0.30966</td></tr></table><br/></div></div>"
      ],
      "text/plain": [
       "<IPython.core.display.HTML object>"
      ]
     },
     "metadata": {},
     "output_type": "display_data"
    },
    {
     "data": {
      "text/html": [
       " View run <strong style=\"color:#cdcd00\">optimal-run-3</strong> at: <a href='https://wandb.ai/bullseye2608-indian-institute-of-technology-madras/confusion_matrix_trials/runs/c2pzj3hi' target=\"_blank\">https://wandb.ai/bullseye2608-indian-institute-of-technology-madras/confusion_matrix_trials/runs/c2pzj3hi</a><br> View project at: <a href='https://wandb.ai/bullseye2608-indian-institute-of-technology-madras/confusion_matrix_trials' target=\"_blank\">https://wandb.ai/bullseye2608-indian-institute-of-technology-madras/confusion_matrix_trials</a><br>Synced 5 W&B file(s), 2 media file(s), 2 artifact file(s) and 0 other file(s)"
      ],
      "text/plain": [
       "<IPython.core.display.HTML object>"
      ]
     },
     "metadata": {},
     "output_type": "display_data"
    },
    {
     "data": {
      "text/html": [
       "Find logs at: <code>.\\wandb\\run-20250302_122304-c2pzj3hi\\logs</code>"
      ],
      "text/plain": [
       "<IPython.core.display.HTML object>"
      ]
     },
     "metadata": {},
     "output_type": "display_data"
    },
    {
     "name": "stdout",
     "output_type": "stream",
     "text": [
      "Completed run 3/4 with accuracy: 0.8925\n"
     ]
    },
    {
     "data": {
      "text/html": [
       "Tracking run with wandb version 0.19.7"
      ],
      "text/plain": [
       "<IPython.core.display.HTML object>"
      ]
     },
     "metadata": {},
     "output_type": "display_data"
    },
    {
     "data": {
      "text/html": [
       "Run data is saved locally in <code>c:\\Users\\DELL\\Desktop\\Coding\\Python\\DL\\Assignment 1\\wandb\\run-20250302_122412-j9747z6j</code>"
      ],
      "text/plain": [
       "<IPython.core.display.HTML object>"
      ]
     },
     "metadata": {},
     "output_type": "display_data"
    },
    {
     "data": {
      "text/html": [
       "Syncing run <strong><a href='https://wandb.ai/bullseye2608-indian-institute-of-technology-madras/confusion_matrix_trials/runs/j9747z6j' target=\"_blank\">optimal-run-4</a></strong> to <a href='https://wandb.ai/bullseye2608-indian-institute-of-technology-madras/confusion_matrix_trials' target=\"_blank\">Weights & Biases</a> (<a href='https://wandb.me/developer-guide' target=\"_blank\">docs</a>)<br>"
      ],
      "text/plain": [
       "<IPython.core.display.HTML object>"
      ]
     },
     "metadata": {},
     "output_type": "display_data"
    },
    {
     "data": {
      "text/html": [
       " View project at <a href='https://wandb.ai/bullseye2608-indian-institute-of-technology-madras/confusion_matrix_trials' target=\"_blank\">https://wandb.ai/bullseye2608-indian-institute-of-technology-madras/confusion_matrix_trials</a>"
      ],
      "text/plain": [
       "<IPython.core.display.HTML object>"
      ]
     },
     "metadata": {},
     "output_type": "display_data"
    },
    {
     "data": {
      "text/html": [
       " View run at <a href='https://wandb.ai/bullseye2608-indian-institute-of-technology-madras/confusion_matrix_trials/runs/j9747z6j' target=\"_blank\">https://wandb.ai/bullseye2608-indian-institute-of-technology-madras/confusion_matrix_trials/runs/j9747z6j</a>"
      ],
      "text/plain": [
       "<IPython.core.display.HTML object>"
      ]
     },
     "metadata": {},
     "output_type": "display_data"
    },
    {
     "name": "stdout",
     "output_type": "stream",
     "text": [
      "epochs: 15\n",
      "batch_size: 128\n",
      "loss: cross_entropy\n",
      "optimizer: adam\n",
      "learning_rate: 0.001\n",
      "momentum: 0.9\n",
      "beta: 0.9\n",
      "beta1: 0.9\n",
      "beta2: 0.999\n",
      "epsilon: 1e-08\n",
      "weight_decay: 0\n",
      "weight_init: xavier\n",
      "num_layers: 5\n",
      "hidden_size: 128\n",
      "activation: relu\n"
     ]
    },
    {
     "data": {
      "text/html": [],
      "text/plain": [
       "<IPython.core.display.HTML object>"
      ]
     },
     "metadata": {},
     "output_type": "display_data"
    },
    {
     "data": {
      "text/html": [
       "<br>    <style><br>        .wandb-row {<br>            display: flex;<br>            flex-direction: row;<br>            flex-wrap: wrap;<br>            justify-content: flex-start;<br>            width: 100%;<br>        }<br>        .wandb-col {<br>            display: flex;<br>            flex-direction: column;<br>            flex-basis: 100%;<br>            flex: 1;<br>            padding: 10px;<br>        }<br>    </style><br><div class=\"wandb-row\"><div class=\"wandb-col\"><h3>Run history:</h3><br/><table class=\"wandb\"><tr><td>epoch</td><td>▁▁▂▃▃▃▄▅▅▅▆▇▇▇█</td></tr><tr><td>f1_Ankle boot</td><td>▁</td></tr><tr><td>f1_Bag</td><td>▁</td></tr><tr><td>f1_Coat</td><td>▁</td></tr><tr><td>f1_Dress</td><td>▁</td></tr><tr><td>f1_Pullover</td><td>▁</td></tr><tr><td>f1_Sandal</td><td>▁</td></tr><tr><td>f1_Shirt</td><td>▁</td></tr><tr><td>f1_Sneaker</td><td>▁</td></tr><tr><td>f1_T-shirt/top</td><td>▁</td></tr><tr><td>f1_Trouser</td><td>▁</td></tr><tr><td>precision_Ankle boot</td><td>▁</td></tr><tr><td>precision_Bag</td><td>▁</td></tr><tr><td>precision_Coat</td><td>▁</td></tr><tr><td>precision_Dress</td><td>▁</td></tr><tr><td>precision_Pullover</td><td>▁</td></tr><tr><td>precision_Sandal</td><td>▁</td></tr><tr><td>precision_Shirt</td><td>▁</td></tr><tr><td>precision_Sneaker</td><td>▁</td></tr><tr><td>precision_T-shirt/top</td><td>▁</td></tr><tr><td>precision_Trouser</td><td>▁</td></tr><tr><td>recall_Ankle boot</td><td>▁</td></tr><tr><td>recall_Bag</td><td>▁</td></tr><tr><td>recall_Coat</td><td>▁</td></tr><tr><td>recall_Dress</td><td>▁</td></tr><tr><td>recall_Pullover</td><td>▁</td></tr><tr><td>recall_Sandal</td><td>▁</td></tr><tr><td>recall_Shirt</td><td>▁</td></tr><tr><td>recall_Sneaker</td><td>▁</td></tr><tr><td>recall_T-shirt/top</td><td>▁</td></tr><tr><td>recall_Trouser</td><td>▁</td></tr><tr><td>run_id</td><td>▁</td></tr><tr><td>test_accuracy</td><td>▁▁</td></tr><tr><td>test_loss</td><td>▁</td></tr><tr><td>train_accuracy</td><td>▁▃▃▅▅▆▆▆▇▇▇▇███</td></tr><tr><td>train_loss</td><td>██▁▁▁▁▁▁▁▁▁▂▂▂▁</td></tr><tr><td>val_accuracy</td><td>▁▄▄▆▅▇▇▇▇█▆▇▇█▇</td></tr><tr><td>val_loss</td><td>█▅▄▂▃▂▂▂▂▁▂▁▂▁▂</td></tr></table><br/></div><div class=\"wandb-col\"><h3>Run summary:</h3><br/><table class=\"wandb\"><tr><td>epoch</td><td>14</td></tr><tr><td>f1_Ankle boot</td><td>0.94702</td></tr><tr><td>f1_Bag</td><td>0.96259</td></tr><tr><td>f1_Coat</td><td>0.81182</td></tr><tr><td>f1_Dress</td><td>0.90213</td></tr><tr><td>f1_Pullover</td><td>0.82072</td></tr><tr><td>f1_Sandal</td><td>0.96186</td></tr><tr><td>f1_Shirt</td><td>0.67055</td></tr><tr><td>f1_Sneaker</td><td>0.93952</td></tr><tr><td>f1_T-shirt/top</td><td>0.82931</td></tr><tr><td>f1_Trouser</td><td>0.98353</td></tr><tr><td>precision_Ankle boot</td><td>0.96296</td></tr><tr><td>precision_Bag</td><td>0.98264</td></tr><tr><td>precision_Coat</td><td>0.75762</td></tr><tr><td>precision_Dress</td><td>0.92174</td></tr><tr><td>precision_Pullover</td><td>0.7984</td></tr><tr><td>precision_Sandal</td><td>0.96828</td></tr><tr><td>precision_Shirt</td><td>0.82536</td></tr><tr><td>precision_Sneaker</td><td>0.91304</td></tr><tr><td>precision_T-shirt/top</td><td>0.76327</td></tr><tr><td>precision_Trouser</td><td>0.98515</td></tr><tr><td>recall_Ankle boot</td><td>0.9316</td></tr><tr><td>recall_Bag</td><td>0.94333</td></tr><tr><td>recall_Coat</td><td>0.87437</td></tr><tr><td>recall_Dress</td><td>0.88333</td></tr><tr><td>recall_Pullover</td><td>0.84433</td></tr><tr><td>recall_Sandal</td><td>0.95552</td></tr><tr><td>recall_Shirt</td><td>0.56465</td></tr><tr><td>recall_Sneaker</td><td>0.96758</td></tr><tr><td>recall_T-shirt/top</td><td>0.90785</td></tr><tr><td>recall_Trouser</td><td>0.98191</td></tr><tr><td>run_id</td><td>4</td></tr><tr><td>test_accuracy</td><td>0.885</td></tr><tr><td>test_loss</td><td>0.32159</td></tr><tr><td>train_accuracy</td><td>0.92385</td></tr><tr><td>train_loss</td><td>0.12053</td></tr><tr><td>val_accuracy</td><td>0.885</td></tr><tr><td>val_loss</td><td>0.32159</td></tr></table><br/></div></div>"
      ],
      "text/plain": [
       "<IPython.core.display.HTML object>"
      ]
     },
     "metadata": {},
     "output_type": "display_data"
    },
    {
     "data": {
      "text/html": [
       " View run <strong style=\"color:#cdcd00\">optimal-run-4</strong> at: <a href='https://wandb.ai/bullseye2608-indian-institute-of-technology-madras/confusion_matrix_trials/runs/j9747z6j' target=\"_blank\">https://wandb.ai/bullseye2608-indian-institute-of-technology-madras/confusion_matrix_trials/runs/j9747z6j</a><br> View project at: <a href='https://wandb.ai/bullseye2608-indian-institute-of-technology-madras/confusion_matrix_trials' target=\"_blank\">https://wandb.ai/bullseye2608-indian-institute-of-technology-madras/confusion_matrix_trials</a><br>Synced 5 W&B file(s), 2 media file(s), 2 artifact file(s) and 0 other file(s)"
      ],
      "text/plain": [
       "<IPython.core.display.HTML object>"
      ]
     },
     "metadata": {},
     "output_type": "display_data"
    },
    {
     "data": {
      "text/html": [
       "Find logs at: <code>.\\wandb\\run-20250302_122412-j9747z6j\\logs</code>"
      ],
      "text/plain": [
       "<IPython.core.display.HTML object>"
      ]
     },
     "metadata": {},
     "output_type": "display_data"
    },
    {
     "name": "stdout",
     "output_type": "stream",
     "text": [
      "Completed run 4/4 with accuracy: 0.8850\n"
     ]
    },
    {
     "data": {
      "text/html": [
       "Tracking run with wandb version 0.19.7"
      ],
      "text/plain": [
       "<IPython.core.display.HTML object>"
      ]
     },
     "metadata": {},
     "output_type": "display_data"
    },
    {
     "data": {
      "text/html": [
       "Run data is saved locally in <code>c:\\Users\\DELL\\Desktop\\Coding\\Python\\DL\\Assignment 1\\wandb\\run-20250302_122459-t1jqllz0</code>"
      ],
      "text/plain": [
       "<IPython.core.display.HTML object>"
      ]
     },
     "metadata": {},
     "output_type": "display_data"
    },
    {
     "data": {
      "text/html": [
       "Syncing run <strong><a href='https://wandb.ai/bullseye2608-indian-institute-of-technology-madras/confusion_matrix_trials/runs/t1jqllz0' target=\"_blank\">aggregate-analysis-4-runs</a></strong> to <a href='https://wandb.ai/bullseye2608-indian-institute-of-technology-madras/confusion_matrix_trials' target=\"_blank\">Weights & Biases</a> (<a href='https://wandb.me/developer-guide' target=\"_blank\">docs</a>)<br>"
      ],
      "text/plain": [
       "<IPython.core.display.HTML object>"
      ]
     },
     "metadata": {},
     "output_type": "display_data"
    },
    {
     "data": {
      "text/html": [
       " View project at <a href='https://wandb.ai/bullseye2608-indian-institute-of-technology-madras/confusion_matrix_trials' target=\"_blank\">https://wandb.ai/bullseye2608-indian-institute-of-technology-madras/confusion_matrix_trials</a>"
      ],
      "text/plain": [
       "<IPython.core.display.HTML object>"
      ]
     },
     "metadata": {},
     "output_type": "display_data"
    },
    {
     "data": {
      "text/html": [
       " View run at <a href='https://wandb.ai/bullseye2608-indian-institute-of-technology-madras/confusion_matrix_trials/runs/t1jqllz0' target=\"_blank\">https://wandb.ai/bullseye2608-indian-institute-of-technology-madras/confusion_matrix_trials/runs/t1jqllz0</a>"
      ],
      "text/plain": [
       "<IPython.core.display.HTML object>"
      ]
     },
     "metadata": {},
     "output_type": "display_data"
    },
    {
     "ename": "ValueError",
     "evalue": "This table expects 3 columns: ['Run ID', 'Accuracy', 'Link'], found 2",
     "output_type": "error",
     "traceback": [
      "\u001b[1;31m---------------------------------------------------------------------------\u001b[0m",
      "\u001b[1;31mValueError\u001b[0m                                Traceback (most recent call last)",
      "Cell \u001b[1;32mIn[11], line 1\u001b[0m\n\u001b[1;32m----> 1\u001b[0m metrics, cms, y_preds \u001b[38;5;241m=\u001b[39m \u001b[43mrun_multiple_experiments\u001b[49m\u001b[43m(\u001b[49m\u001b[43m)\u001b[49m\n\u001b[0;32m      3\u001b[0m \u001b[38;5;28mprint\u001b[39m(\u001b[38;5;124m\"\u001b[39m\u001b[38;5;124mAll runs completed!\u001b[39m\u001b[38;5;124m\"\u001b[39m)\n\u001b[0;32m      4\u001b[0m \u001b[38;5;28mprint\u001b[39m(\u001b[38;5;124mf\u001b[39m\u001b[38;5;124m\"\u001b[39m\u001b[38;5;124mAverage accuracy: \u001b[39m\u001b[38;5;132;01m{\u001b[39;00mnp\u001b[38;5;241m.\u001b[39mmean([m[\u001b[38;5;124m'\u001b[39m\u001b[38;5;124mtest_accuracy\u001b[39m\u001b[38;5;124m'\u001b[39m]\u001b[38;5;250m \u001b[39m\u001b[38;5;28;01mfor\u001b[39;00m\u001b[38;5;250m \u001b[39mm\u001b[38;5;250m \u001b[39m\u001b[38;5;129;01min\u001b[39;00m\u001b[38;5;250m \u001b[39mmetrics])\u001b[38;5;132;01m:\u001b[39;00m\u001b[38;5;124m.4f\u001b[39m\u001b[38;5;132;01m}\u001b[39;00m\u001b[38;5;124m\"\u001b[39m)\n",
      "Cell \u001b[1;32mIn[10], line 210\u001b[0m, in \u001b[0;36mrun_multiple_experiments\u001b[1;34m()\u001b[0m\n\u001b[0;32m    208\u001b[0m run_table \u001b[38;5;241m=\u001b[39m wandb\u001b[38;5;241m.\u001b[39mTable(columns\u001b[38;5;241m=\u001b[39m[\u001b[38;5;124m\"\u001b[39m\u001b[38;5;124mRun ID\u001b[39m\u001b[38;5;124m\"\u001b[39m, \u001b[38;5;124m\"\u001b[39m\u001b[38;5;124mAccuracy\u001b[39m\u001b[38;5;124m\"\u001b[39m, \u001b[38;5;124m\"\u001b[39m\u001b[38;5;124mLink\u001b[39m\u001b[38;5;124m\"\u001b[39m])\n\u001b[0;32m    209\u001b[0m \u001b[38;5;28;01mfor\u001b[39;00m i, (run_id, metrics) \u001b[38;5;129;01min\u001b[39;00m \u001b[38;5;28menumerate\u001b[39m(\u001b[38;5;28mzip\u001b[39m(run_ids, all_metrics)):\n\u001b[1;32m--> 210\u001b[0m     \u001b[43mrun_table\u001b[49m\u001b[38;5;241;43m.\u001b[39;49m\u001b[43madd_data\u001b[49m\u001b[43m(\u001b[49m\u001b[43mi\u001b[49m\u001b[38;5;241;43m+\u001b[39;49m\u001b[38;5;241;43m1\u001b[39;49m\u001b[43m,\u001b[49m\u001b[43m \u001b[49m\u001b[43mmetrics\u001b[49m\u001b[43m[\u001b[49m\u001b[38;5;124;43m'\u001b[39;49m\u001b[38;5;124;43mtest_accuracy\u001b[39;49m\u001b[38;5;124;43m'\u001b[39;49m\u001b[43m]\u001b[49m\u001b[43m)\u001b[49m\n\u001b[0;32m    212\u001b[0m wandb\u001b[38;5;241m.\u001b[39mlog({\u001b[38;5;124m\"\u001b[39m\u001b[38;5;124mruns_summary\u001b[39m\u001b[38;5;124m\"\u001b[39m: run_table})\n\u001b[0;32m    213\u001b[0m wandb\u001b[38;5;241m.\u001b[39mlog(agg_metrics)\n",
      "File \u001b[1;32mc:\\Users\\DELL\\.conda\\envs\\RL\\lib\\site-packages\\wandb\\sdk\\data_types\\table.py:429\u001b[0m, in \u001b[0;36mTable.add_data\u001b[1;34m(self, *data)\u001b[0m\n\u001b[0;32m    424\u001b[0m \u001b[38;5;250m\u001b[39m\u001b[38;5;124;03m\"\"\"Adds a new row of data to the table. The maximum amount of rows in a table is determined by `wandb.Table.MAX_ARTIFACT_ROWS`.\u001b[39;00m\n\u001b[0;32m    425\u001b[0m \n\u001b[0;32m    426\u001b[0m \u001b[38;5;124;03mThe length of the data should match the length of the table column.\u001b[39;00m\n\u001b[0;32m    427\u001b[0m \u001b[38;5;124;03m\"\"\"\u001b[39;00m\n\u001b[0;32m    428\u001b[0m \u001b[38;5;28;01mif\u001b[39;00m \u001b[38;5;28mlen\u001b[39m(data) \u001b[38;5;241m!=\u001b[39m \u001b[38;5;28mlen\u001b[39m(\u001b[38;5;28mself\u001b[39m\u001b[38;5;241m.\u001b[39mcolumns):\n\u001b[1;32m--> 429\u001b[0m     \u001b[38;5;28;01mraise\u001b[39;00m \u001b[38;5;167;01mValueError\u001b[39;00m(\n\u001b[0;32m    430\u001b[0m         \u001b[38;5;124m\"\u001b[39m\u001b[38;5;124mThis table expects \u001b[39m\u001b[38;5;132;01m{}\u001b[39;00m\u001b[38;5;124m columns: \u001b[39m\u001b[38;5;132;01m{}\u001b[39;00m\u001b[38;5;124m, found \u001b[39m\u001b[38;5;132;01m{}\u001b[39;00m\u001b[38;5;124m\"\u001b[39m\u001b[38;5;241m.\u001b[39mformat(\n\u001b[0;32m    431\u001b[0m             \u001b[38;5;28mlen\u001b[39m(\u001b[38;5;28mself\u001b[39m\u001b[38;5;241m.\u001b[39mcolumns), \u001b[38;5;28mself\u001b[39m\u001b[38;5;241m.\u001b[39mcolumns, \u001b[38;5;28mlen\u001b[39m(data)\n\u001b[0;32m    432\u001b[0m         )\n\u001b[0;32m    433\u001b[0m     )\n\u001b[0;32m    435\u001b[0m \u001b[38;5;66;03m# Special case to pre-emptively cast a column as a key.\u001b[39;00m\n\u001b[0;32m    436\u001b[0m \u001b[38;5;66;03m# Needed as String.assign(Key) is invalid\u001b[39;00m\n\u001b[0;32m    437\u001b[0m \u001b[38;5;28;01mfor\u001b[39;00m ndx, item \u001b[38;5;129;01min\u001b[39;00m \u001b[38;5;28menumerate\u001b[39m(data):\n",
      "\u001b[1;31mValueError\u001b[0m: This table expects 3 columns: ['Run ID', 'Accuracy', 'Link'], found 2"
     ]
    }
   ],
   "source": [
    "metrics, cms, y_preds = run_multiple_experiments()\n",
    "    \n",
    "print(\"All runs completed!\")\n",
    "print(f\"Average accuracy: {np.mean([m['test_accuracy'] for m in metrics]):.4f}\")"
   ]
  },
  {
   "cell_type": "code",
   "execution_count": null,
   "metadata": {},
   "outputs": [],
   "source": []
  }
 ],
 "metadata": {
  "kernelspec": {
   "display_name": "RL",
   "language": "python",
   "name": "python3"
  },
  "language_info": {
   "codemirror_mode": {
    "name": "ipython",
    "version": 3
   },
   "file_extension": ".py",
   "mimetype": "text/x-python",
   "name": "python",
   "nbconvert_exporter": "python",
   "pygments_lexer": "ipython3",
   "version": "3.10.14"
  }
 },
 "nbformat": 4,
 "nbformat_minor": 2
}
