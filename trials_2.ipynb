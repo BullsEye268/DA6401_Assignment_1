{
 "cells": [
  {
   "cell_type": "code",
   "execution_count": 1,
   "metadata": {},
   "outputs": [],
   "source": [
    "import numpy as np\n",
    "import matplotlib.pyplot as plt\n",
    "import pandas as pd\n",
    "import wandb\n",
    "\n",
    "from utils.neural_network import NeuralNetwork\n",
    "from utils.wandb_classes import WandbTrainer\n",
    "from utils.helper_functions import get_optimizer, load_data"
   ]
  },
  {
   "cell_type": "code",
   "execution_count": 2,
   "metadata": {},
   "outputs": [
    {
     "name": "stderr",
     "output_type": "stream",
     "text": [
      "wandb: Using wandb-core as the SDK backend.  Please refer to https://wandb.me/wandb-core for more information.\n",
      "wandb: Currently logged in as: bullseye2608 (bullseye2608-indian-institute-of-technology-madras) to https://api.wandb.ai. Use `wandb login --relogin` to force relogin\n"
     ]
    },
    {
     "data": {
      "text/plain": [
       "True"
      ]
     },
     "execution_count": 2,
     "metadata": {},
     "output_type": "execute_result"
    }
   ],
   "source": [
    "wandb.login()"
   ]
  },
  {
   "cell_type": "code",
   "execution_count": null,
   "metadata": {},
   "outputs": [],
   "source": [
    "X_train, y_train, X_val, y_val, X_test, y_test = load_data('fashion_mnist')"
   ]
  },
  {
   "cell_type": "markdown",
   "metadata": {},
   "source": [
    "### Trials"
   ]
  },
  {
   "cell_type": "code",
   "execution_count": 4,
   "metadata": {},
   "outputs": [
    {
     "name": "stdout",
     "output_type": "stream",
     "text": [
      "0.082500\n"
     ]
    }
   ],
   "source": [
    "nn = NeuralNetwork(layer_sizes=[784, 128, 128, 128, 10], \n",
    "                   activation_functions=['relu', 'relu', 'relu', 'softmax'], \n",
    "                   weight_init='xavier',\n",
    "                   weight_decay=0.0, LOG_EACH=True)\n",
    "\n",
    "H, A = nn.forward_propagation(X_train)\n",
    "loss = nn.compute_loss(H[-1], y_train)\n",
    "print(f'{nn.compute_accuracy(X_val, y_val) :>.6f}')\n",
    "\n",
    "nn.set_optimizer({'name':'nadam', 'learning_rate':0.001, 'epsilon':1e-7, 'beta1':0.95})"
   ]
  },
  {
   "cell_type": "code",
   "execution_count": 5,
   "metadata": {},
   "outputs": [
    {
     "name": "stdout",
     "output_type": "stream",
     "text": [
      "Running NadamOptimizer self.learning_rate = 0.001 self.beta1 = 0.95 self.beta2 = 0.999 self.epsilon = 1e-07\n",
      "Epoch 1/5, Iteration   0/844 --> Train Loss: 2.31876, Val Loss: 2.24613\n",
      "---------------------------------------- DONE ----------------------------------------\n",
      "0.9772\n"
     ]
    }
   ],
   "source": [
    "num_trial_datapoints = 54000\n",
    "\n",
    "LOG_EACH = True\n",
    "\n",
    "nn.train(X_train[:num_trial_datapoints], \n",
    "         y_train[:num_trial_datapoints], \n",
    "         X_val, y_val, \n",
    "         batch_size=64, \n",
    "         num_epochs=5, \n",
    "         loss_type='cross_entropy', \n",
    "         log_every=5000)\n",
    "\n",
    "LOG_EACH = False\n",
    "\n",
    "print('--'*20,'DONE','--'*20)\n",
    "print(nn.compute_accuracy(X_test, y_test))"
   ]
  },
  {
   "cell_type": "markdown",
   "metadata": {},
   "source": [
    "### WANDB SWEEP"
   ]
  },
  {
   "cell_type": "code",
   "execution_count": null,
   "metadata": {},
   "outputs": [],
   "source": [
    "# # Create New sweep\n",
    "# import yaml\n",
    "\n",
    "# with open(\"sweep_config.yaml\", \"r\") as file:\n",
    "#         sweep_config = yaml.safe_load(file)\n",
    "\n",
    "# sweep_id = wandb.sweep(sweep_config, \n",
    "#                        entity=\"bullseye2608-indian-institute-of-technology-madras\",\n",
    "#                        project=\"fashion_mnist_hp_search\")\n",
    "\n",
    "# # Run the sweep\n",
    "# wandb.agent(sweep_id, wandb_sweep_helper_function, count=60)"
   ]
  },
  {
   "cell_type": "code",
   "execution_count": null,
   "metadata": {},
   "outputs": [
    {
     "name": "stdout",
     "output_type": "stream",
     "text": [
      "Test Accuracy: 0.8646\n"
     ]
    },
    {
     "data": {
      "text/html": [],
      "text/plain": [
       "<IPython.core.display.HTML object>"
      ]
     },
     "metadata": {},
     "output_type": "display_data"
    },
    {
     "data": {
      "text/html": [
       "<br>    <style><br>        .wandb-row {<br>            display: flex;<br>            flex-direction: row;<br>            flex-wrap: wrap;<br>            justify-content: flex-start;<br>            width: 100%;<br>        }<br>        .wandb-col {<br>            display: flex;<br>            flex-direction: column;<br>            flex-basis: 100%;<br>            flex: 1;<br>            padding: 10px;<br>        }<br>    </style><br><div class=\"wandb-row\"><div class=\"wandb-col\"><h3>Run history:</h3><br/><table class=\"wandb\"><tr><td>epoch</td><td>▁▂▃▃▄▅▆▆▇█</td></tr><tr><td>test_accuracy</td><td>▁</td></tr><tr><td>train_accuracy</td><td>▁▄▄▅▆▇█▇▅█</td></tr><tr><td>train_loss</td><td>▅▂▁▆▁▃▄▇█▁</td></tr><tr><td>val_accuracy</td><td>▁▃▄▄▆▆█▇▄▆</td></tr><tr><td>val_loss</td><td>█▆▅▄▂▂▁▂▅▁</td></tr></table><br/></div><div class=\"wandb-col\"><h3>Run summary:</h3><br/><table class=\"wandb\"><tr><td>epoch</td><td>9</td></tr><tr><td>test_accuracy</td><td>0.8646</td></tr><tr><td>train_accuracy</td><td>0.88841</td></tr><tr><td>train_loss</td><td>0.13714</td></tr><tr><td>val_accuracy</td><td>0.87133</td></tr><tr><td>val_loss</td><td>0.34137</td></tr></table><br/></div></div>"
      ],
      "text/plain": [
       "<IPython.core.display.HTML object>"
      ]
     },
     "metadata": {},
     "output_type": "display_data"
    },
    {
     "data": {
      "text/html": [
       " View run <strong style=\"color:#cdcd00\">splendid-sweep-156</strong> at: <a href='https://wandb.ai/bullseye2608-indian-institute-of-technology-madras/fashion_mnist_hp_search/runs/p1bjxe96' target=\"_blank\">https://wandb.ai/bullseye2608-indian-institute-of-technology-madras/fashion_mnist_hp_search/runs/p1bjxe96</a><br> View project at: <a href='https://wandb.ai/bullseye2608-indian-institute-of-technology-madras/fashion_mnist_hp_search' target=\"_blank\">https://wandb.ai/bullseye2608-indian-institute-of-technology-madras/fashion_mnist_hp_search</a><br>Synced 5 W&B file(s), 0 media file(s), 0 artifact file(s) and 0 other file(s)"
      ],
      "text/plain": [
       "<IPython.core.display.HTML object>"
      ]
     },
     "metadata": {},
     "output_type": "display_data"
    },
    {
     "data": {
      "text/html": [
       "Find logs at: <code>.\\wandb\\run-20250301_140844-p1bjxe96\\logs</code>"
      ],
      "text/plain": [
       "<IPython.core.display.HTML object>"
      ]
     },
     "metadata": {},
     "output_type": "display_data"
    },
    {
     "name": "stderr",
     "output_type": "stream",
     "text": [
      "wandb: Sweep Agent: Waiting for job.\n",
      "wandb: Job received.\n",
      "wandb: Agent Starting Run: s6evmsje with config:\n",
      "wandb: \tactivation: tanh\n",
      "wandb: \tbatch_size: 16\n",
      "wandb: \tepochs: 10\n",
      "wandb: \thidden_layers: 4\n",
      "wandb: \thidden_size: 128\n",
      "wandb: \tlearning_rate: 0.001\n",
      "wandb: \toptimizer: nadam\n",
      "wandb: \tweight_decay: 0\n",
      "wandb: \tweight_init: xavier\n"
     ]
    },
    {
     "data": {
      "text/html": [
       "creating run (0.1s)"
      ],
      "text/plain": [
       "<IPython.core.display.HTML object>"
      ]
     },
     "metadata": {},
     "output_type": "display_data"
    },
    {
     "data": {
      "text/html": [
       "Tracking run with wandb version 0.19.7"
      ],
      "text/plain": [
       "<IPython.core.display.HTML object>"
      ]
     },
     "metadata": {},
     "output_type": "display_data"
    },
    {
     "data": {
      "text/html": [
       "Run data is saved locally in <code>c:\\Users\\DELL\\Desktop\\Coding\\Python\\DL\\wandb\\run-20250301_140953-s6evmsje</code>"
      ],
      "text/plain": [
       "<IPython.core.display.HTML object>"
      ]
     },
     "metadata": {},
     "output_type": "display_data"
    },
    {
     "data": {
      "text/html": [
       "Syncing run <strong><a href='https://wandb.ai/bullseye2608-indian-institute-of-technology-madras/fashion_mnist_hp_search/runs/s6evmsje' target=\"_blank\">wandering-sweep-157</a></strong> to <a href='https://wandb.ai/bullseye2608-indian-institute-of-technology-madras/fashion_mnist_hp_search' target=\"_blank\">Weights & Biases</a> (<a href='https://wandb.me/developer-guide' target=\"_blank\">docs</a>)<br>Sweep page: <a href='https://wandb.ai/bullseye2608-indian-institute-of-technology-madras/fashion_mnist_hp_search/sweeps/vhbqpquu' target=\"_blank\">https://wandb.ai/bullseye2608-indian-institute-of-technology-madras/fashion_mnist_hp_search/sweeps/vhbqpquu</a>"
      ],
      "text/plain": [
       "<IPython.core.display.HTML object>"
      ]
     },
     "metadata": {},
     "output_type": "display_data"
    },
    {
     "data": {
      "text/html": [
       " View project at <a href='https://wandb.ai/bullseye2608-indian-institute-of-technology-madras/fashion_mnist_hp_search' target=\"_blank\">https://wandb.ai/bullseye2608-indian-institute-of-technology-madras/fashion_mnist_hp_search</a>"
      ],
      "text/plain": [
       "<IPython.core.display.HTML object>"
      ]
     },
     "metadata": {},
     "output_type": "display_data"
    },
    {
     "data": {
      "text/html": [
       " View sweep at <a href='https://wandb.ai/bullseye2608-indian-institute-of-technology-madras/fashion_mnist_hp_search/sweeps/vhbqpquu' target=\"_blank\">https://wandb.ai/bullseye2608-indian-institute-of-technology-madras/fashion_mnist_hp_search/sweeps/vhbqpquu</a>"
      ],
      "text/plain": [
       "<IPython.core.display.HTML object>"
      ]
     },
     "metadata": {},
     "output_type": "display_data"
    },
    {
     "data": {
      "text/html": [
       " View run at <a href='https://wandb.ai/bullseye2608-indian-institute-of-technology-madras/fashion_mnist_hp_search/runs/s6evmsje' target=\"_blank\">https://wandb.ai/bullseye2608-indian-institute-of-technology-madras/fashion_mnist_hp_search/runs/s6evmsje</a>"
      ],
      "text/plain": [
       "<IPython.core.display.HTML object>"
      ]
     },
     "metadata": {},
     "output_type": "display_data"
    }
   ],
   "source": [
    "# Continue the sweep\n",
    "\n",
    "sweep_id_cont = \"bullseye2608-indian-institute-of-technology-madras/fashion_mnist_hp_search/vhbqpquu\"\n",
    "trainer = WandbTrainer()\n",
    "\n",
    "wandb.agent(sweep_id_cont, trainer.train, count=10)"
   ]
  }
 ],
 "metadata": {
  "kernelspec": {
   "display_name": "RL",
   "language": "python",
   "name": "python3"
  },
  "language_info": {
   "codemirror_mode": {
    "name": "ipython",
    "version": 3
   },
   "file_extension": ".py",
   "mimetype": "text/x-python",
   "name": "python",
   "nbconvert_exporter": "python",
   "pygments_lexer": "ipython3",
   "version": "3.10.14"
  }
 },
 "nbformat": 4,
 "nbformat_minor": 2
}
