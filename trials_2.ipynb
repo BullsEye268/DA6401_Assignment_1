{
 "cells": [
  {
   "cell_type": "code",
   "execution_count": 3,
   "metadata": {},
   "outputs": [],
   "source": [
    "import numpy as np\n",
    "import matplotlib.pyplot as plt\n",
    "import pandas as pd\n",
    "from keras.datasets import fashion_mnist\n",
    "import wandb"
   ]
  },
  {
   "cell_type": "code",
   "execution_count": 4,
   "metadata": {},
   "outputs": [
    {
     "name": "stderr",
     "output_type": "stream",
     "text": [
      "wandb: Using wandb-core as the SDK backend.  Please refer to https://wandb.me/wandb-core for more information.\n",
      "wandb: Currently logged in as: bullseye2608 (bullseye2608-indian-institute-of-technology-madras) to https://api.wandb.ai. Use `wandb login --relogin` to force relogin\n"
     ]
    },
    {
     "data": {
      "text/plain": [
       "True"
      ]
     },
     "execution_count": 4,
     "metadata": {},
     "output_type": "execute_result"
    }
   ],
   "source": [
    "wandb.login()"
   ]
  },
  {
   "cell_type": "code",
   "execution_count": 5,
   "metadata": {},
   "outputs": [],
   "source": [
    "def create_validation_set(X, Y, val_ratio=0.2, seed=None):\n",
    "    if seed is not None:\n",
    "        np.random.seed(seed)\n",
    "    \n",
    "    n_samples = X.shape[0]\n",
    "    indices = np.random.permutation(n_samples)\n",
    "    split_index = int(n_samples * (1 - val_ratio))\n",
    "    train_indices = indices[:split_index]\n",
    "    val_indices = indices[split_index:]\n",
    "    \n",
    "    X_train = X[train_indices]\n",
    "    Y_train = Y[train_indices]\n",
    "    X_val = X[val_indices]\n",
    "    Y_val = Y[val_indices]\n",
    "    \n",
    "    return X_train, X_val, Y_train, Y_val\n",
    "\n",
    "(X_train, y_train), (X_test, y_test) = fashion_mnist.load_data()\n",
    "(X_train, X_val, y_train, y_val) = create_validation_set(X_train, y_train, val_ratio=0.1, seed=42)\n",
    "\n",
    "class_names = ['T-shirt/top', 'Trouser', 'Pullover', 'Dress', 'Coat', \n",
    "               'Sandal', 'Shirt', 'Sneaker', 'Bag', 'Ankle boot']\n",
    "\n",
    "# Create a DataFrame for the training data\n",
    "X_train_flat = X_train.reshape(X_train.shape[0], -1) / 255.0\n",
    "train_df = pd.DataFrame(X_train_flat)\n",
    "train_df['label'] = y_train\n",
    "train_df['label_name'] = [class_names[label] for label in y_train]\n",
    "\n",
    "# Create a DataFrame for the validation data\n",
    "X_val_flat = X_val.reshape(X_val.shape[0], -1) / 255.0\n",
    "val_df = pd.DataFrame(X_val_flat)\n",
    "val_df['label'] = y_val\n",
    "val_df['label_name'] = [class_names[label] for label in y_val]\n",
    "\n",
    "# Create a DataFrame for the test data\n",
    "X_test_flat = X_test.reshape(X_test.shape[0], -1) / 255.0\n",
    "test_df = pd.DataFrame(X_test_flat)\n",
    "test_df['label'] = y_test\n",
    "test_df['label_name'] = [class_names[label] for label in y_test]\n",
    "\n",
    "LOG_EACH = True"
   ]
  },
  {
   "cell_type": "code",
   "execution_count": 6,
   "metadata": {},
   "outputs": [],
   "source": [
    "class WandbCallback:\n",
    "    def __init__(self):\n",
    "        self.epoch = 0\n",
    "    \n",
    "    def on_epoch_end(self, loss, val_accuracy):\n",
    "        wandb.log({\n",
    "            \"epoch\": self.epoch,\n",
    "            \"train_loss\": loss,\n",
    "            \"val_accuracy\": val_accuracy\n",
    "        })\n",
    "        self.epoch += 1\n",
    "    \n",
    "# Base Optimizer class\n",
    "class Optimizer:\n",
    "    def __init__(self, W, B, **kwargs):\n",
    "        \"\"\"\n",
    "        Initialize optimizer with weights and biases shapes.\n",
    "        \n",
    "        Parameters:\n",
    "        W (list): List of weight matrices\n",
    "        B (list): List of bias vectors\n",
    "        **kwargs: Optimizer-specific parameters\n",
    "        \"\"\"\n",
    "        self.L = len(W)  # Number of layers\n",
    "        self.params = kwargs\n",
    "    \n",
    "    def update(self, W, B, dW, dB, iteration):\n",
    "        \"\"\"\n",
    "        Update weights and biases based on gradients.\n",
    "        \n",
    "        Parameters:\n",
    "        W (list): Current weights\n",
    "        B (list): Current biases\n",
    "        dW (list): Weight gradients\n",
    "        dB (list): Bias gradients\n",
    "        iteration (int): Current iteration number\n",
    "        \n",
    "        Returns:\n",
    "        tuple: (new_W, new_B) updated weights and biases\n",
    "        \"\"\"\n",
    "        raise NotImplementedError(\"Each optimizer must implement this method\")\n",
    "\n",
    "\n",
    "class SGDOptimizer(Optimizer):\n",
    "    def __init__(self, W, B, learning_rate=0.01, **kwargs):\n",
    "        super().__init__(W, B, **kwargs)\n",
    "        self.learning_rate = learning_rate\n",
    "    \n",
    "    def update(self, W, B, dW, dB, iteration):\n",
    "        if LOG_EACH and iteration==0:\n",
    "            print(f'Running SGDOptimizer {self.learning_rate = }')\n",
    "        for i in range(self.L):\n",
    "            W[i] -= self.learning_rate * dW[i]\n",
    "            B[i] -= self.learning_rate * dB[i]\n",
    "        return W, B\n",
    "\n",
    "\n",
    "class MomentumOptimizer(Optimizer):\n",
    "    def __init__(self, W, B, learning_rate=0.01, momentum=0.9, **kwargs):\n",
    "        super().__init__(W, B, **kwargs)\n",
    "        self.learning_rate = learning_rate\n",
    "        self.momentum = momentum\n",
    "        \n",
    "        # Initialize velocity vectors\n",
    "        self.v_W = [np.zeros_like(W[i]) for i in range(self.L)]\n",
    "        self.v_B = [np.zeros_like(B[i]) for i in range(self.L)]\n",
    "    \n",
    "    def update(self, W, B, dW, dB, iteration):\n",
    "        if LOG_EACH and iteration==0:\n",
    "            print(f'Running MomentumOptimizer {self.learning_rate = } {self.momentum = }')\n",
    "        for i in range(self.L):\n",
    "            # Update velocity\n",
    "            self.v_W[i] = self.momentum * self.v_W[i] - self.learning_rate * dW[i]\n",
    "            self.v_B[i] = self.momentum * self.v_B[i] - self.learning_rate * dB[i]\n",
    "            \n",
    "            # Update parameters\n",
    "            W[i] += self.v_W[i]\n",
    "            B[i] += self.v_B[i]\n",
    "        \n",
    "        return W, B\n",
    "\n",
    "\n",
    "class NesterovOptimizer(Optimizer):\n",
    "    def __init__(self, W, B, learning_rate=0.01, momentum=0.9, **kwargs):\n",
    "        super().__init__(W, B, **kwargs)\n",
    "        self.learning_rate = learning_rate\n",
    "        self.momentum = momentum\n",
    "        \n",
    "        # Initialize velocity vectors\n",
    "        self.v_W = [np.zeros_like(W[i]) for i in range(self.L)]\n",
    "        self.v_B = [np.zeros_like(B[i]) for i in range(self.L)]\n",
    "    \n",
    "    def update(self, W, B, dW, dB, iteration):\n",
    "        if LOG_EACH and iteration==0:\n",
    "            print(f'Running NesterovOptimizer {self.learning_rate = } {self.momentum = }')\n",
    "        W_lookahead = [None] * self.L\n",
    "        B_lookahead = [None] * self.L\n",
    "        \n",
    "        # Calculate lookahead position\n",
    "        for i in range(self.L):\n",
    "            W_lookahead[i] = W[i] + self.momentum * self.v_W[i]\n",
    "            B_lookahead[i] = B[i] + self.momentum * self.v_B[i]\n",
    "        \n",
    "        # Update velocity\n",
    "        for i in range(self.L):\n",
    "            self.v_W[i] = self.momentum * self.v_W[i] - self.learning_rate * dW[i]\n",
    "            self.v_B[i] = self.momentum * self.v_B[i] - self.learning_rate * dB[i]\n",
    "            \n",
    "            # Update parameters\n",
    "            W[i] += self.v_W[i]\n",
    "            B[i] += self.v_B[i]\n",
    "        \n",
    "        return W, B\n",
    "\n",
    "\n",
    "class RMSpropOptimizer(Optimizer):\n",
    "    def __init__(self, W, B, learning_rate=0.001, decay_rate=0.9, epsilon=1e-8, **kwargs):\n",
    "        super().__init__(W, B, **kwargs)\n",
    "        self.learning_rate = learning_rate\n",
    "        self.decay_rate = decay_rate\n",
    "        self.epsilon = epsilon\n",
    "        \n",
    "        # Initialize cache vectors\n",
    "        self.cache_W = [np.zeros_like(W[i]) for i in range(self.L)]\n",
    "        self.cache_B = [np.zeros_like(B[i]) for i in range(self.L)]\n",
    "    \n",
    "    def update(self, W, B, dW, dB, iteration):\n",
    "        if LOG_EACH and iteration==0:\n",
    "            print(f'Running RMSpropOptimizer {self.learning_rate = } {self.decay_rate = } {self.epsilon = }')\n",
    "        for i in range(self.L):\n",
    "            # Update cache with squared gradients\n",
    "            self.cache_W[i] = self.decay_rate * self.cache_W[i] + (1 - self.decay_rate) * np.square(dW[i])\n",
    "            self.cache_B[i] = self.decay_rate * self.cache_B[i] + (1 - self.decay_rate) * np.square(dB[i])\n",
    "            \n",
    "            # Update parameters\n",
    "            W[i] -= self.learning_rate * dW[i] / (np.sqrt(self.cache_W[i]) + self.epsilon)\n",
    "            B[i] -= self.learning_rate * dB[i] / (np.sqrt(self.cache_B[i]) + self.epsilon)\n",
    "        \n",
    "        return W, B\n",
    "\n",
    "\n",
    "class AdamOptimizer(Optimizer):\n",
    "    def __init__(self, W, B, learning_rate=0.001, beta1=0.9, beta2=0.999, epsilon=1e-8, **kwargs):\n",
    "        super().__init__(W, B, **kwargs)\n",
    "        self.learning_rate = learning_rate\n",
    "        self.beta1 = beta1\n",
    "        self.beta2 = beta2\n",
    "        self.epsilon = epsilon\n",
    "        \n",
    "        # Initialize moment vectors\n",
    "        self.m_W = [np.zeros_like(W[i]) for i in range(self.L)]\n",
    "        self.m_B = [np.zeros_like(B[i]) for i in range(self.L)]\n",
    "        \n",
    "        # Initialize velocity vectors\n",
    "        self.v_W = [np.zeros_like(W[i]) for i in range(self.L)]\n",
    "        self.v_B = [np.zeros_like(B[i]) for i in range(self.L)]\n",
    "    \n",
    "    def update(self, W, B, dW, dB, iteration):\n",
    "        if LOG_EACH and iteration==0:\n",
    "            print(f'Running AdamOptimizer {self.learning_rate = } {self.beta1 = } {self.beta2 = } {self.epsilon = }')\n",
    "        t = iteration + 1  # Timestep starts at 1\n",
    "        \n",
    "        for i in range(self.L):\n",
    "            # Update biased first and second moment estimates\n",
    "            self.m_W[i] = self.beta1 * self.m_W[i] + (1 - self.beta1) * dW[i]\n",
    "            self.m_B[i] = self.beta1 * self.m_B[i] + (1 - self.beta1) * dB[i]\n",
    "            \n",
    "            self.v_W[i] = self.beta2 * self.v_W[i] + (1 - self.beta2) * np.square(dW[i])\n",
    "            self.v_B[i] = self.beta2 * self.v_B[i] + (1 - self.beta2) * np.square(dB[i])\n",
    "            \n",
    "            # Compute bias-corrected first and second moment estimates\n",
    "            m_W_corrected = self.m_W[i] / (1 - self.beta1**t)\n",
    "            m_B_corrected = self.m_B[i] / (1 - self.beta1**t)\n",
    "            \n",
    "            v_W_corrected = self.v_W[i] / (1 - self.beta2**t)\n",
    "            v_B_corrected = self.v_B[i] / (1 - self.beta2**t)\n",
    "            \n",
    "            # Update parameters\n",
    "            W[i] -= self.learning_rate * m_W_corrected / (np.sqrt(v_W_corrected) + self.epsilon)\n",
    "            B[i] -= self.learning_rate * m_B_corrected / (np.sqrt(v_B_corrected) + self.epsilon)\n",
    "        \n",
    "        return W, B\n",
    "\n",
    "\n",
    "class NadamOptimizer(Optimizer):\n",
    "    def __init__(self, W, B, learning_rate=0.001, beta1=0.9, beta2=0.999, epsilon=1e-8, **kwargs):\n",
    "        super().__init__(W, B, **kwargs)\n",
    "        self.learning_rate = learning_rate\n",
    "        self.beta1 = beta1\n",
    "        self.beta2 = beta2\n",
    "        self.epsilon = epsilon\n",
    "        \n",
    "        # Initialize moment vectors\n",
    "        self.m_W = [np.zeros_like(W[i]) for i in range(self.L)]\n",
    "        self.m_B = [np.zeros_like(B[i]) for i in range(self.L)]\n",
    "        \n",
    "        # Initialize velocity vectors\n",
    "        self.v_W = [np.zeros_like(W[i]) for i in range(self.L)]\n",
    "        self.v_B = [np.zeros_like(B[i]) for i in range(self.L)]\n",
    "    \n",
    "    def update(self, W, B, dW, dB, iteration):\n",
    "        if LOG_EACH and iteration==0:\n",
    "            print(f'Running NadamOptimizer {self.learning_rate = } {self.beta1 = } {self.beta2 = } {self.epsilon = }')\n",
    "        t = iteration + 1  # Timestep starts at 1\n",
    "        \n",
    "        for i in range(self.L):\n",
    "            # Update biased first and second moment estimates\n",
    "            self.m_W[i] = self.beta1 * self.m_W[i] + (1 - self.beta1) * dW[i]\n",
    "            self.m_B[i] = self.beta1 * self.m_B[i] + (1 - self.beta1) * dB[i]\n",
    "            \n",
    "            self.v_W[i] = self.beta2 * self.v_W[i] + (1 - self.beta2) * np.square(dW[i])\n",
    "            self.v_B[i] = self.beta2 * self.v_B[i] + (1 - self.beta2) * np.square(dB[i])\n",
    "            \n",
    "            # Compute bias-corrected first and second moment estimates\n",
    "            m_W_corrected = self.m_W[i] / (1 - self.beta1**t)\n",
    "            m_B_corrected = self.m_B[i] / (1 - self.beta1**t)\n",
    "            \n",
    "            v_W_corrected = self.v_W[i] / (1 - self.beta2**t)\n",
    "            v_B_corrected = self.v_B[i] / (1 - self.beta2**t)\n",
    "            \n",
    "            # Apply Nesterov momentum to first moment estimate\n",
    "            m_W_nesterov = self.beta1 * m_W_corrected + (1 - self.beta1) * dW[i] / (1 - self.beta1**t)\n",
    "            m_B_nesterov = self.beta1 * m_B_corrected + (1 - self.beta1) * dB[i] / (1 - self.beta1**t)\n",
    "            \n",
    "            # Update parameters\n",
    "            W[i] -= self.learning_rate * m_W_nesterov / (np.sqrt(v_W_corrected) + self.epsilon)\n",
    "            B[i] -= self.learning_rate * m_B_nesterov / (np.sqrt(v_B_corrected) + self.epsilon)\n",
    "        \n",
    "        return W, B\n",
    "\n",
    "\n",
    "# Example usage:\n",
    "def one_hot_encode(labels, num_classes):\n",
    "    \"\"\"Convert numeric labels to one-hot encoded vectors\"\"\"\n",
    "    m = labels.shape[0]\n",
    "    one_hot = np.zeros((num_classes, m))\n",
    "    for i in range(m):\n",
    "        one_hot[labels[i], i] = 1\n",
    "    return one_hot\n",
    "\n",
    "# Example of how to use the framework\n",
    "def example_usage():\n",
    "    # Generate some synthetic data\n",
    "    np.random.seed(42)\n",
    "    X = np.random.randn(2, 500)  # 500 examples with 2 features\n",
    "    y = (X[0, :] > 0).astype(int)  # Binary classification\n",
    "    y_one_hot = one_hot_encode(y, 2)  # One-hot encode\n",
    "    \n",
    "    # Create a neural network with 2-5-2 architecture\n",
    "    layer_sizes = [2, 5, 2]\n",
    "    activation_functions = ['relu', 'softmax']\n",
    "    \n",
    "    nn = NeuralNetwork(layer_sizes, activation_functions)\n",
    "    \n",
    "    # Set optimizer and train\n",
    "    nn.set_optimizer('adam', learning_rate=0.01, beta1=0.9, beta2=0.999)\n",
    "    \n",
    "    # Train the network\n",
    "    history = nn.train(X, y_one_hot, batch_size=32, num_epochs=10, log_every=50)\n",
    "    \n",
    "    # Make predictions\n",
    "    predictions = nn.predict(X)\n",
    "    predicted_classes = np.argmax(predictions, axis=0)\n",
    "    \n",
    "    # Calculate accuracy\n",
    "    accuracy = np.mean(predicted_classes == y)\n",
    "    print(f\"Accuracy: {accuracy * 100:.2f}%\")\n",
    "    \n",
    "    return nn, history\n",
    "\n",
    "# To add a new optimizer like Eve, simply create a new class:\n",
    "class EveOptimizer(Optimizer):\n",
    "    def __init__(self, W, B, learning_rate=0.001, beta1=0.9, beta2=0.999, beta3=0.999, k=0.1, K=10, **kwargs):\n",
    "        super().__init__(W, B, **kwargs)\n",
    "        self.learning_rate = learning_rate\n",
    "        self.beta1 = beta1\n",
    "        self.beta2 = beta2\n",
    "        self.beta3 = beta3\n",
    "        self.k = k\n",
    "        self.K = K\n",
    "        self.epsilon = 1e-8\n",
    "        \n",
    "        # Initialize Adam moment vectors\n",
    "        self.m_W = [np.zeros_like(W[i]) for i in range(self.L)]\n",
    "        self.m_B = [np.zeros_like(B[i]) for i in range(self.L)]\n",
    "        self.v_W = [np.zeros_like(W[i]) for i in range(self.L)]\n",
    "        self.v_B = [np.zeros_like(B[i]) for i in range(self.L)]\n",
    "        \n",
    "        # Eve-specific variables\n",
    "        self.d = 1  # Initial value for d\n",
    "        self.prev_loss = None  # Previous loss\n",
    "        \n",
    "    def update(self, W, B, dW, dB, iteration, current_loss=None):\n",
    "        if current_loss is None:\n",
    "            # If loss is not provided, use a placeholder (not ideal)\n",
    "            current_loss = 1.0\n",
    "            \n",
    "        t = iteration + 1  # Timestep starts at 1\n",
    "        \n",
    "        # Update d based on loss change - Eve's special feature\n",
    "        if self.prev_loss is not None:\n",
    "            delta_loss = abs((current_loss / self.prev_loss) - 1)\n",
    "            c = min(max(delta_loss, 1/self.K), self.k)\n",
    "            \n",
    "            if current_loss >= self.prev_loss:\n",
    "                self.d *= (1 + c)\n",
    "            else:\n",
    "                self.d /= (1 + c)\n",
    "        \n",
    "        self.prev_loss = current_loss\n",
    "        \n",
    "        # Update parameters using Adam with the d factor\n",
    "        for i in range(self.L):\n",
    "            # Update biased first and second moment estimates (same as Adam)\n",
    "            self.m_W[i] = self.beta1 * self.m_W[i] + (1 - self.beta1) * dW[i]\n",
    "            self.m_B[i] = self.beta1 * self.m_B[i] + (1 - self.beta1) * dB[i]\n",
    "            \n",
    "            self.v_W[i] = self.beta2 * self.v_W[i] + (1 - self.beta2) * np.square(dW[i])\n",
    "            self.v_B[i] = self.beta2 * self.v_B[i] + (1 - self.beta2) * np.square(dB[i])\n",
    "            \n",
    "            # Compute bias-corrected first and second moment estimates\n",
    "            m_W_corrected = self.m_W[i] / (1 - self.beta1**t)\n",
    "            m_B_corrected = self.m_B[i] / (1 - self.beta1**t)\n",
    "            \n",
    "            v_W_corrected = self.v_W[i] / (1 - self.beta2**t)\n",
    "            v_B_corrected = self.v_B[i] / (1 - self.beta2**t)\n",
    "            \n",
    "            # Update parameters with Eve's d factor\n",
    "            W[i] -= (self.learning_rate / self.d) * m_W_corrected / (np.sqrt(v_W_corrected) + self.epsilon)\n",
    "            B[i] -= (self.learning_rate / self.d) * m_B_corrected / (np.sqrt(v_B_corrected) + self.epsilon)\n",
    "        \n",
    "        return W, B\n"
   ]
  },
  {
   "cell_type": "code",
   "execution_count": 7,
   "metadata": {},
   "outputs": [],
   "source": [
    "class NeuralNetwork:\n",
    "    def __init__(self, layer_sizes=[784, 17, 19, 10], \n",
    "                 activation_functions=['sigmoid', 'sigmoid', 'softmax'], \n",
    "                 weight_decay=0.0, weight_init='random'):\n",
    "        assert len(layer_sizes) == len(activation_functions) + 1, \"Number of layers (excluding input layer) and activations must match\"\n",
    "        self.layer_sizes = layer_sizes\n",
    "        self.L = len(layer_sizes) - 1\n",
    "        self.activation_functions = activation_functions\n",
    "        \n",
    "        if weight_init == 'random':\n",
    "            self.W = [np.random.uniform(-0.5, 0.5, (self.layer_sizes[i], self.layer_sizes[i - 1])) for i in range(1, len(self.layer_sizes))]\n",
    "            self.B = [np.zeros(self.layer_sizes[i]).reshape(1,-1) for i in range(1, len(self.layer_sizes))]\n",
    "        elif weight_init == 'xavier':\n",
    "            # Xavier/Glorot initialization for weights\n",
    "            self.W = [np.random.randn(self.layer_sizes[i], self.layer_sizes[i - 1]) * \n",
    "                    np.sqrt(2.0 / (self.layer_sizes[i] + self.layer_sizes[i - 1])) \n",
    "                    for i in range(1, len(self.layer_sizes))]\n",
    "            self.B = [np.zeros(self.layer_sizes[i]).reshape(1,-1) for i in range(1, len(self.layer_sizes))]\n",
    "        else:\n",
    "            raise ValueError(f\"Unsupported weight initialization: {weight_init}\")\n",
    "        \n",
    "        self.weight_decay = weight_decay\n",
    "        \n",
    "        self.optimizer = None\n",
    "    \n",
    "    def set_optimizer(self, optimizer_dict):\n",
    "        optimizer_map = {\n",
    "            'sgd': SGDOptimizer,\n",
    "            'momentum': MomentumOptimizer,\n",
    "            'nesterov': NesterovOptimizer,\n",
    "            'rmsprop': RMSpropOptimizer,\n",
    "            'adam': AdamOptimizer,\n",
    "            'nadam': NadamOptimizer\n",
    "        }\n",
    "\n",
    "        if optimizer_dict['name'] not in optimizer_map:\n",
    "            raise ValueError(f\"Unsupported optimizer: {optimizer_dict['name']}\")\n",
    "        \n",
    "        self.optimizer = optimizer_map[optimizer_dict['name']](self.W, self.B, **optimizer_dict)\n",
    "    \n",
    "    def activate(self, A, activation):\n",
    "        if activation == 'sigmoid':\n",
    "            return 1 / (1 + np.exp(-A))\n",
    "        elif activation == 'relu':\n",
    "            return np.maximum(0, A)\n",
    "        elif activation == 'tanh':\n",
    "            return np.tanh(A)\n",
    "        elif activation == 'softmax':\n",
    "            # For numerical stability, subtract max value\n",
    "            exps = np.exp(A - np.max(A, axis=-1, keepdims=True))\n",
    "            return exps / np.sum(exps, axis=-1, keepdims=True)\n",
    "        else:\n",
    "            raise ValueError(f\"Unsupported activation function: {activation}\")\n",
    "    \n",
    "    def _activate_derivative(self, Z, A, activation):\n",
    "        \"\"\"Calculate derivative of activation function\"\"\"\n",
    "        if activation == 'sigmoid':\n",
    "            return A * (1 - A)\n",
    "        elif activation == 'relu':\n",
    "            return (Z > 0).astype(float)\n",
    "        elif activation == 'tanh':\n",
    "            return 1 - A**2\n",
    "        elif activation == 'softmax':\n",
    "            # This is already handled in backpropagation for softmax+cross entropy\n",
    "            return 1\n",
    "        else:\n",
    "            raise ValueError(f\"Unsupported activation function: {activation}\")\n",
    "    \n",
    "    def forward_propagation(self, X):\n",
    "        H = [X]\n",
    "        A = []\n",
    "        \n",
    "        for i in range(self.L):\n",
    "            A.append(np.dot(H[i], self.W[i].T) + self.B[i])\n",
    "            H.append(self.activate(A[i], self.activation_functions[i]))\n",
    "        \n",
    "        return H, A\n",
    "    \n",
    "    def compute_loss(self, H_final, y, loss_type='cross_entropy'):\n",
    "        if y.ndim == 1:\n",
    "            y = self.one_hot(y)\n",
    "        m = y.shape[0]  # Number of examples\n",
    "        \n",
    "        if loss_type == 'cross_entropy':\n",
    "            # Add small epsilon to avoid log(0)\n",
    "            epsilon = 1e-15\n",
    "            loss = -np.sum(y * np.log(H_final + epsilon)) / m\n",
    "        elif loss_type == 'mse':\n",
    "            loss = np.sum((H_final - y)**2) / (2 * m)\n",
    "        else:\n",
    "            raise ValueError(f\"Unsupported loss function: {loss_type}\")\n",
    "            \n",
    "        return loss\n",
    "    \n",
    "    def _loss_derivative(self, A_final, y, loss_type):\n",
    "        if loss_type == 'cross_entropy':\n",
    "            epsilon = 1e-15\n",
    "            return -y / (A_final + epsilon)\n",
    "        elif loss_type == 'mse':\n",
    "            return A_final - y\n",
    "        else:\n",
    "            raise ValueError(f\"Unsupported loss function: {loss_type}\")\n",
    "    \n",
    "    def one_hot(self, y):\n",
    "        one_hot_y = np.zeros((y.size, self.layer_sizes[-1]))\n",
    "        one_hot_y[np.arange(y.size), y] = 1\n",
    "        return one_hot_y\n",
    "    \n",
    "    def back_propagation(self, X, y, H, A, loss_type='cross_entropy'):\n",
    "        assert len(H) == self.L + 1 and len(A) == self.L\n",
    "        N = X.shape[0]\n",
    "        assert N==y.size and self.L==len(A) and self.L + 1==len(H)\n",
    "        \n",
    "        dW, dB = [None] * self.L, [None] * self.L\n",
    "        \n",
    "        if loss_type == 'cross_entropy' and self.activation_functions[-1] == 'softmax':\n",
    "            # Gradient simplifies when using softmax + cross entropy\n",
    "            dA = H[-1] - self.one_hot(y)\n",
    "        else:\n",
    "            dH = self._loss_derivative(H[-1], y, loss_type)\n",
    "            dA = dH * self._activate_derivative(A[-1], H[-1], self.activation_functions[-1])\n",
    "            \n",
    "        dW[-1] = np.dot(dA.T, H[-2]) / N\n",
    "        dB[-1] = np.sum(dA, axis=0, keepdims=True) / N\n",
    "        \n",
    "        for k in range(self.L-2, -1, -1):\n",
    "            \n",
    "            dA = np.dot(dA, self.W[k+1]) * self._activate_derivative(A[k], H[k+1], self.activation_functions[k])\n",
    "            \n",
    "            dWk = (np.dot(dA.T, H[k])) / N\n",
    "            dBk = np.sum(dA, axis=0, keepdims=True) / N\n",
    "            dW[k] = dWk\n",
    "            dB[k] = dBk\n",
    "        \n",
    "        if self.weight_decay > 0:\n",
    "            for i in range(len(self.W)):\n",
    "                dW[i] += self.weight_decay * self.W[i]\n",
    "               \n",
    "        return dW, dB\n",
    "    \n",
    "    def plot_history(self, history):\n",
    "        plt.figure(figsize=(12, 6))\n",
    "        plt.plot(history['train_loss'], label='Training Loss')\n",
    "        if 'val_loss' in history:\n",
    "            plt.plot(history['val_loss'], label='Validation Loss')\n",
    "        plt.xlabel('Epoch')\n",
    "        plt.ylabel('Loss')\n",
    "        plt.legend()\n",
    "        plt.show()\n",
    "    \n",
    "    def predict(self, X):\n",
    "        H, _ = self.forward_propagation(X)\n",
    "        return H[-1]\n",
    "    \n",
    "    def compute_accuracy(self, X, y):\n",
    "        y_pred = np.argmax(self.predict(X), axis=1)\n",
    "        return np.mean(y_pred == y)\n",
    "    \n",
    "    def train(self, X_train, y_train, X_val=None, y_val=None, \n",
    "              batch_size=32, num_epochs=100, loss_type='cross_entropy', \n",
    "              log_every=100, callback=None):\n",
    "        \n",
    "        if self.optimizer is None:\n",
    "            self.set_optimizer({'name':'sgd', 'learning_rate':0.01})\n",
    "        \n",
    "        num_datapoints = X_train.shape[0]\n",
    "        num_batches = int(np.ceil(num_datapoints / batch_size))\n",
    "        \n",
    "        spacer_1 = int(np.log10(num_epochs)+1)\n",
    "        spacer_2 = int(np.log10(num_batches)+1)\n",
    "        \n",
    "        history = {\n",
    "            'train_loss' : [],\n",
    "            'val_loss' : [] if X_val is not None else None\n",
    "        }\n",
    "        \n",
    "        iteration = 0\n",
    "        \n",
    "        for epoch in range(num_epochs):\n",
    "            \n",
    "            permutation = np.random.permutation(num_datapoints)\n",
    "            X_train = X_train[permutation]\n",
    "            y_train = y_train[permutation]\n",
    "            \n",
    "            for batch in range(num_batches):\n",
    "                start_idx = batch * batch_size\n",
    "                end_idx = min((batch + 1) * batch_size, num_datapoints)\n",
    "                X_batch = X_train[start_idx:end_idx]\n",
    "                y_batch = y_train[start_idx:end_idx]\n",
    "                \n",
    "                H, A = self.forward_propagation(X_batch)\n",
    "                dW, dB = self.back_propagation(X_batch, y_batch, H, A, loss_type)\n",
    "                \n",
    "                self.W, self.B = self.optimizer.update(self.W, self.B, dW, dB, iteration)\n",
    "                \n",
    "                if iteration % log_every == 0:\n",
    "                    train_loss = self.compute_loss(H[-1], y_batch, loss_type)\n",
    "                    history['train_loss'].append(train_loss)\n",
    "                    \n",
    "                    if X_val is not None and y_val is not None:\n",
    "                        val_loss = self.compute_loss(self.predict(X_val), y_val, loss_type)\n",
    "                        history['val_loss'].append(val_loss)\n",
    "                        print(f\"Epoch {epoch+1 :>{spacer_1}}/{num_epochs}, Iteration {iteration%num_batches :>{spacer_2}}/{num_batches} --> Train Loss: {train_loss:.5f}, Val Loss: {val_loss:.5f}\")\n",
    "                    else:\n",
    "                        print(f\"Epoch {epoch+1 :>{spacer_1}}/{num_epochs}, Iteration {iteration%num_batches :>{spacer_2}}/{num_batches} --> Train Loss: {train_loss:.5f}\")\n",
    "                \n",
    "                iteration += 1\n",
    "            \n",
    "            if callback is not None:\n",
    "                callback.on_epoch_end(train_loss, self.compute_accuracy(X_val, y_val))\n",
    "                \n",
    "        return history\n",
    "    "
   ]
  },
  {
   "cell_type": "markdown",
   "metadata": {},
   "source": [
    "### Trials"
   ]
  },
  {
   "cell_type": "code",
   "execution_count": 8,
   "metadata": {},
   "outputs": [
    {
     "name": "stdout",
     "output_type": "stream",
     "text": [
      "Running RMSpropOptimizer self.learning_rate = 0.01 self.decay_rate = 0.9 self.epsilon = 1e-05\n",
      "Epoch   1/100, Iteration  0/79 --> Train Loss: 2.38844, Val Loss: 2.29104\n",
      "Epoch  64/100, Iteration 23/79 --> Train Loss: 0.28223, Val Loss: 0.58742\n",
      "DONE\n"
     ]
    }
   ],
   "source": [
    "nn = NeuralNetwork(layer_sizes=[784, 16, 16, 10], \n",
    "                   activation_functions=['sigmoid', 'sigmoid', 'softmax'], \n",
    "                   weight_init='xavier',\n",
    "                   weight_decay=0.0)\n",
    "\n",
    "# H, A = nn.forward_propagation(X_train_flat)\n",
    "# loss = nn.compute_loss(H[-1], y_train)\n",
    "# nn.compute_accuracy(X_val_flat, y_val)\n",
    "\n",
    "nn.set_optimizer({'name':'rmsprop', 'learning_rate':0.01, 'beta':0.69, 'epsilon':1e-5})\n",
    "\n",
    "num_trial_datapoints = 10000\n",
    "\n",
    "hist = nn.train(X_train_flat[:num_trial_datapoints], \n",
    "         y_train[:num_trial_datapoints], \n",
    "         X_val_flat, y_val, \n",
    "         batch_size=128, \n",
    "         num_epochs=100, \n",
    "         loss_type='cross_entropy', \n",
    "         log_every=5000)\n",
    "\n",
    "print('DONE')"
   ]
  },
  {
   "cell_type": "code",
   "execution_count": 48,
   "metadata": {},
   "outputs": [
    {
     "data": {
      "image/png": "[encoded data removed]",
      "text/plain": [
       "<Figure size 1200x600 with 1 Axes>"
      ]
     },
     "metadata": {},
     "output_type": "display_data"
    }
   ],
   "source": [
    "nn.plot_history(hist)"
   ]
  },
  {
   "cell_type": "code",
   "execution_count": null,
   "metadata": {},
   "outputs": [
    {
     "name": "stdout",
     "output_type": "stream",
     "text": [
      "---------------------------------------- DONE ----------------------------------------\n",
      "0.1817\n"
     ]
    }
   ],
   "source": [
    "num_trial_datapoints = 10000\n",
    "\n",
    "nn.train(X_train_flat[:num_trial_datapoints], \n",
    "         y_train[:num_trial_datapoints], \n",
    "         X_val_flat, y_val, \n",
    "         batch_size=64, \n",
    "         num_epochs=1000, \n",
    "         loss_type='cross_entropy', \n",
    "         log_every=5000)\n",
    "\n",
    "print('--'*20,'DONE','--'*20)\n",
    "print(nn.compute_accuracy(X_test_flat, y_test))"
   ]
  },
  {
   "cell_type": "code",
   "execution_count": 9,
   "metadata": {},
   "outputs": [
    {
     "data": {
      "text/plain": [
       "0.8305"
      ]
     },
     "execution_count": 9,
     "metadata": {},
     "output_type": "execute_result"
    }
   ],
   "source": [
    "nn.compute_accuracy(X_test_flat, y_test)"
   ]
  },
  {
   "cell_type": "markdown",
   "metadata": {},
   "source": [
    "### WANDB SWEEP"
   ]
  },
  {
   "cell_type": "code",
   "execution_count": 10,
   "metadata": {},
   "outputs": [],
   "source": [
    "def get_optimizer(name, learning_rate):\n",
    "    # This should match how your NeuralNetwork class handles optimizers\n",
    "    if name == 'sgd':\n",
    "        return {'name': 'sgd','learning_rate': learning_rate}\n",
    "    elif name == 'momentum':\n",
    "        return {'name': 'momentum','learning_rate': learning_rate, 'momentum': 0.9}\n",
    "    elif name == 'nesterov':\n",
    "        return {'name': 'nesterov','learning_rate': learning_rate, 'momentum': 0.9}\n",
    "    elif name == 'rmsprop':\n",
    "        return {'name': 'rmsprop','learning_rate': learning_rate, 'beta': 0.9, 'epsilon': 1e-8}\n",
    "    elif name == 'adam':\n",
    "        return {'name': 'adam','learning_rate': learning_rate, 'beta1': 0.9, 'beta2': 0.999, 'epsilon': 1e-8}\n",
    "    elif name == 'nadam':\n",
    "        return {'name': 'nadam','learning_rate': learning_rate, 'beta1': 0.9, 'beta2': 0.999, 'epsilon': 1e-8}\n",
    "    else:\n",
    "        raise ValueError(f\"Optimizer {name} not recognized\")\n",
    "    \n",
    "def wandb_sweep_helper_function(config=None):\n",
    "    with wandb.init(\n",
    "        entity=\"bullseye2608-indian-institute-of-technology-madras\",\n",
    "        project=\"fashion_mnist_hp_search\",\n",
    "        config=config):\n",
    "        \n",
    "        config = wandb.config\n",
    "        for t in config:\n",
    "            print(t)\n",
    "        \n",
    "        \n",
    "        layer_sizes = [784] + [config.hidden_size]*config.hidden_layers + [10]\n",
    "        activation_functions = [config.activation]*config.hidden_layers + ['softmax']\n",
    "        \n",
    "        nn = NeuralNetwork(layer_sizes=layer_sizes, \n",
    "                           activation_functions=activation_functions,\n",
    "                           weight_init=config.weight_init, \n",
    "                           weight_decay=config.weight_decay)\n",
    "        \n",
    "        wandb_callback = WandbCallback()\n",
    "        \n",
    "        optimizer = get_optimizer(config.optimizer, config.learning_rate)\n",
    "        nn.set_optimizer(optimizer)\n",
    "        \n",
    "        history = nn.train(\n",
    "            X_train_flat, \n",
    "            y_train, \n",
    "            X_val_flat, \n",
    "            y_val, \n",
    "            batch_size=config.batch_size, \n",
    "            num_epochs=config.epochs, \n",
    "            loss_type='cross_entropy', \n",
    "            log_every=1000,\n",
    "            callback=wandb_callback  # Assuming your NeuralNetwork class supports callbacks\n",
    "        )\n",
    "        \n",
    "        test_accuracy = nn.compute_accuracy(X_test_flat, y_test)\n",
    "        wandb.log({\"test_accuracy\": test_accuracy})\n",
    "        print(f\"Test Accuracy: {test_accuracy:.4f}\")\n",
    "        \n",
    "        return history\n",
    "        \n",
    "sweep_config = {\n",
    "    'method': 'bayes',  # Bayesian optimization strategy\n",
    "    'metric': {\n",
    "        'name': 'val_accuracy',\n",
    "        'goal': 'maximize'\n",
    "    },\n",
    "    'parameters': {\n",
    "        'epochs': {\n",
    "            'values': [5, 10]\n",
    "        },\n",
    "        'hidden_layers': {\n",
    "            'values': [3, 4, 5]\n",
    "        },\n",
    "        'hidden_size': {\n",
    "            'values': [32, 64, 128]\n",
    "        },\n",
    "        'weight_decay': {\n",
    "            'values': [0, 0.0005, 0.5]\n",
    "        },\n",
    "        'learning_rate': {\n",
    "            'values': [1e-3, 1e-4]\n",
    "        },\n",
    "        'optimizer': {\n",
    "            'values': ['sgd', 'momentum', 'nesterov', 'rmsprop', 'adam', 'nadam']\n",
    "        },\n",
    "        'batch_size': {\n",
    "            'values': [16, 32, 64]\n",
    "        },\n",
    "        'weight_init': {\n",
    "            'values': ['random', 'xavier']\n",
    "        },\n",
    "        'activation': {\n",
    "            'values': ['sigmoid', 'tanh', 'relu']\n",
    "        }\n",
    "    }\n",
    "}   \n",
    "        "
   ]
  },
  {
   "cell_type": "code",
   "execution_count": null,
   "metadata": {},
   "outputs": [
    {
     "name": "stdout",
     "output_type": "stream",
     "text": [
      "Create sweep with ID: hww232ma\n",
      "Sweep URL: https://wandb.ai/bullseye2608-indian-institute-of-technology-madras/fashion_mnist_hp_search/sweeps/hww232ma\n"
     ]
    },
    {
     "name": "stderr",
     "output_type": "stream",
     "text": [
      "wandb: Agent Starting Run: pulvux9u with config:\n",
      "wandb: \tactivation: relu\n",
      "wandb: \tbatch_size: 16\n",
      "wandb: \tepochs: 5\n",
      "wandb: \thidden_layers: 3\n",
      "wandb: \thidden_size: 32\n",
      "wandb: \tlearning_rate: 0.0001\n",
      "wandb: \toptimizer: adam\n",
      "wandb: \tweight_decay: 0.5\n",
      "wandb: \tweight_init: random\n"
     ]
    },
    {
     "data": {
      "text/html": [
       "Ignoring project 'fashion_mnist_hp_search' when running a sweep."
      ],
      "text/plain": [
       "<IPython.core.display.HTML object>"
      ]
     },
     "metadata": {},
     "output_type": "display_data"
    },
    {
     "data": {
      "text/html": [
       "Ignoring entity 'bullseye2608-indian-institute-of-technology-madras' when running a sweep."
      ],
      "text/plain": [
       "<IPython.core.display.HTML object>"
      ]
     },
     "metadata": {},
     "output_type": "display_data"
    },
    {
     "data": {
      "text/html": [
       "creating run (0.1s)"
      ],
      "text/plain": [
       "<IPython.core.display.HTML object>"
      ]
     },
     "metadata": {},
     "output_type": "display_data"
    },
    {
     "data": {
      "text/html": [
       "Tracking run with wandb version 0.19.7"
      ],
      "text/plain": [
       "<IPython.core.display.HTML object>"
      ]
     },
     "metadata": {},
     "output_type": "display_data"
    },
    {
     "data": {
      "text/html": [
       "Run data is saved locally in <code>c:\\Users\\DELL\\Desktop\\Coding\\Python\\DL\\wandb\\run-20250301_000032-pulvux9u</code>"
      ],
      "text/plain": [
       "<IPython.core.display.HTML object>"
      ]
     },
     "metadata": {},
     "output_type": "display_data"
    },
    {
     "data": {
      "text/html": [
       "Syncing run <strong><a href='https://wandb.ai/bullseye2608-indian-institute-of-technology-madras/fashion_mnist_hp_search/runs/pulvux9u' target=\"_blank\">gentle-sweep-1</a></strong> to <a href='https://wandb.ai/bullseye2608-indian-institute-of-technology-madras/fashion_mnist_hp_search' target=\"_blank\">Weights & Biases</a> (<a href='https://wandb.me/developer-guide' target=\"_blank\">docs</a>)<br>Sweep page: <a href='https://wandb.ai/bullseye2608-indian-institute-of-technology-madras/fashion_mnist_hp_search/sweeps/hww232ma' target=\"_blank\">https://wandb.ai/bullseye2608-indian-institute-of-technology-madras/fashion_mnist_hp_search/sweeps/hww232ma</a>"
      ],
      "text/plain": [
       "<IPython.core.display.HTML object>"
      ]
     },
     "metadata": {},
     "output_type": "display_data"
    },
    {
     "data": {
      "text/html": [
       " View project at <a href='https://wandb.ai/bullseye2608-indian-institute-of-technology-madras/fashion_mnist_hp_search' target=\"_blank\">https://wandb.ai/bullseye2608-indian-institute-of-technology-madras/fashion_mnist_hp_search</a>"
      ],
      "text/plain": [
       "<IPython.core.display.HTML object>"
      ]
     },
     "metadata": {},
     "output_type": "display_data"
    },
    {
     "data": {
      "text/html": [
       " View sweep at <a href='https://wandb.ai/bullseye2608-indian-institute-of-technology-madras/fashion_mnist_hp_search/sweeps/hww232ma' target=\"_blank\">https://wandb.ai/bullseye2608-indian-institute-of-technology-madras/fashion_mnist_hp_search/sweeps/hww232ma</a>"
      ],
      "text/plain": [
       "<IPython.core.display.HTML object>"
      ]
     },
     "metadata": {},
     "output_type": "display_data"
    },
    {
     "data": {
      "text/html": [
       " View run at <a href='https://wandb.ai/bullseye2608-indian-institute-of-technology-madras/fashion_mnist_hp_search/runs/pulvux9u' target=\"_blank\">https://wandb.ai/bullseye2608-indian-institute-of-technology-madras/fashion_mnist_hp_search/runs/pulvux9u</a>"
      ],
      "text/plain": [
       "<IPython.core.display.HTML object>"
      ]
     },
     "metadata": {},
     "output_type": "display_data"
    },
    {
     "name": "stdout",
     "output_type": "stream",
     "text": [
      "_wandb\n",
      "activation\n",
      "batch_size\n",
      "epochs\n",
      "hidden_layers\n",
      "hidden_size\n",
      "learning_rate\n",
      "optimizer\n",
      "weight_decay\n",
      "weight_init\n",
      "Running AdamOptimizer self.learning_rate = 0.0001 self.beta1 = 0.9 self.beta2 = 0.999 self.epsilon = 1e-08\n",
      "Epoch 1/5, Iteration    0/3375 --> Train Loss: 13.57285, Val Loss: 11.51841\n",
      "Epoch 1/5, Iteration 1000/3375 --> Train Loss: 1.77289, Val Loss: 1.89464\n",
      "Epoch 1/5, Iteration 2000/3375 --> Train Loss: 1.82183, Val Loss: 1.67952\n",
      "Epoch 1/5, Iteration 3000/3375 --> Train Loss: 1.89722, Val Loss: 1.78247\n",
      "Epoch 2/5, Iteration  625/3375 --> Train Loss: 1.89446, Val Loss: 1.98703\n",
      "Epoch 2/5, Iteration 1625/3375 --> Train Loss: 2.19870, Val Loss: 2.19154\n",
      "Epoch 2/5, Iteration 2625/3375 --> Train Loss: 2.26395, Val Loss: 2.29386\n",
      "Epoch 3/5, Iteration  250/3375 --> Train Loss: 2.29913, Val Loss: 2.30523\n",
      "Epoch 3/5, Iteration 1250/3375 --> Train Loss: 2.30097, Val Loss: 2.30478\n",
      "Epoch 3/5, Iteration 2250/3375 --> Train Loss: 2.29633, Val Loss: 2.30428\n",
      "Epoch 3/5, Iteration 3250/3375 --> Train Loss: 2.29381, Val Loss: 2.30395\n",
      "Epoch 4/5, Iteration  875/3375 --> Train Loss: 2.30501, Val Loss: 2.30358\n",
      "Epoch 4/5, Iteration 1875/3375 --> Train Loss: 2.30130, Val Loss: 2.30346\n",
      "Epoch 4/5, Iteration 2875/3375 --> Train Loss: 2.28950, Val Loss: 2.30322\n",
      "Epoch 5/5, Iteration  500/3375 --> Train Loss: 2.31333, Val Loss: 2.30316\n",
      "Epoch 5/5, Iteration 1500/3375 --> Train Loss: 2.29668, Val Loss: 2.30300\n",
      "Epoch 5/5, Iteration 2500/3375 --> Train Loss: 2.31356, Val Loss: 2.30291\n",
      "Test Accuracy: 0.1000\n"
     ]
    },
    {
     "data": {
      "text/html": [],
      "text/plain": [
       "<IPython.core.display.HTML object>"
      ]
     },
     "metadata": {},
     "output_type": "display_data"
    },
    {
     "data": {
      "text/html": [
       "<br>    <style><br>        .wandb-row {<br>            display: flex;<br>            flex-direction: row;<br>            flex-wrap: wrap;<br>            justify-content: flex-start;<br>            width: 100%;<br>        }<br>        .wandb-col {<br>            display: flex;<br>            flex-direction: column;<br>            flex-basis: 100%;<br>            flex: 1;<br>            padding: 10px;<br>        }<br>    </style><br><div class=\"wandb-row\"><div class=\"wandb-col\"><h3>Run history:</h3><br/><table class=\"wandb\"><tr><td>epoch</td><td>▁▃▅▆█</td></tr><tr><td>test_accuracy</td><td>▁</td></tr><tr><td>train_loss</td><td>▁▇███</td></tr><tr><td>val_accuracy</td><td>█▁▁▁▁</td></tr></table><br/></div><div class=\"wandb-col\"><h3>Run summary:</h3><br/><table class=\"wandb\"><tr><td>epoch</td><td>4</td></tr><tr><td>test_accuracy</td><td>0.1</td></tr><tr><td>train_loss</td><td>2.31356</td></tr><tr><td>val_accuracy</td><td>0.10117</td></tr></table><br/></div></div>"
      ],
      "text/plain": [
       "<IPython.core.display.HTML object>"
      ]
     },
     "metadata": {},
     "output_type": "display_data"
    },
    {
     "data": {
      "text/html": [
       " View run <strong style=\"color:#cdcd00\">gentle-sweep-1</strong> at: <a href='https://wandb.ai/bullseye2608-indian-institute-of-technology-madras/fashion_mnist_hp_search/runs/pulvux9u' target=\"_blank\">https://wandb.ai/bullseye2608-indian-institute-of-technology-madras/fashion_mnist_hp_search/runs/pulvux9u</a><br> View project at: <a href='https://wandb.ai/bullseye2608-indian-institute-of-technology-madras/fashion_mnist_hp_search' target=\"_blank\">https://wandb.ai/bullseye2608-indian-institute-of-technology-madras/fashion_mnist_hp_search</a><br>Synced 5 W&B file(s), 0 media file(s), 0 artifact file(s) and 0 other file(s)"
      ],
      "text/plain": [
       "<IPython.core.display.HTML object>"
      ]
     },
     "metadata": {},
     "output_type": "display_data"
    },
    {
     "data": {
      "text/html": [
       "Find logs at: <code>.\\wandb\\run-20250301_000032-pulvux9u\\logs</code>"
      ],
      "text/plain": [
       "<IPython.core.display.HTML object>"
      ]
     },
     "metadata": {},
     "output_type": "display_data"
    },
    {
     "name": "stderr",
     "output_type": "stream",
     "text": [
      "wandb: Agent Starting Run: 0mv1blgd with config:\n",
      "wandb: \tactivation: sigmoid\n",
      "wandb: \tbatch_size: 32\n",
      "wandb: \tepochs: 10\n",
      "wandb: \thidden_layers: 5\n",
      "wandb: \thidden_size: 128\n",
      "wandb: \tlearning_rate: 0.0001\n",
      "wandb: \toptimizer: adam\n",
      "wandb: \tweight_decay: 0.0005\n",
      "wandb: \tweight_init: random\n"
     ]
    },
    {
     "data": {
      "text/html": [
       "Ignoring project 'fashion_mnist_hp_search' when running a sweep."
      ],
      "text/plain": [
       "<IPython.core.display.HTML object>"
      ]
     },
     "metadata": {},
     "output_type": "display_data"
    },
    {
     "data": {
      "text/html": [
       "Ignoring entity 'bullseye2608-indian-institute-of-technology-madras' when running a sweep."
      ],
      "text/plain": [
       "<IPython.core.display.HTML object>"
      ]
     },
     "metadata": {},
     "output_type": "display_data"
    },
    {
     "data": {
      "text/html": [
       "Tracking run with wandb version 0.19.7"
      ],
      "text/plain": [
       "<IPython.core.display.HTML object>"
      ]
     },
     "metadata": {},
     "output_type": "display_data"
    },
    {
     "data": {
      "text/html": [
       "Run data is saved locally in <code>c:\\Users\\DELL\\Desktop\\Coding\\Python\\DL\\wandb\\run-20250301_000048-0mv1blgd</code>"
      ],
      "text/plain": [
       "<IPython.core.display.HTML object>"
      ]
     },
     "metadata": {},
     "output_type": "display_data"
    },
    {
     "data": {
      "text/html": [
       "Syncing run <strong><a href='https://wandb.ai/bullseye2608-indian-institute-of-technology-madras/fashion_mnist_hp_search/runs/0mv1blgd' target=\"_blank\">amber-sweep-2</a></strong> to <a href='https://wandb.ai/bullseye2608-indian-institute-of-technology-madras/fashion_mnist_hp_search' target=\"_blank\">Weights & Biases</a> (<a href='https://wandb.me/developer-guide' target=\"_blank\">docs</a>)<br>Sweep page: <a href='https://wandb.ai/bullseye2608-indian-institute-of-technology-madras/fashion_mnist_hp_search/sweeps/hww232ma' target=\"_blank\">https://wandb.ai/bullseye2608-indian-institute-of-technology-madras/fashion_mnist_hp_search/sweeps/hww232ma</a>"
      ],
      "text/plain": [
       "<IPython.core.display.HTML object>"
      ]
     },
     "metadata": {},
     "output_type": "display_data"
    },
    {
     "data": {
      "text/html": [
       " View project at <a href='https://wandb.ai/bullseye2608-indian-institute-of-technology-madras/fashion_mnist_hp_search' target=\"_blank\">https://wandb.ai/bullseye2608-indian-institute-of-technology-madras/fashion_mnist_hp_search</a>"
      ],
      "text/plain": [
       "<IPython.core.display.HTML object>"
      ]
     },
     "metadata": {},
     "output_type": "display_data"
    },
    {
     "data": {
      "text/html": [
       " View sweep at <a href='https://wandb.ai/bullseye2608-indian-institute-of-technology-madras/fashion_mnist_hp_search/sweeps/hww232ma' target=\"_blank\">https://wandb.ai/bullseye2608-indian-institute-of-technology-madras/fashion_mnist_hp_search/sweeps/hww232ma</a>"
      ],
      "text/plain": [
       "<IPython.core.display.HTML object>"
      ]
     },
     "metadata": {},
     "output_type": "display_data"
    },
    {
     "data": {
      "text/html": [
       " View run at <a href='https://wandb.ai/bullseye2608-indian-institute-of-technology-madras/fashion_mnist_hp_search/runs/0mv1blgd' target=\"_blank\">https://wandb.ai/bullseye2608-indian-institute-of-technology-madras/fashion_mnist_hp_search/runs/0mv1blgd</a>"
      ],
      "text/plain": [
       "<IPython.core.display.HTML object>"
      ]
     },
     "metadata": {},
     "output_type": "display_data"
    },
    {
     "name": "stdout",
     "output_type": "stream",
     "text": [
      "_wandb\n",
      "activation\n",
      "batch_size\n",
      "epochs\n",
      "hidden_layers\n",
      "hidden_size\n",
      "learning_rate\n",
      "optimizer\n",
      "weight_decay\n",
      "weight_init\n",
      "Running AdamOptimizer self.learning_rate = 0.0001 self.beta1 = 0.9 self.beta2 = 0.999 self.epsilon = 1e-08\n",
      "Epoch  1/10, Iteration    0/1688 --> Train Loss: 3.47220, Val Loss: 3.43083\n",
      "Epoch  1/10, Iteration 1000/1688 --> Train Loss: 0.86852, Val Loss: 0.84604\n",
      "Epoch  2/10, Iteration  312/1688 --> Train Loss: 0.46120, Val Loss: 0.62965\n",
      "Epoch  2/10, Iteration 1312/1688 --> Train Loss: 0.51938, Val Loss: 0.55846\n",
      "Epoch  3/10, Iteration  624/1688 --> Train Loss: 0.64384, Val Loss: 0.50920\n",
      "Epoch  3/10, Iteration 1624/1688 --> Train Loss: 0.37365, Val Loss: 0.48895\n",
      "Epoch  4/10, Iteration  936/1688 --> Train Loss: 0.51389, Val Loss: 0.47010\n",
      "Epoch  5/10, Iteration  248/1688 --> Train Loss: 0.43293, Val Loss: 0.45432\n",
      "Epoch  5/10, Iteration 1248/1688 --> Train Loss: 0.40199, Val Loss: 0.44782\n",
      "Epoch  6/10, Iteration  560/1688 --> Train Loss: 0.41204, Val Loss: 0.44236\n",
      "Epoch  6/10, Iteration 1560/1688 --> Train Loss: 0.47341, Val Loss: 0.43836\n",
      "Epoch  7/10, Iteration  872/1688 --> Train Loss: 0.52206, Val Loss: 0.44105\n",
      "Epoch  8/10, Iteration  184/1688 --> Train Loss: 0.26344, Val Loss: 0.42625\n",
      "Epoch  8/10, Iteration 1184/1688 --> Train Loss: 0.42272, Val Loss: 0.41416\n",
      "Epoch  9/10, Iteration  496/1688 --> Train Loss: 0.53196, Val Loss: 0.41675\n",
      "Epoch  9/10, Iteration 1496/1688 --> Train Loss: 0.78900, Val Loss: 0.41942\n",
      "Epoch 10/10, Iteration  808/1688 --> Train Loss: 0.36626, Val Loss: 0.40599\n",
      "Test Accuracy: 0.8452\n"
     ]
    },
    {
     "data": {
      "text/html": [],
      "text/plain": [
       "<IPython.core.display.HTML object>"
      ]
     },
     "metadata": {},
     "output_type": "display_data"
    },
    {
     "data": {
      "text/html": [
       "<br>    <style><br>        .wandb-row {<br>            display: flex;<br>            flex-direction: row;<br>            flex-wrap: wrap;<br>            justify-content: flex-start;<br>            width: 100%;<br>        }<br>        .wandb-col {<br>            display: flex;<br>            flex-direction: column;<br>            flex-basis: 100%;<br>            flex: 1;<br>            padding: 10px;<br>        }<br>    </style><br><div class=\"wandb-row\"><div class=\"wandb-col\"><h3>Run history:</h3><br/><table class=\"wandb\"><tr><td>epoch</td><td>▁▂▃▃▄▅▆▆▇█</td></tr><tr><td>test_accuracy</td><td>▁</td></tr><tr><td>train_loss</td><td>█▃▁▃▁▂▃▂▇▁</td></tr><tr><td>val_accuracy</td><td>▁▅▆▇▇▇▇███</td></tr></table><br/></div><div class=\"wandb-col\"><h3>Run summary:</h3><br/><table class=\"wandb\"><tr><td>epoch</td><td>9</td></tr><tr><td>test_accuracy</td><td>0.8452</td></tr><tr><td>train_loss</td><td>0.36626</td></tr><tr><td>val_accuracy</td><td>0.853</td></tr></table><br/></div></div>"
      ],
      "text/plain": [
       "<IPython.core.display.HTML object>"
      ]
     },
     "metadata": {},
     "output_type": "display_data"
    },
    {
     "data": {
      "text/html": [
       " View run <strong style=\"color:#cdcd00\">amber-sweep-2</strong> at: <a href='https://wandb.ai/bullseye2608-indian-institute-of-technology-madras/fashion_mnist_hp_search/runs/0mv1blgd' target=\"_blank\">https://wandb.ai/bullseye2608-indian-institute-of-technology-madras/fashion_mnist_hp_search/runs/0mv1blgd</a><br> View project at: <a href='https://wandb.ai/bullseye2608-indian-institute-of-technology-madras/fashion_mnist_hp_search' target=\"_blank\">https://wandb.ai/bullseye2608-indian-institute-of-technology-madras/fashion_mnist_hp_search</a><br>Synced 5 W&B file(s), 0 media file(s), 0 artifact file(s) and 0 other file(s)"
      ],
      "text/plain": [
       "<IPython.core.display.HTML object>"
      ]
     },
     "metadata": {},
     "output_type": "display_data"
    },
    {
     "data": {
      "text/html": [
       "Find logs at: <code>.\\wandb\\run-20250301_000048-0mv1blgd\\logs</code>"
      ],
      "text/plain": [
       "<IPython.core.display.HTML object>"
      ]
     },
     "metadata": {},
     "output_type": "display_data"
    },
    {
     "name": "stderr",
     "output_type": "stream",
     "text": [
      "wandb: Agent Starting Run: 2yw4p749 with config:\n",
      "wandb: \tactivation: relu\n",
      "wandb: \tbatch_size: 32\n",
      "wandb: \tepochs: 10\n",
      "wandb: \thidden_layers: 4\n",
      "wandb: \thidden_size: 64\n",
      "wandb: \tlearning_rate: 0.001\n",
      "wandb: \toptimizer: momentum\n",
      "wandb: \tweight_decay: 0.0005\n",
      "wandb: \tweight_init: random\n"
     ]
    },
    {
     "data": {
      "text/html": [
       "Ignoring project 'fashion_mnist_hp_search' when running a sweep."
      ],
      "text/plain": [
       "<IPython.core.display.HTML object>"
      ]
     },
     "metadata": {},
     "output_type": "display_data"
    },
    {
     "data": {
      "text/html": [
       "Ignoring entity 'bullseye2608-indian-institute-of-technology-madras' when running a sweep."
      ],
      "text/plain": [
       "<IPython.core.display.HTML object>"
      ]
     },
     "metadata": {},
     "output_type": "display_data"
    },
    {
     "data": {
      "text/html": [
       "Tracking run with wandb version 0.19.7"
      ],
      "text/plain": [
       "<IPython.core.display.HTML object>"
      ]
     },
     "metadata": {},
     "output_type": "display_data"
    },
    {
     "data": {
      "text/html": [
       "Run data is saved locally in <code>c:\\Users\\DELL\\Desktop\\Coding\\Python\\DL\\wandb\\run-20250301_000152-2yw4p749</code>"
      ],
      "text/plain": [
       "<IPython.core.display.HTML object>"
      ]
     },
     "metadata": {},
     "output_type": "display_data"
    },
    {
     "data": {
      "text/html": [
       "Syncing run <strong><a href='https://wandb.ai/bullseye2608-indian-institute-of-technology-madras/fashion_mnist_hp_search/runs/2yw4p749' target=\"_blank\">comfy-sweep-3</a></strong> to <a href='https://wandb.ai/bullseye2608-indian-institute-of-technology-madras/fashion_mnist_hp_search' target=\"_blank\">Weights & Biases</a> (<a href='https://wandb.me/developer-guide' target=\"_blank\">docs</a>)<br>Sweep page: <a href='https://wandb.ai/bullseye2608-indian-institute-of-technology-madras/fashion_mnist_hp_search/sweeps/hww232ma' target=\"_blank\">https://wandb.ai/bullseye2608-indian-institute-of-technology-madras/fashion_mnist_hp_search/sweeps/hww232ma</a>"
      ],
      "text/plain": [
       "<IPython.core.display.HTML object>"
      ]
     },
     "metadata": {},
     "output_type": "display_data"
    },
    {
     "data": {
      "text/html": [
       " View project at <a href='https://wandb.ai/bullseye2608-indian-institute-of-technology-madras/fashion_mnist_hp_search' target=\"_blank\">https://wandb.ai/bullseye2608-indian-institute-of-technology-madras/fashion_mnist_hp_search</a>"
      ],
      "text/plain": [
       "<IPython.core.display.HTML object>"
      ]
     },
     "metadata": {},
     "output_type": "display_data"
    },
    {
     "data": {
      "text/html": [
       " View sweep at <a href='https://wandb.ai/bullseye2608-indian-institute-of-technology-madras/fashion_mnist_hp_search/sweeps/hww232ma' target=\"_blank\">https://wandb.ai/bullseye2608-indian-institute-of-technology-madras/fashion_mnist_hp_search/sweeps/hww232ma</a>"
      ],
      "text/plain": [
       "<IPython.core.display.HTML object>"
      ]
     },
     "metadata": {},
     "output_type": "display_data"
    },
    {
     "data": {
      "text/html": [
       " View run at <a href='https://wandb.ai/bullseye2608-indian-institute-of-technology-madras/fashion_mnist_hp_search/runs/2yw4p749' target=\"_blank\">https://wandb.ai/bullseye2608-indian-institute-of-technology-madras/fashion_mnist_hp_search/runs/2yw4p749</a>"
      ],
      "text/plain": [
       "<IPython.core.display.HTML object>"
      ]
     },
     "metadata": {},
     "output_type": "display_data"
    },
    {
     "name": "stdout",
     "output_type": "stream",
     "text": [
      "_wandb\n",
      "activation\n",
      "batch_size\n",
      "epochs\n",
      "hidden_layers\n",
      "hidden_size\n",
      "learning_rate\n",
      "optimizer\n",
      "weight_decay\n",
      "weight_init\n"
     ]
    }
   ],
   "source": [
    "# Create sweep\n",
    "sweep_name = \"fashion_mnist_nn_sweep\"\n",
    "sweep_id = wandb.sweep(sweep_config, \n",
    "                       entity=\"bullseye2608-indian-institute-of-technology-madras\",\n",
    "                       project=\"fashion_mnist_hp_search\")\n",
    "\n",
    "# Run the sweep\n",
    "wandb.agent(sweep_id, wandb_sweep_helper_function, count=30)"
   ]
  },
  {
   "cell_type": "code",
   "execution_count": null,
   "metadata": {},
   "outputs": [
    {
     "name": "stdout",
     "output_type": "stream",
     "text": [
      "Create sweep with ID: uy1aaz54\n",
      "Sweep URL: https://wandb.ai/bullseye2608-indian-institute-of-technology-madras/fashion_mnist_hp_search/sweeps/uy1aaz54\n"
     ]
    },
    {
     "ename": "NameError",
     "evalue": "name 'train_model_1290387213' is not defined",
     "output_type": "error",
     "traceback": [
      "\u001b[1;31m---------------------------------------------------------------------------\u001b[0m",
      "\u001b[1;31mNameError\u001b[0m                                 Traceback (most recent call last)",
      "Cell \u001b[1;32mIn[192], line 288\u001b[0m\n\u001b[0;32m    285\u001b[0m sweep_id \u001b[38;5;241m=\u001b[39m wandb\u001b[38;5;241m.\u001b[39msweep(sweep_config, project\u001b[38;5;241m=\u001b[39m\u001b[38;5;124m\"\u001b[39m\u001b[38;5;124mfashion_mnist_hp_search\u001b[39m\u001b[38;5;124m\"\u001b[39m)\n\u001b[0;32m    287\u001b[0m \u001b[38;5;66;03m# Run the sweep (30 runs)\u001b[39;00m\n\u001b[1;32m--> 288\u001b[0m wandb\u001b[38;5;241m.\u001b[39magent(sweep_id, \u001b[43mtrain_model_1290387213\u001b[49m, count\u001b[38;5;241m=\u001b[39m\u001b[38;5;241m30\u001b[39m)\n\u001b[0;32m    290\u001b[0m \u001b[38;5;66;03m# Optionally, additional code to create a report\u001b[39;00m\n\u001b[0;32m    291\u001b[0m \u001b[38;5;66;03m# This would be done in the wandb UI, but you can programmatically create a report as well\u001b[39;00m\n\u001b[0;32m    292\u001b[0m \u001b[38;5;28mprint\u001b[39m(\u001b[38;5;124m\"\u001b[39m\u001b[38;5;124mSweep completed. Please go to W&B UI to view results and create report.\u001b[39m\u001b[38;5;124m\"\u001b[39m)\n",
      "\u001b[1;31mNameError\u001b[0m: name 'train_model_1290387213' is not defined"
     ]
    }
   ],
   "source": [
    "# import numpy as np\n",
    "# import pandas as pd\n",
    "# import wandb\n",
    "# from tensorflow.keras.datasets import fashion_mnist\n",
    "# from sklearn.model_selection import train_test_split\n",
    "\n",
    "# # Load Fashion MNIST dataset\n",
    "# (X_train_full, y_train_full), (X_test, y_test) = fashion_mnist.load_data()\n",
    "\n",
    "# # Split training data to create validation set (10% of training data)\n",
    "# X_train, X_val, y_train, y_val = train_test_split(\n",
    "#     X_train_full, y_train_full, test_size=0.1, random_state=42\n",
    "# )\n",
    "\n",
    "# # Normalize pixel values to be between 0 and 1\n",
    "# X_train = X_train.astype('float32') / 255.0\n",
    "# X_val = X_val.astype('float32') / 255.0\n",
    "# X_test = X_test.astype('float32') / 255.0\n",
    "\n",
    "# # Reshape data for the network (flatten 28x28 images to 784 vector)\n",
    "# X_train_flat = X_train.reshape(X_train.shape[0], -1)\n",
    "# X_val_flat = X_val.reshape(X_val.shape[0], -1)\n",
    "# X_test_flat = X_test.reshape(X_test.shape[0], -1)\n",
    "\n",
    "# # Define a function to map optimizer names to your implementation\n",
    "# def get_optimizer(name, learning_rate):\n",
    "#     # This should match how your NeuralNetwork class handles optimizers\n",
    "#     if name == 'sgd':\n",
    "#         return {'type': 'sgd', 'learning_rate': learning_rate}\n",
    "#     elif name == 'momentum':\n",
    "#         return {'type': 'momentum', 'learning_rate': learning_rate, 'beta': 0.9}\n",
    "#     elif name == 'nesterov':\n",
    "#         return {'type': 'nesterov', 'learning_rate': learning_rate, 'beta': 0.9}\n",
    "#     elif name == 'rmsprop':\n",
    "#         return {'type': 'rmsprop', 'learning_rate': learning_rate, 'beta': 0.9, 'epsilon': 1e-8}\n",
    "#     elif name == 'adam':\n",
    "#         return {'type': 'adam', 'learning_rate': learning_rate, 'beta1': 0.9, 'beta2': 0.999, 'epsilon': 1e-8}\n",
    "#     elif name == 'nadam':\n",
    "#         return {'type': 'nadam', 'learning_rate': learning_rate, 'beta1': 0.9, 'beta2': 0.999, 'epsilon': 1e-8}\n",
    "#     else:\n",
    "#         raise ValueError(f\"Optimizer {name} not recognized\")\n",
    "\n",
    "# # Define the wandb training function that will use your NeuralNetwork class\n",
    "# def train_with_config(config=None):\n",
    "#     with wandb.init(config=config):\n",
    "#         # Access hyperparameter values through wandb.config\n",
    "#         config = wandb.config\n",
    "        \n",
    "#         # Create hidden layer architecture\n",
    "#         # Input is 784, output is 10\n",
    "#         layer_sizes = [784]\n",
    "        \n",
    "#         # Add hidden layers based on config\n",
    "#         for _ in range(config.hidden_layers):\n",
    "#             layer_sizes.append(config.hidden_size)\n",
    "        \n",
    "#         # Add output layer (10 classes for Fashion MNIST)\n",
    "#         layer_sizes.append(10)\n",
    "        \n",
    "#         # Define activation functions\n",
    "#         # All hidden layers use the same activation function from config\n",
    "#         activation_functions = [config.activation] * config.hidden_layers\n",
    "        \n",
    "#         # Output layer always uses softmax for classification\n",
    "#         activation_functions.append('softmax')\n",
    "        \n",
    "#         # Initialize your Neural Network\n",
    "#         from neural_network import NeuralNetwork  # Import your NeuralNetwork class\n",
    "        \n",
    "#         nn = NeuralNetwork(\n",
    "#             layer_sizes=layer_sizes,\n",
    "#             activation_functions=activation_functions,\n",
    "#             weight_initialization=config.weight_init,\n",
    "#             weight_decay=config.weight_decay\n",
    "#         )\n",
    "        \n",
    "#         # Get optimizer configuration\n",
    "#         optimizer = get_optimizer(config.optimizer, config.learning_rate)\n",
    "        \n",
    "#         # Create a wandb callback to log metrics during training\n",
    "#         class WandbCallback:\n",
    "#             def __init__(self):\n",
    "#                 self.epoch = 0\n",
    "            \n",
    "#             def on_epoch_end(self, loss, val_accuracy):\n",
    "#                 wandb.log({\n",
    "#                     \"epoch\": self.epoch,\n",
    "#                     \"train_loss\": loss,\n",
    "#                     \"val_accuracy\": val_accuracy\n",
    "#                 })\n",
    "#                 self.epoch += 1\n",
    "        \n",
    "#         wandb_callback = WandbCallback()\n",
    "        \n",
    "#         # Call your training function\n",
    "#         nn.train(\n",
    "#             X_train_flat, \n",
    "#             y_train, \n",
    "#             X_val_flat, \n",
    "#             y_val, \n",
    "#             batch_size=config.batch_size, \n",
    "#             num_epochs=config.epochs, \n",
    "#             loss_type='cross_entropy',\n",
    "#             optimizer=optimizer,\n",
    "#             callback=wandb_callback  # Assuming your NeuralNetwork class supports callbacks\n",
    "#         )\n",
    "        \n",
    "#         # Compute final test accuracy\n",
    "#         test_accuracy = nn.compute_accuracy(X_test_flat, y_test)\n",
    "#         wandb.log({\"test_accuracy\": test_accuracy})\n",
    "#         print(f\"Test Accuracy: {test_accuracy:.4f}\")\n",
    "\n",
    "# # Define sweep configuration\n",
    "# sweep_config = {\n",
    "#     'method': 'bayes',  # Bayesian optimization strategy\n",
    "#     'metric': {\n",
    "#         'name': 'val_accuracy',\n",
    "#         'goal': 'maximize'\n",
    "#     },\n",
    "#     'parameters': {\n",
    "#         'epochs': {\n",
    "#             'values': [5, 10]\n",
    "#         },\n",
    "#         'hidden_layers': {\n",
    "#             'values': [3, 4, 5]\n",
    "#         },\n",
    "#         'hidden_size': {\n",
    "#             'values': [32, 64, 128]\n",
    "#         },\n",
    "#         'weight_decay': {\n",
    "#             'values': [0, 0.0005, 0.5]\n",
    "#         },\n",
    "#         'learning_rate': {\n",
    "#             'values': [1e-3, 1e-4]\n",
    "#         },\n",
    "#         'optimizer': {\n",
    "#             'values': ['sgd', 'momentum', 'nesterov', 'rmsprop', 'adam', 'nadam']\n",
    "#         },\n",
    "#         'batch_size': {\n",
    "#             'values': [16, 32, 64]\n",
    "#         },\n",
    "#         'weight_init': {\n",
    "#             'values': ['random', 'xavier']\n",
    "#         },\n",
    "#         'activation': {\n",
    "#             'values': ['sigmoid', 'tanh', 'relu']\n",
    "#         }\n",
    "#     }\n",
    "# }\n",
    "\n",
    "# # Create sweep\n",
    "# sweep_name = \"fashion_mnist_nn_sweep\"\n",
    "# sweep_id = wandb.sweep(sweep_config, project=\"fashion_mnist_hp_search\", name=sweep_name)\n",
    "\n",
    "# # Run the sweep\n",
    "# wandb.agent(sweep_id, train_with_config, count=30)\n",
    "\n",
    "# # The following code assumes the NeuralNetwork class doesn't have callback support\n",
    "# # If that's the case, you can modify the train_with_config function as follows:\n",
    "\n",
    "# \"\"\"\n",
    "# # Alternative implementation if your NeuralNetwork class doesn't support callbacks\n",
    "# def train_with_config_no_callback(config=None):\n",
    "#     with wandb.init(config=config):\n",
    "#         config = wandb.config\n",
    "        \n",
    "#         layer_sizes = [784]\n",
    "#         for _ in range(config.hidden_layers):\n",
    "#             layer_sizes.append(config.hidden_size)\n",
    "#         layer_sizes.append(10)\n",
    "        \n",
    "#         activation_functions = [config.activation] * config.hidden_layers\n",
    "#         activation_functions.append('softmax')\n",
    "        \n",
    "#         from neural_network import NeuralNetwork\n",
    "#         nn = NeuralNetwork(\n",
    "#             layer_sizes=layer_sizes,\n",
    "#             activation_functions=activation_functions,\n",
    "#             weight_initialization=config.weight_init,\n",
    "#             weight_decay=config.weight_decay\n",
    "#         )\n",
    "        \n",
    "#         optimizer = get_optimizer(config.optimizer, config.learning_rate)\n",
    "        \n",
    "#         # Implement custom epoch loop to log to wandb\n",
    "#         for epoch in range(config.epochs):\n",
    "#             # Train for one epoch\n",
    "#             loss = nn.train_epoch(\n",
    "#                 X_train_flat, \n",
    "#                 y_train,\n",
    "#                 batch_size=config.batch_size,\n",
    "#                 loss_type='cross_entropy',\n",
    "#                 optimizer=optimizer\n",
    "#             )\n",
    "            \n",
    "#             # Compute validation accuracy\n",
    "#             val_accuracy = nn.compute_accuracy(X_val_flat, y_val)\n",
    "            \n",
    "#             # Log to wandb\n",
    "#             wandb.log({\n",
    "#                 \"epoch\": epoch,\n",
    "#                 \"train_loss\": loss,\n",
    "#                 \"val_accuracy\": val_accuracy\n",
    "#             })\n",
    "            \n",
    "#             print(f\"Epoch {epoch+1}/{config.epochs}, Loss: {loss:.4f}, Val Accuracy: {val_accuracy:.4f}\")\n",
    "        \n",
    "#         # Compute final test accuracy\n",
    "#         test_accuracy = nn.compute_accuracy(X_test_flat, y_test)\n",
    "#         wandb.log({\"test_accuracy\": test_accuracy})\n",
    "#         print(f\"Test Accuracy: {test_accuracy:.4f}\")\n",
    "# \"\"\""
   ]
  },
  {
   "cell_type": "code",
   "execution_count": 22,
   "metadata": {},
   "outputs": [
    {
     "name": "stdout",
     "output_type": "stream",
     "text": [
      "1\n",
      "{'a2': 2, 'a3': 3}\n"
     ]
    }
   ],
   "source": [
    "kw = {'a1': 1, 'a2': 2, 'a3': 3}\n",
    "def print_ff(a1, **kwargs):\n",
    "    print(a1)\n",
    "    print(kwargs)\n",
    "print_ff(**kw)"
   ]
  },
  {
   "cell_type": "code",
   "execution_count": null,
   "metadata": {},
   "outputs": [],
   "source": []
  }
 ],
 "metadata": {
  "kernelspec": {
   "display_name": "RL",
   "language": "python",
   "name": "python3"
  },
  "language_info": {
   "codemirror_mode": {
    "name": "ipython",
    "version": 3
   },
   "file_extension": ".py",
   "mimetype": "text/x-python",
   "name": "python",
   "nbconvert_exporter": "python",
   "pygments_lexer": "ipython3",
   "version": "3.10.14"
  }
 },
 "nbformat": 4,
 "nbformat_minor": 2
}
