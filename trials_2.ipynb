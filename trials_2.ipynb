{
 "cells": [
  {
   "cell_type": "code",
   "execution_count": 12,
   "metadata": {},
   "outputs": [],
   "source": [
    "import numpy as np\n",
    "import matplotlib.pyplot as plt\n",
    "import pandas as pd\n",
    "import yaml\n",
    "from keras.datasets import fashion_mnist\n",
    "import wandb\n",
    "\n",
    "from utils.neural_network import NeuralNetwork\n",
    "from utils.wandb_callback import WandbCallback\n",
    "from utils.helper_functions import get_optimizer, create_validation_set"
   ]
  },
  {
   "cell_type": "code",
   "execution_count": 2,
   "metadata": {},
   "outputs": [
    {
     "name": "stderr",
     "output_type": "stream",
     "text": [
      "wandb: Using wandb-core as the SDK backend.  Please refer to https://wandb.me/wandb-core for more information.\n",
      "wandb: Currently logged in as: bullseye2608 (bullseye2608-indian-institute-of-technology-madras) to https://api.wandb.ai. Use `wandb login --relogin` to force relogin\n"
     ]
    },
    {
     "data": {
      "text/plain": [
       "True"
      ]
     },
     "execution_count": 2,
     "metadata": {},
     "output_type": "execute_result"
    }
   ],
   "source": [
    "wandb.login()"
   ]
  },
  {
   "cell_type": "code",
   "execution_count": 3,
   "metadata": {},
   "outputs": [],
   "source": [
    "(X_train, y_train), (X_test, y_test) = fashion_mnist.load_data()\n",
    "(X_train, X_val, y_train, y_val) = create_validation_set(X_train, y_train, val_ratio=0.1, seed=42)\n",
    "\n",
    "class_names = ['T-shirt/top', 'Trouser', 'Pullover', 'Dress', 'Coat', \n",
    "               'Sandal', 'Shirt', 'Sneaker', 'Bag', 'Ankle boot']\n",
    "\n",
    "X_train_flat = X_train.reshape(X_train.shape[0], -1) / 255.0\n",
    "X_val_flat = X_val.reshape(X_val.shape[0], -1) / 255.0\n",
    "X_test_flat = X_test.reshape(X_test.shape[0], -1) / 255.0"
   ]
  },
  {
   "cell_type": "markdown",
   "metadata": {},
   "source": [
    "### Trials"
   ]
  },
  {
   "cell_type": "code",
   "execution_count": 9,
   "metadata": {},
   "outputs": [
    {
     "name": "stdout",
     "output_type": "stream",
     "text": [
      "0.084667\n"
     ]
    }
   ],
   "source": [
    "nn = NeuralNetwork(layer_sizes=[784, 128, 128, 128, 10], \n",
    "                   activation_functions=['relu', 'relu', 'relu', 'softmax'], \n",
    "                   weight_init='xavier',\n",
    "                   weight_decay=0.0, LOG_EACH=True)\n",
    "\n",
    "H, A = nn.forward_propagation(X_train_flat)\n",
    "loss = nn.compute_loss(H[-1], y_train)\n",
    "print(f'{nn.compute_accuracy(X_val_flat, y_val) :>.6f}')\n",
    "\n",
    "nn.set_optimizer({'name':'nadam', 'learning_rate':0.001, 'epsilon':1e-7, 'beta1':0.95})"
   ]
  },
  {
   "cell_type": "code",
   "execution_count": 10,
   "metadata": {},
   "outputs": [
    {
     "name": "stdout",
     "output_type": "stream",
     "text": [
      "Running NadamOptimizer self.learning_rate = 0.001 self.beta1 = 0.95 self.beta2 = 0.999 self.epsilon = 1e-07\n",
      "Epoch  1/10, Iteration   0/844 --> Train Loss: 2.35104, Val Loss: 2.16716\n",
      "Epoch  6/10, Iteration 780/844 --> Train Loss: 0.19660, Val Loss: 0.31810\n",
      "---------------------------------------- DONE ----------------------------------------\n",
      "0.8774\n"
     ]
    }
   ],
   "source": [
    "num_trial_datapoints = 54000\n",
    "\n",
    "LOG_EACH = True\n",
    "\n",
    "nn.train(X_train_flat[:num_trial_datapoints], \n",
    "         y_train[:num_trial_datapoints], \n",
    "         X_val_flat, y_val, \n",
    "         batch_size=64, \n",
    "         num_epochs=10, \n",
    "         loss_type='cross_entropy', \n",
    "         log_every=5000)\n",
    "\n",
    "LOG_EACH = False\n",
    "\n",
    "print('--'*20,'DONE','--'*20)\n",
    "print(nn.compute_accuracy(X_test_flat, y_test))"
   ]
  },
  {
   "cell_type": "markdown",
   "metadata": {},
   "source": [
    "### WANDB SWEEP"
   ]
  },
  {
   "cell_type": "code",
   "execution_count": 13,
   "metadata": {},
   "outputs": [],
   "source": [
    "def wandb_sweep_helper_function(config=None):\n",
    "    with wandb.init(\n",
    "        entity=\"bullseye2608-indian-institute-of-technology-madras\",\n",
    "        project=\"fashion_mnist_hp_search\",\n",
    "        config=config):\n",
    "        \n",
    "        config = wandb.config\n",
    "        \n",
    "        \n",
    "        layer_sizes = [784] + [config.hidden_size]*config.hidden_layers + [10]\n",
    "        activation_functions = [config.activation]*config.hidden_layers + ['softmax']\n",
    "        \n",
    "        nn = NeuralNetwork(layer_sizes=layer_sizes, \n",
    "                           activation_functions=activation_functions,\n",
    "                           weight_init=config.weight_init, \n",
    "                           weight_decay=config.weight_decay)\n",
    "        \n",
    "        wandb_callback = WandbCallback()\n",
    "        \n",
    "        optimizer = get_optimizer(config.optimizer, config.learning_rate)\n",
    "        nn.set_optimizer(optimizer)\n",
    "        \n",
    "        history = nn.train(\n",
    "            X_train_flat, \n",
    "            y_train, \n",
    "            X_val_flat, \n",
    "            y_val, \n",
    "            batch_size=config.batch_size, \n",
    "            num_epochs=config.epochs, \n",
    "            loss_type='cross_entropy', \n",
    "            log_every=1000,\n",
    "            callback=wandb_callback  # Assuming your NeuralNetwork class supports callbacks\n",
    "        )\n",
    "        \n",
    "        test_accuracy = nn.compute_accuracy(X_test_flat, y_test)\n",
    "        wandb.log({\"test_accuracy\": test_accuracy})\n",
    "        print(f\"Test Accuracy: {test_accuracy:.4f}\")\n",
    "        \n",
    "        return history\n",
    "\n",
    "\n",
    "with open(\"sweep_config.yaml\", \"r\") as file:\n",
    "    sweep_config = yaml.safe_load(file)\n"
   ]
  },
  {
   "cell_type": "code",
   "execution_count": 9,
   "metadata": {},
   "outputs": [],
   "source": [
    "# # Create New sweep\n",
    "\n",
    "# sweep_id = wandb.sweep(sweep_config, \n",
    "#                        entity=\"bullseye2608-indian-institute-of-technology-madras\",\n",
    "#                        project=\"fashion_mnist_hp_search\")\n",
    "\n",
    "# # Run the sweep\n",
    "# wandb.agent(sweep_id, wandb_sweep_helper_function, count=60)"
   ]
  },
  {
   "cell_type": "code",
   "execution_count": null,
   "metadata": {},
   "outputs": [
    {
     "name": "stderr",
     "output_type": "stream",
     "text": [
      "wandb: Agent Starting Run: xhj05fg2 with config:\n",
      "wandb: \tactivation: relu\n",
      "wandb: \tbatch_size: 32\n",
      "wandb: \tepochs: 10\n",
      "wandb: \thidden_layers: 4\n",
      "wandb: \thidden_size: 64\n",
      "wandb: \tlearning_rate: 0.0001\n",
      "wandb: \toptimizer: nadam\n",
      "wandb: \tweight_decay: 0.0005\n",
      "wandb: \tweight_init: xavier\n"
     ]
    },
    {
     "data": {
      "text/html": [
       "Ignoring project 'fashion_mnist_hp_search' when running a sweep."
      ],
      "text/plain": [
       "<IPython.core.display.HTML object>"
      ]
     },
     "metadata": {},
     "output_type": "display_data"
    },
    {
     "data": {
      "text/html": [
       "Ignoring entity 'bullseye2608-indian-institute-of-technology-madras' when running a sweep."
      ],
      "text/plain": [
       "<IPython.core.display.HTML object>"
      ]
     },
     "metadata": {},
     "output_type": "display_data"
    },
    {
     "data": {
      "text/html": [
       "creating run (0.1s)"
      ],
      "text/plain": [
       "<IPython.core.display.HTML object>"
      ]
     },
     "metadata": {},
     "output_type": "display_data"
    },
    {
     "data": {
      "text/html": [
       "Tracking run with wandb version 0.19.7"
      ],
      "text/plain": [
       "<IPython.core.display.HTML object>"
      ]
     },
     "metadata": {},
     "output_type": "display_data"
    },
    {
     "data": {
      "text/html": [
       "Run data is saved locally in <code>c:\\Users\\DELL\\Desktop\\Coding\\Python\\DL\\wandb\\run-20250301_133942-xhj05fg2</code>"
      ],
      "text/plain": [
       "<IPython.core.display.HTML object>"
      ]
     },
     "metadata": {},
     "output_type": "display_data"
    },
    {
     "data": {
      "text/html": [
       "Syncing run <strong><a href='https://wandb.ai/bullseye2608-indian-institute-of-technology-madras/fashion_mnist_hp_search/runs/xhj05fg2' target=\"_blank\">fine-sweep-136</a></strong> to <a href='https://wandb.ai/bullseye2608-indian-institute-of-technology-madras/fashion_mnist_hp_search' target=\"_blank\">Weights & Biases</a> (<a href='https://wandb.me/developer-guide' target=\"_blank\">docs</a>)<br>Sweep page: <a href='https://wandb.ai/bullseye2608-indian-institute-of-technology-madras/fashion_mnist_hp_search/sweeps/vhbqpquu' target=\"_blank\">https://wandb.ai/bullseye2608-indian-institute-of-technology-madras/fashion_mnist_hp_search/sweeps/vhbqpquu</a>"
      ],
      "text/plain": [
       "<IPython.core.display.HTML object>"
      ]
     },
     "metadata": {},
     "output_type": "display_data"
    },
    {
     "data": {
      "text/html": [
       " View project at <a href='https://wandb.ai/bullseye2608-indian-institute-of-technology-madras/fashion_mnist_hp_search' target=\"_blank\">https://wandb.ai/bullseye2608-indian-institute-of-technology-madras/fashion_mnist_hp_search</a>"
      ],
      "text/plain": [
       "<IPython.core.display.HTML object>"
      ]
     },
     "metadata": {},
     "output_type": "display_data"
    },
    {
     "data": {
      "text/html": [
       " View sweep at <a href='https://wandb.ai/bullseye2608-indian-institute-of-technology-madras/fashion_mnist_hp_search/sweeps/vhbqpquu' target=\"_blank\">https://wandb.ai/bullseye2608-indian-institute-of-technology-madras/fashion_mnist_hp_search/sweeps/vhbqpquu</a>"
      ],
      "text/plain": [
       "<IPython.core.display.HTML object>"
      ]
     },
     "metadata": {},
     "output_type": "display_data"
    },
    {
     "data": {
      "text/html": [
       " View run at <a href='https://wandb.ai/bullseye2608-indian-institute-of-technology-madras/fashion_mnist_hp_search/runs/xhj05fg2' target=\"_blank\">https://wandb.ai/bullseye2608-indian-institute-of-technology-madras/fashion_mnist_hp_search/runs/xhj05fg2</a>"
      ],
      "text/plain": [
       "<IPython.core.display.HTML object>"
      ]
     },
     "metadata": {},
     "output_type": "display_data"
    },
    {
     "name": "stdout",
     "output_type": "stream",
     "text": [
      "Test Accuracy: 0.8662\n"
     ]
    },
    {
     "data": {
      "text/html": [],
      "text/plain": [
       "<IPython.core.display.HTML object>"
      ]
     },
     "metadata": {},
     "output_type": "display_data"
    }
   ],
   "source": [
    "# Continue the sweep\n",
    "\n",
    "sweep_id_cont = \"bullseye2608-indian-institute-of-technology-madras/fashion_mnist_hp_search/vhbqpquu\"\n",
    "\n",
    "wandb.agent(sweep_id_cont, wandb_sweep_helper_function, count=150)"
   ]
  },
  {
   "cell_type": "code",
   "execution_count": null,
   "metadata": {},
   "outputs": [],
   "source": []
  }
 ],
 "metadata": {
  "kernelspec": {
   "display_name": "RL",
   "language": "python",
   "name": "python3"
  },
  "language_info": {
   "codemirror_mode": {
    "name": "ipython",
    "version": 3
   },
   "file_extension": ".py",
   "mimetype": "text/x-python",
   "name": "python",
   "nbconvert_exporter": "python",
   "pygments_lexer": "ipython3",
   "version": "3.10.14"
  }
 },
 "nbformat": 4,
 "nbformat_minor": 2
}
