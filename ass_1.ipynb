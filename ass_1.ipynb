{
 "cells": [
  {
   "cell_type": "code",
   "execution_count": 6,
   "metadata": {},
   "outputs": [],
   "source": [
    "import numpy as np\n",
    "import pandas as pd\n",
    "import wandb\n",
    "import datetime\n",
    "from keras.datasets import fashion_mnist"
   ]
  },
  {
   "cell_type": "code",
   "execution_count": 7,
   "metadata": {},
   "outputs": [
    {
     "data": {
      "text/plain": [
       "True"
      ]
     },
     "execution_count": 7,
     "metadata": {},
     "output_type": "execute_result"
    }
   ],
   "source": [
    "wandb.login()"
   ]
  },
  {
   "cell_type": "code",
   "execution_count": 8,
   "metadata": {},
   "outputs": [],
   "source": [
    "# Load the Fashion MNIST dataset\n",
    "(x_train, y_train), (x_test, y_test) = fashion_mnist.load_data()\n",
    "\n",
    "class_names = ['T-shirt/top', 'Trouser', 'Pullover', 'Dress', 'Coat', \n",
    "               'Sandal', 'Shirt', 'Sneaker', 'Bag', 'Ankle boot']\n",
    "\n",
    "x_train_flat = x_train.reshape(x_train.shape[0], -1)\n",
    "train_df = pd.DataFrame(x_train_flat)\n",
    "train_df['label'] = y_train\n",
    "train_df['label_name'] = [class_names[label] for label in y_train]\n",
    "\n",
    "x_test_flat = x_test.reshape(x_test.shape[0], -1)\n",
    "test_df = pd.DataFrame(x_test_flat)\n",
    "test_df['label'] = y_test\n",
    "test_df['label_name'] = [class_names[label] for label in y_test]"
   ]
  },
  {
   "cell_type": "code",
   "execution_count": 18,
   "metadata": {},
   "outputs": [
    {
     "name": "stdout",
     "output_type": "stream",
     "text": [
      "Training set shape: (60000, 786)\n",
      "Test set shape: (10000, 786)\n"
     ]
    }
   ],
   "source": [
    "print(f\"Training set shape: {train_df.shape}\")\n",
    "print(f\"Test set shape: {test_df.shape}\")"
   ]
  },
  {
   "cell_type": "code",
   "execution_count": 22,
   "metadata": {},
   "outputs": [
    {
     "data": {
      "text/html": [
       "Tracking run with wandb version 0.19.7"
      ],
      "text/plain": [
       "<IPython.core.display.HTML object>"
      ]
     },
     "metadata": {},
     "output_type": "display_data"
    },
    {
     "data": {
      "text/html": [
       "Run data is saved locally in <code>c:\\Users\\DELL\\Desktop\\Coding\\Python\\DL\\wandb\\run-20250227_143421-gldmcjgh</code>"
      ],
      "text/plain": [
       "<IPython.core.display.HTML object>"
      ]
     },
     "metadata": {},
     "output_type": "display_data"
    },
    {
     "data": {
      "text/html": [
       "Syncing run <strong><a href='https://wandb.ai/bullseye2608-indian-institute-of-technology-madras/my-awesome-project/runs/gldmcjgh' target=\"_blank\">ImageExamples_2025-02-27 14:34:21</a></strong> to <a href='https://wandb.ai/bullseye2608-indian-institute-of-technology-madras/my-awesome-project' target=\"_blank\">Weights & Biases</a> (<a href='https://wandb.me/developer-guide' target=\"_blank\">docs</a>)<br>"
      ],
      "text/plain": [
       "<IPython.core.display.HTML object>"
      ]
     },
     "metadata": {},
     "output_type": "display_data"
    },
    {
     "data": {
      "text/html": [
       " View project at <a href='https://wandb.ai/bullseye2608-indian-institute-of-technology-madras/my-awesome-project' target=\"_blank\">https://wandb.ai/bullseye2608-indian-institute-of-technology-madras/my-awesome-project</a>"
      ],
      "text/plain": [
       "<IPython.core.display.HTML object>"
      ]
     },
     "metadata": {},
     "output_type": "display_data"
    },
    {
     "data": {
      "text/html": [
       " View run at <a href='https://wandb.ai/bullseye2608-indian-institute-of-technology-madras/my-awesome-project/runs/gldmcjgh' target=\"_blank\">https://wandb.ai/bullseye2608-indian-institute-of-technology-madras/my-awesome-project/runs/gldmcjgh</a>"
      ],
      "text/plain": [
       "<IPython.core.display.HTML object>"
      ]
     },
     "metadata": {},
     "output_type": "display_data"
    },
    {
     "data": {
      "text/html": [],
      "text/plain": [
       "<IPython.core.display.HTML object>"
      ]
     },
     "metadata": {},
     "output_type": "display_data"
    },
    {
     "data": {
      "text/html": [
       " View run <strong style=\"color:#cdcd00\">ImageExamples_2025-02-27 14:34:21</strong> at: <a href='https://wandb.ai/bullseye2608-indian-institute-of-technology-madras/my-awesome-project/runs/gldmcjgh' target=\"_blank\">https://wandb.ai/bullseye2608-indian-institute-of-technology-madras/my-awesome-project/runs/gldmcjgh</a><br> View project at: <a href='https://wandb.ai/bullseye2608-indian-institute-of-technology-madras/my-awesome-project' target=\"_blank\">https://wandb.ai/bullseye2608-indian-institute-of-technology-madras/my-awesome-project</a><br>Synced 5 W&B file(s), 10 media file(s), 0 artifact file(s) and 0 other file(s)"
      ],
      "text/plain": [
       "<IPython.core.display.HTML object>"
      ]
     },
     "metadata": {},
     "output_type": "display_data"
    },
    {
     "data": {
      "text/html": [
       "Find logs at: <code>.\\wandb\\run-20250227_143421-gldmcjgh\\logs</code>"
      ],
      "text/plain": [
       "<IPython.core.display.HTML object>"
      ]
     },
     "metadata": {},
     "output_type": "display_data"
    }
   ],
   "source": [
    "# Initialize a W&B run\n",
    "wandb.init(\n",
    "    entity=\"bullseye2608-indian-institute-of-technology-madras\",\n",
    "    \n",
    "    project=\"my-awesome-project\", \n",
    "    \n",
    "    name=\"ImageExamples_\"+datetime.datetime.now().strftime('%Y-%m-%d %H:%M:%S'),\n",
    "    )\n",
    "\n",
    "# Log images to W&B\n",
    "wandb.log({\n",
    "    \"fashion_mnist_samples\": [\n",
    "        wandb.Image(x_train_flat[np.where(y_train == i)[0][0]].reshape(28,28), caption=class_names[i])\n",
    "        for i in range(10)\n",
    "    ]\n",
    "})\n",
    "\n",
    "wandb.finish()\n"
   ]
  },
  {
   "cell_type": "code",
   "execution_count": 71,
   "metadata": {},
   "outputs": [],
   "source": [
    "def initialise_neural_network(input_size=784, num_hidden_layers=1, num_neurons=32, output_size=10):\n",
    "    assert num_hidden_layers > 0\n",
    "    assert num_neurons > 0\n",
    "    next_size = [input_size] + [num_neurons] * num_hidden_layers + [output_size]\n",
    "    weights = []\n",
    "    biases = []\n",
    "    for i in range(1, len(next_size)):\n",
    "        weights.append(np.random.uniform(-0.5, 0.5, (next_size[i], next_size[i-1])))\n",
    "        biases.append(np.zeros(next_size[i]))\n",
    "    \n",
    "    return [*weights, *biases]\n",
    "\n",
    "def sigmoid(x):\n",
    "    # For positive values, use standard formula\n",
    "    # For negative values, use a mathematically equivalent but more stable form\n",
    "    mask = x >= 0\n",
    "    result = np.zeros_like(x, dtype=float)\n",
    "    \n",
    "    # For positive inputs: 1/(1+exp(-x))\n",
    "    result[mask] = 1 / (1 + np.exp(-x[mask]))\n",
    "    \n",
    "    # For negative inputs: exp(x)/(1+exp(x))\n",
    "    # This avoids computing exp of large positive numbers\n",
    "    exp_x = np.exp(x[~mask])\n",
    "    result[~mask] = exp_x / (1 + exp_x)\n",
    "    \n",
    "    return result\n",
    "\n",
    "def softmax(x, tau=1.0):\n",
    "    # Subtract the max value to avoid overflow\n",
    "    x = x - np.max(x)\n",
    "    exp_x = np.exp(x / tau)\n",
    "    return exp_x / np.sum(exp_x)\n",
    "\n",
    "def cross_entropy_loss(predictions, targets):\n",
    "    return -np.sum(targets * np.log(predictions))\n",
    "\n",
    "def cross_entropy_loss_gradient(predictions, targets):\n",
    "    return predictions - targets\n",
    "\n",
    "def forward_propagation(input_data, theta, tau):\n",
    "    L = len(theta) // 2\n",
    "    a, h = [], []\n",
    "    h_temp = input_data\n",
    "    \n",
    "    for i in range(1,L):\n",
    "        a_temp = np.dot(theta[i-1], h_temp) + theta[L+i-1]\n",
    "        h_temp = sigmoid(a_temp)\n",
    "        a.append(a_temp)\n",
    "        h.append(h_temp)\n",
    "    \n",
    "    a_temp = np.dot(theta[L-1], h[-1]) + theta[-1]\n",
    "    h_temp = softmax(a_temp, tau)\n",
    "    a.append(a_temp)\n",
    "    h.append(h_temp)\n",
    "    \n",
    "    return a, h\n",
    "\n",
    "def predict_neural_network(input_data, theta, tau):\n",
    "    L = len(theta) // 2\n",
    "    weights = theta[:L]\n",
    "    biases = theta[L:]\n",
    "    x = input_data\n",
    "    for i in range(len(weights)):\n",
    "        x = np.dot(weights[i], x) + biases[i]\n",
    "        x = sigmoid(x)\n",
    "        \n",
    "    x = softmax(x, tau)\n",
    "    return x"
   ]
  },
  {
   "cell_type": "code",
   "execution_count": 83,
   "metadata": {},
   "outputs": [
    {
     "data": {
      "text/plain": [
       "array([0.06332199, 0.15629137, 0.03677306, 0.03761336, 0.07812488,\n",
       "       0.05733909, 0.0710442 , 0.10348283, 0.15402127, 0.24198796])"
      ]
     },
     "execution_count": 83,
     "metadata": {},
     "output_type": "execute_result"
    }
   ],
   "source": [
    "theta = initialise_neural_network(input_size=784, num_hidden_layers=2, num_neurons=32, output_size=10)\n",
    "a, h = forward_propagation(x_train_flat[0], theta, tau=1.0)\n",
    "h[-1]"
   ]
  },
  {
   "cell_type": "code",
   "execution_count": 66,
   "metadata": {},
   "outputs": [
    {
     "data": {
      "text/plain": [
       "(32, 784)"
      ]
     },
     "execution_count": 66,
     "metadata": {},
     "output_type": "execute_result"
    }
   ],
   "source": [
    "theta[0].shape"
   ]
  },
  {
   "cell_type": "code",
   "execution_count": 52,
   "metadata": {},
   "outputs": [
    {
     "data": {
      "text/plain": [
       "array([1, 2, 3])"
      ]
     },
     "execution_count": 52,
     "metadata": {},
     "output_type": "execute_result"
    }
   ],
   "source": [
    "a = np.array([1,2,3])\n",
    "a"
   ]
  },
  {
   "cell_type": "code",
   "execution_count": 55,
   "metadata": {},
   "outputs": [],
   "source": [
    "# add an element to a\n",
    "a = np.append(a, 4)"
   ]
  },
  {
   "cell_type": "code",
   "execution_count": 56,
   "metadata": {},
   "outputs": [
    {
     "data": {
      "text/plain": [
       "array([1, 2, 3, 4])"
      ]
     },
     "execution_count": 56,
     "metadata": {},
     "output_type": "execute_result"
    }
   ],
   "source": [
    "a"
   ]
  },
  {
   "cell_type": "code",
   "execution_count": null,
   "metadata": {},
   "outputs": [],
   "source": []
  }
 ],
 "metadata": {
  "kernelspec": {
   "display_name": "RL",
   "language": "python",
   "name": "python3"
  },
  "language_info": {
   "codemirror_mode": {
    "name": "ipython",
    "version": 3
   },
   "file_extension": ".py",
   "mimetype": "text/x-python",
   "name": "python",
   "nbconvert_exporter": "python",
   "pygments_lexer": "ipython3",
   "version": "3.10.14"
  }
 },
 "nbformat": 4,
 "nbformat_minor": 2
}
